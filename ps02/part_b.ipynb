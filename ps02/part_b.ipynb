{
 "cells": [
  {
   "cell_type": "markdown",
   "metadata": {},
   "source": [
    "# CPSC 4300/6300-001 Applied Data Science (Fall 2020)\n",
    "\n",
    "Before you turn this problem in, make sure everything runs as expected. First, **restart the kernel** (in the menubar, select Kernel$\\rightarrow$Restart) and then **run all cells** (in the menubar, select Cell$\\rightarrow$Run All).\n",
    "\n",
    "Make sure you fill in any place that says `YOUR CODE HERE` or \"YOUR ANSWER HERE\", as well as your name and collaborators below:"
   ]
  },
  {
   "cell_type": "code",
   "execution_count": null,
   "metadata": {},
   "outputs": [],
   "source": [
    "NAME = \"\"\n",
    "COLLABORATORS = \"\""
   ]
  },
  {
   "cell_type": "markdown",
   "metadata": {
    "deletable": false,
    "editable": false,
    "nbgrader": {
     "cell_type": "markdown",
     "checksum": "8c45074d5e4287b100290ce5d1554971",
     "grade": false,
     "grade_id": "cell-66e0181a8d42fc3a",
     "locked": true,
     "schema_version": 3,
     "solution": false,
     "task": false
    }
   },
   "source": [
    "# CPSC4300/6300-001 Problem Set #2\n"
   ]
  },
  {
   "cell_type": "markdown",
   "metadata": {
    "deletable": false,
    "editable": false,
    "nbgrader": {
     "cell_type": "markdown",
     "checksum": "d197cf9d0c08a9459ccf0ddcf38e4a55",
     "grade": false,
     "grade_id": "cell-e4f9b8d84b0f574f",
     "locked": true,
     "schema_version": 3,
     "solution": false,
     "task": false
    }
   },
   "source": [
    "# Part B: Analyzing Time Series  Data\n",
    "\n",
    "\n",
    "## Introduction\n",
    "\n",
    "The Python data science software stack have a wide range of applications in financial analysis, ranging from historical stock data analysis, correlation between search data with trends in stock prices, algorithmic trading, options modeling, portfolio risk analysis, and many others. In this notebook, you will build a dashboard for stock charting and analysis.\n",
    "\n",
    "__Warnings:__ This intention of this notebook is to provide a hand-on exercise to develop data science skills. You shall not use the tools for actual stock trading, which involves very high risk of financial loss."
   ]
  },
  {
   "cell_type": "markdown",
   "metadata": {
    "deletable": false,
    "editable": false,
    "nbgrader": {
     "cell_type": "markdown",
     "checksum": "74d7a7dd5fe544acd3fb05061c037b61",
     "grade": false,
     "grade_id": "cell-ee91095650112d1d",
     "locked": true,
     "schema_version": 3,
     "solution": false,
     "task": false
    }
   },
   "source": [
    "## Set up the environment"
   ]
  },
  {
   "cell_type": "code",
   "execution_count": 1,
   "metadata": {
    "deletable": false,
    "editable": false,
    "nbgrader": {
     "cell_type": "code",
     "checksum": "88170a1d57f0986b38dcc95692745e98",
     "grade": false,
     "grade_id": "cell-1d55049ad4918f7e",
     "locked": true,
     "schema_version": 3,
     "solution": false,
     "task": false
    }
   },
   "outputs": [
    {
     "ename": "ModuleNotFoundError",
     "evalue": "No module named 'mplfinance'",
     "output_type": "error",
     "traceback": [
      "\u001b[0;31m---------------------------------------------------------------------------\u001b[0m",
      "\u001b[0;31mModuleNotFoundError\u001b[0m                       Traceback (most recent call last)",
      "\u001b[0;32m<ipython-input-1-a77ee16998ba>\u001b[0m in \u001b[0;36m<module>\u001b[0;34m\u001b[0m\n\u001b[1;32m      4\u001b[0m \u001b[0;32mimport\u001b[0m \u001b[0mmatplotlib\u001b[0m\u001b[0;34m.\u001b[0m\u001b[0mpyplot\u001b[0m \u001b[0;32mas\u001b[0m \u001b[0mplt\u001b[0m\u001b[0;34m\u001b[0m\u001b[0;34m\u001b[0m\u001b[0m\n\u001b[1;32m      5\u001b[0m \u001b[0;32mimport\u001b[0m \u001b[0mseaborn\u001b[0m \u001b[0;32mas\u001b[0m \u001b[0msns\u001b[0m\u001b[0;34m\u001b[0m\u001b[0;34m\u001b[0m\u001b[0m\n\u001b[0;32m----> 6\u001b[0;31m \u001b[0;32mimport\u001b[0m \u001b[0mmplfinance\u001b[0m \u001b[0;32mas\u001b[0m \u001b[0mmpf\u001b[0m\u001b[0;34m\u001b[0m\u001b[0;34m\u001b[0m\u001b[0m\n\u001b[0m\u001b[1;32m      7\u001b[0m \u001b[0;34m\u001b[0m\u001b[0m\n\u001b[1;32m      8\u001b[0m \u001b[0mget_ipython\u001b[0m\u001b[0;34m(\u001b[0m\u001b[0;34m)\u001b[0m\u001b[0;34m.\u001b[0m\u001b[0mrun_line_magic\u001b[0m\u001b[0;34m(\u001b[0m\u001b[0;34m'matplotlib'\u001b[0m\u001b[0;34m,\u001b[0m \u001b[0;34m'inline'\u001b[0m\u001b[0;34m)\u001b[0m\u001b[0;34m\u001b[0m\u001b[0;34m\u001b[0m\u001b[0m\n",
      "\u001b[0;31mModuleNotFoundError\u001b[0m: No module named 'mplfinance'"
     ]
    }
   ],
   "source": [
    "import pandas as pd\n",
    "import numpy as np\n",
    "import datetime\n",
    "import matplotlib.pyplot as plt\n",
    "import seaborn as sns\n",
    "import mplfinance as mpf\n",
    "\n",
    "%matplotlib inline\n",
    "\n",
    "pd.set_option('precision', 4)"
   ]
  },
  {
   "cell_type": "markdown",
   "metadata": {
    "deletable": false,
    "editable": false,
    "nbgrader": {
     "cell_type": "markdown",
     "checksum": "b481297581ac233d6551ae681481b64f",
     "grade": false,
     "grade_id": "cell-ec2b427fdc2a4a64",
     "locked": true,
     "schema_version": 3,
     "solution": false,
     "task": false
    }
   },
   "source": [
    "## Get The data\n",
    "\n",
    "There are numerous sources where you get financial data. One of the most popular sources is Yahoo Finance (https://finance.yahoo.com/). If you are interested in other data sources, you may check the list at the awesome-quant github repo (https://github.com/wilsonfreitas/awesome-quant#data-sources).\n",
    "\n",
    "To fetch data from Yahoo Finance, you can use python modules like `pandas-datareader` (https://pandas-datareader.readthedocs.io/en/latest/index.html), `yfinance` (https://aroussi.com/post/python-yahoo-finance), or others."
   ]
  },
  {
   "cell_type": "markdown",
   "metadata": {
    "deletable": false,
    "editable": false,
    "nbgrader": {
     "cell_type": "markdown",
     "checksum": "66880e1b70a8ce435018c550ee687d3a",
     "grade": false,
     "grade_id": "cell-077d572f1117567e",
     "locked": true,
     "schema_version": 3,
     "solution": false,
     "task": false
    }
   },
   "source": [
    "## Question 1. Download the historical stock prices of the Apple stock. (5 points)\n",
    "\n",
    "1. __Write some python code to download the historical stock prices of `Apple` (stock symbol: `AAPL`) from `January, 1, 2017` to `today`. Save the data into a variable named `stock`.__\n",
    "\n",
    "I suggest that you use the `yfinance` module since it is more convenient to get the Yahoo! Finance data than `pandas-datareader`.\n",
    "\n",
    "You need importing all the required libraries that haven't been imported in your code."
   ]
  },
  {
   "cell_type": "code",
   "execution_count": null,
   "metadata": {
    "deletable": false,
    "nbgrader": {
     "cell_type": "code",
     "checksum": "78eb08125c488fbcc2d26c3d58364907",
     "grade": false,
     "grade_id": "cell-ae0c955edfff9b86",
     "locked": false,
     "schema_version": 3,
     "solution": true,
     "task": false
    }
   },
   "outputs": [],
   "source": [
    "# YOUR CODE HERE\n",
    "raise NotImplementedError()\n",
    "stock.head(3)"
   ]
  },
  {
   "cell_type": "code",
   "execution_count": null,
   "metadata": {
    "deletable": false,
    "editable": false,
    "nbgrader": {
     "cell_type": "code",
     "checksum": "c39b421be29c75fe63b476547dee4995",
     "grade": true,
     "grade_id": "cell-5e7d6bf765403816",
     "locked": true,
     "points": 1,
     "schema_version": 3,
     "solution": false,
     "task": false
    }
   },
   "outputs": [],
   "source": [
    "# test the data is of correct shape\n",
    "assert stock.shape[1] == 6\n",
    "\n",
    "# test the index is of DatetimeIndex\n",
    "assert isinstance (stock.index, pd.DatetimeIndex)"
   ]
  },
  {
   "cell_type": "code",
   "execution_count": null,
   "metadata": {
    "deletable": false,
    "editable": false,
    "nbgrader": {
     "cell_type": "code",
     "checksum": "d2dd8b4e8db5ac6702698ef9546c3435",
     "grade": true,
     "grade_id": "cell-68f4941fb840c5e0",
     "locked": true,
     "points": 2,
     "schema_version": 3,
     "solution": false,
     "task": false
    }
   },
   "outputs": [],
   "source": [
    "# test all required symbols are included \n",
    "cols = ['Open', 'High', 'Low', 'Adj Close', 'Volume']\n",
    "assert all([s in stock.columns for s in cols])"
   ]
  },
  {
   "cell_type": "code",
   "execution_count": null,
   "metadata": {
    "deletable": false,
    "editable": false,
    "nbgrader": {
     "cell_type": "code",
     "checksum": "3335221b39a3cdc2270cc31b48ef55a1",
     "grade": true,
     "grade_id": "cell-708676e1844c8f3e",
     "locked": true,
     "points": 2,
     "schema_version": 3,
     "solution": false,
     "task": false
    }
   },
   "outputs": [],
   "source": [
    "# test the date range in correct range\n",
    "start, end, today = stock.index.min(), stock.index.max(), datetime.date.today()\n",
    "assert start-pd.Timestamp(2017, 1,1) <= pd.Timedelta(days=4)\n",
    "assert pd.Timestamp(today.year, today.month, today.day) - end  <= pd.Timedelta(days=4)"
   ]
  },
  {
   "cell_type": "markdown",
   "metadata": {},
   "source": [
    "## Preprocess The Data"
   ]
  },
  {
   "cell_type": "markdown",
   "metadata": {},
   "source": [
    "## Question 2. Calculate the simple returns using the adjusted closed price. (5 points)\n",
    "\n",
    "Stock prices are usually non-stationary: their statistics, such as mean and variance change over time. By transforming the prices into returns, we attempt to make the time series stationary, which is a desired property in statistical modeling.\n",
    "\n",
    "There are two types of returns: simple returns and log returns. Simple returns aggregate over assets. The simple return of a portfolio is the weighted sum of the returns of the individual assets in the portfolio. Simple returns are defined as:\n",
    "\n",
    "$$ R_t = \\frac{P_t - P_{t-1}}{P_{t-1}} = \\frac{P_{t}}{P_{t-1}} - 1 $$\n",
    "\n",
    "1. __Save the `Adj Close` price of the `AAPL` into a temporary DataFrame named `df`. Compute the simply returns of the adjusted closed price and add it to the `df` DataFrame. Name the two columns in `df` as `adj_close` and `simple_return`.__ (5 points)\n",
    "\n",
    "Hint: you can use the `pct_change` method of a DataFrame to compute the simple returns."
   ]
  },
  {
   "cell_type": "code",
   "execution_count": null,
   "metadata": {
    "deletable": false,
    "nbgrader": {
     "cell_type": "code",
     "checksum": "7fc5eb9d1d065f16af21d253a2a6630e",
     "grade": false,
     "grade_id": "cell-3b9f18b352d65bfb",
     "locked": false,
     "schema_version": 3,
     "solution": true,
     "task": false
    }
   },
   "outputs": [],
   "source": [
    "# YOUR CODE HERE\n",
    "raise NotImplementedError()\n",
    "df.head()"
   ]
  },
  {
   "cell_type": "code",
   "execution_count": null,
   "metadata": {
    "deletable": false,
    "editable": false,
    "nbgrader": {
     "cell_type": "code",
     "checksum": "7940900b6af71e1c3e4cd97a4d49e8c9",
     "grade": true,
     "grade_id": "cell-b8af2d3d5304a5f2",
     "locked": true,
     "points": 2,
     "schema_version": 3,
     "solution": false,
     "task": false
    }
   },
   "outputs": [],
   "source": [
    "# test the dataframe has the required columns\n",
    "assert all([c in df.columns for c in ['adj_close', 'simple_return']])"
   ]
  },
  {
   "cell_type": "code",
   "execution_count": null,
   "metadata": {
    "deletable": false,
    "editable": false,
    "nbgrader": {
     "cell_type": "code",
     "checksum": "e6ec187ec3f2a6a5f5b3b4faa4e64185",
     "grade": true,
     "grade_id": "cell-f5c2bb6c0d399de6",
     "locked": true,
     "points": 1,
     "schema_version": 3,
     "solution": false,
     "task": false
    }
   },
   "outputs": [],
   "source": [
    "# verify that the first entry of the `simple_return` is of expected value \n",
    "assert np.isnan(df.simple_return[0])"
   ]
  },
  {
   "cell_type": "code",
   "execution_count": null,
   "metadata": {
    "deletable": false,
    "editable": false,
    "nbgrader": {
     "cell_type": "code",
     "checksum": "0d91f4fea4d7f27771b1e38c8a5d1fdd",
     "grade": true,
     "grade_id": "cell-5cf4e4701063a455",
     "locked": true,
     "points": 2,
     "schema_version": 3,
     "solution": false,
     "task": false
    }
   },
   "outputs": [],
   "source": [
    "# verify the correct relation between adj_close and simple_return\n",
    "assert all(abs(df.adj_close[i] + df.adj_close[i] * df.simple_return[i+1] - df.adj_close[i+1]) <= 1e-4 \\\n",
    "           for i in range(2, len(df)-5))"
   ]
  },
  {
   "cell_type": "markdown",
   "metadata": {
    "deletable": false,
    "editable": false,
    "nbgrader": {
     "cell_type": "markdown",
     "checksum": "25414e1292b7fc1b9ab5b7fc5f9d8839",
     "grade": false,
     "grade_id": "cell-b194a3931ef5b9d4",
     "locked": true,
     "schema_version": 3,
     "solution": false,
     "task": false
    }
   },
   "source": [
    "## Visualize Time Series"
   ]
  },
  {
   "cell_type": "markdown",
   "metadata": {
    "deletable": false,
    "editable": false,
    "nbgrader": {
     "cell_type": "markdown",
     "checksum": "2713145240c42110d940c03222d540aa",
     "grade": false,
     "grade_id": "cell-482c9f6e1eb126d1",
     "locked": true,
     "schema_version": 3,
     "solution": false,
     "task": false
    }
   },
   "source": [
    "## Question 3. Plot the historical stock prices and simply returns. (5 points)\n",
    "\n",
    "Plot the stock prices and simple returns of the Apple stock. A sample figure may look like the figure below:\n",
    "![Example Stock Price Chart](https://www.palmetto.clemson.edu/dsci/figures/ps02b_aapl.png)"
   ]
  },
  {
   "cell_type": "code",
   "execution_count": null,
   "metadata": {
    "deletable": false,
    "nbgrader": {
     "cell_type": "code",
     "checksum": "36b1e3ccc3fd2f3f2fb67b02bcedef8a",
     "grade": true,
     "grade_id": "cell-3afbe4fbdd9867df",
     "locked": false,
     "points": 5,
     "schema_version": 3,
     "solution": true,
     "task": false
    }
   },
   "outputs": [],
   "source": [
    "# YOUR CODE HERE\n",
    "raise NotImplementedError()"
   ]
  },
  {
   "cell_type": "markdown",
   "metadata": {
    "deletable": false,
    "editable": false,
    "nbgrader": {
     "cell_type": "markdown",
     "checksum": "dcabe6cb3d08bf5eb56701517535573a",
     "grade": false,
     "grade_id": "cell-9791cfaf4b058710",
     "locked": true,
     "schema_version": 3,
     "solution": false,
     "task": false
    }
   },
   "source": [
    "### Plot with the mplfinance utilties\n",
    "\n",
    "Like `seaborn`, people have developed plotting utilities on top of `pandas` and `matplotlib` to makes it easier to create domain-specific plots. For financial plots, a popular package is `mplfinance` (https://github.com/matplotlib/mplfinance)."
   ]
  },
  {
   "cell_type": "markdown",
   "metadata": {
    "deletable": false,
    "editable": false,
    "nbgrader": {
     "cell_type": "markdown",
     "checksum": "afe76d0a5ad749b2ab1a074c66ba89b9",
     "grade": false,
     "grade_id": "cell-d2152b3f261cca34",
     "locked": true,
     "schema_version": 3,
     "solution": false,
     "task": false
    }
   },
   "source": [
    "## Question 4. Plot the apple stock prices in the past three months. (10 points)\n",
    "\n",
    "Use the `mplfinance` to create a plot of the past 92 days of the apple stock prices, volumes, and 10-day moving average. Your figure may look like the following figure. \n",
    "![Example MPL Finance Figure](https://www.palmetto.clemson.edu/dsci/figures/ps02b_mplfinance.png)"
   ]
  },
  {
   "cell_type": "code",
   "execution_count": null,
   "metadata": {
    "deletable": false,
    "nbgrader": {
     "cell_type": "code",
     "checksum": "a5dd19288ad52a0233d4c5dc6db33adc",
     "grade": true,
     "grade_id": "cell-84fc626853c0c6db",
     "locked": false,
     "points": 10,
     "schema_version": 3,
     "solution": true,
     "task": false
    }
   },
   "outputs": [],
   "source": [
    "# YOUR CODE HERE\n",
    "raise NotImplementedError()"
   ]
  },
  {
   "cell_type": "markdown",
   "metadata": {
    "deletable": false,
    "editable": false,
    "nbgrader": {
     "cell_type": "markdown",
     "checksum": "41d03ae73e5ee8f3cd1ed65bcc378e5d",
     "grade": false,
     "grade_id": "cell-62a500785a198d6e",
     "locked": true,
     "schema_version": 3,
     "solution": false,
     "task": false
    }
   },
   "source": [
    "## Analyze Data: Identify Peaks and Troughs \n",
    "\n",
    "Peaks and troughs are patterns that are developed by the price action experienced by all securities. Identifying peaks and toughs is the cornerstone in stocking trend determination and technical analysis. As a general rule, higher peaks and higher troughs mean the market is going up, and will likely continue. Conversely, lower peaks and lower troughs mean the market is going down, and will likely continue.\n",
    "\n",
    "Suppose we define a peak as an adjusted close price which is higher than both the `m` prior adjusted close prices and m succeeding adjusted close prices and a trough as the adjusted close price which is lower than itsm `m` prior and `m` succeeding adjusted close prices. Mathematically, we have the following definition:\n",
    "\n",
    "$$peak(P_{t}) == True~iff~P_{t} >= P_{t+i}~\\forall~i \\in [-m, m]$$\n",
    "\n",
    "$$trough(P_{t}) == True~iff~P_{t} <= P_{t+i}~\\forall~i \\in [-m, m]$$\n",
    "\n",
    "\n",
    "Write some code find all the peaks and troughs of the Apple stock prices and plot those points on a stock chart figure like the one you created in Question 3. An example figure is shown as below:\n",
    "\n",
    "![Example Figure](https://www.palmetto.clemson.edu/dsci/figures/ps02b_math_peaks.png)\n",
    "\n",
    "\n",
    "### Question 5. Identify peaks and troughs (20 points)"
   ]
  },
  {
   "cell_type": "markdown",
   "metadata": {
    "deletable": false,
    "editable": false,
    "nbgrader": {
     "cell_type": "markdown",
     "checksum": "2fac14c7683ee03a73198cac85192ec7",
     "grade": false,
     "grade_id": "cell-e34ed769a088c518",
     "locked": true,
     "schema_version": 3,
     "solution": false,
     "task": false
    }
   },
   "source": [
    "1. __Implement the function get_troughs() to find all the troughs of the Apple stock's adjusted close price.__ (5 points)\n",
    "\n",
    "To help you start, we have provided a naive implementation of the `get_peaks` function. "
   ]
  },
  {
   "cell_type": "code",
   "execution_count": null,
   "metadata": {
    "deletable": false,
    "nbgrader": {
     "cell_type": "code",
     "checksum": "1a696a334a098af90d83f6c56fbb1787",
     "grade": false,
     "grade_id": "cell-801f14be6819ccef",
     "locked": false,
     "schema_version": 3,
     "solution": true,
     "task": false
    }
   },
   "outputs": [],
   "source": [
    "def get_peaks(s, m=10):\n",
    "    \"\"\"get_peaks finds the peaks of a Time Series s\"\"\"\n",
    "    p = s.values\n",
    "    is_peak = np.full(len(p), False)\n",
    "    for i in range(m, len(p)-m-1):\n",
    "        ni = range(i-m, i+m+1)\n",
    "        is_peak[i] = all(p[i] >= p[ni])\n",
    "    return is_peak\n",
    "\n",
    "# YOUR CODE HERE\n",
    "raise NotImplementedError()\n",
    "\n",
    "df = stock.loc[:, ['Adj Close']]\n",
    "df.rename(columns={'Adj Close':'adj_close'}, inplace=True)\n",
    "df = df.assign(peak=get_peaks(df.adj_close, 10))\n",
    "peaks = df[df.peak].adj_close\n",
    "\n",
    "df = df.assign(trough=get_troughs(df.adj_close, 10))\n",
    "troughs = df[df.trough].adj_close"
   ]
  },
  {
   "cell_type": "code",
   "execution_count": null,
   "metadata": {
    "deletable": false,
    "editable": false,
    "nbgrader": {
     "cell_type": "code",
     "checksum": "1deb2981d61732e733a1b61302604c7e",
     "grade": true,
     "grade_id": "cell-315834b1b97254c0",
     "locked": true,
     "points": 5,
     "schema_version": 3,
     "solution": false,
     "task": false
    }
   },
   "outputs": [],
   "source": [
    "troughs\n",
    "import random as rnd\n",
    "rnd.seed(10)\n",
    "n = rnd.randint(0, len(troughs))\n",
    "date, price = troughs.index[n], troughs.values[n]\n",
    "print(date, price)\n",
    "print(stock[stock.index > date].head(5)['Adj Close'].values)\n",
    "assert all(stock[stock.index > date].head(5)['Adj Close'].values >= price)\n",
    "print(stock[stock.index < date].tail(5)['Adj Close'].values)\n",
    "assert all(stock[stock.index > date].head(5)['Adj Close'].values >= price)"
   ]
  },
  {
   "cell_type": "markdown",
   "metadata": {},
   "source": [
    "2. __Plot the peaks and troughs on a stock chart as the one shown above Question 5.__ (5 points)"
   ]
  },
  {
   "cell_type": "code",
   "execution_count": null,
   "metadata": {
    "deletable": false,
    "nbgrader": {
     "cell_type": "code",
     "checksum": "b321e7be02d0d7f6cff3b9ac48c1d970",
     "grade": true,
     "grade_id": "cell-e8a7f4004527dcd2",
     "locked": false,
     "points": 5,
     "schema_version": 3,
     "solution": true,
     "task": false
    }
   },
   "outputs": [],
   "source": [
    "fig, ax = plt.subplots(1, 1, figsize=(15, 10), sharex=False)\n",
    "# YOUR CODE HERE\n",
    "raise NotImplementedError()"
   ]
  },
  {
   "cell_type": "markdown",
   "metadata": {
    "deletable": false,
    "editable": false,
    "nbgrader": {
     "cell_type": "markdown",
     "checksum": "8f44c20e298eada70e519e428b61fe8b",
     "grade": false,
     "grade_id": "cell-8e6ecfe1241f99dc",
     "locked": true,
     "schema_version": 3,
     "solution": false,
     "task": false
    }
   },
   "source": [
    "From the plot in Figure 5, you may notice that some of the peaks are local peaks and probably should not be counted as true peaks. For example, the peak price of 42.62 on 2019-02-06 for Apple stock is just a temporary pause of the stock price when it reached 52.02 on 2019-05-03. The same observation also goes to the troughs.\n",
    "\n",
    "By changing the intervals of which a peak or trough is found, you may be able to remove some of the \"false\" peaks. But changing the intervals doesn't change the overall weakness of a simple peak identification algorithm.\n",
    "\n",
    "One possible solution is that we introduce a set of rules for \"true\" peaks and troughs. For example, we may define a \"true\" peaks as a local peak defined in Question 5 but with the following filters:\n",
    "\n",
    "A local peak $P_i$ is not a \"true\" peak if either of the following conditions meet:\n",
    "\n",
    "   a. There is no trough between the next local peak $P_{i+j}$ and $P_{i} \\lt P_{i+j}$ $\\forall~j~\\in [1, K-i]$ where $k$ is the total number of peaks.\n",
    "   \n",
    "   b. If there exists a trough $T_{k}$ between $P_{i}$ and $p_{j}$, and $P_{i} - T_{k} < \\alpha P{i}$, then $T_{k}$ is not treated as a trough in a. Here $\\alpha$ is a faction of price decrease, for example, $\\alpha = 0.1$.   \n",
    "\n",
    "We provide a `find_true_peaks()` function for finding the \"true_peaks\" and a code segment that finds the \"true troughs\"."
   ]
  },
  {
   "cell_type": "code",
   "execution_count": null,
   "metadata": {
    "deletable": false,
    "editable": false,
    "nbgrader": {
     "cell_type": "code",
     "checksum": "097ffbd8a19a3b438faf832f878a6638",
     "grade": false,
     "grade_id": "cell-997420fe322db59d",
     "locked": true,
     "schema_version": 3,
     "solution": false,
     "task": false
    }
   },
   "outputs": [],
   "source": [
    "def find_true_peaks(peaks, troughs, alpha=0.10):\n",
    "    is_true_peaks = np.full(len(peaks), False)\n",
    "    for i, peak_i in enumerate(peaks):\n",
    "        is_true_peak = True\n",
    "        # print(i, peaks.index[i], peak_i)\n",
    "        for d_j, peak_j in peaks[i+1:].items():\n",
    "            # print(\"\\t\", d_j, peak_j)\n",
    "            has_trough = False\n",
    "            for d, trough in troughs[troughs.index > peaks.index[i]].items():\n",
    "                if d > d_j:\n",
    "                    break\n",
    "                # print(\"\\t\\t\\t\", d, trough, (peak_i - trough) / peak_i)\n",
    "                if peak_i - trough > alpha * peak_i:\n",
    "                    has_trough = True\n",
    "                    # print(\"\\t\\t\\t*\", d, trough, (peak_i - trough) / peak_i)\n",
    "                    break\n",
    "            if not has_trough and peak_i < peak_j:\n",
    "                is_true_peak = False\n",
    "                break\n",
    "        is_true_peaks[i] = is_true_peak\n",
    "    return peaks[is_true_peaks]"
   ]
  },
  {
   "cell_type": "code",
   "execution_count": null,
   "metadata": {
    "deletable": false,
    "editable": false,
    "nbgrader": {
     "cell_type": "code",
     "checksum": "9897456a19cb00231d734f338d0de3dc",
     "grade": false,
     "grade_id": "cell-eed8666975065548",
     "locked": true,
     "schema_version": 3,
     "solution": false,
     "task": false
    }
   },
   "outputs": [],
   "source": [
    "is_true_troughs = np.full(len(troughs), False)\n",
    "true_peaks = find_true_peaks(peaks, troughs, alpha=0.10)\n",
    "true_troughs_dict = {}\n",
    "for i, value in enumerate(true_peaks):\n",
    "    dp_i, peak_i = true_peaks.index[i], value\n",
    "    # find troughs between two peaks\n",
    "    candidates = troughs[troughs.index > dp_i]\n",
    "    if i < len(true_peaks) - 1:\n",
    "        dp_j = true_peaks.index[i+1]\n",
    "        candidates = candidates[candidates.index < dp_j]\n",
    "    if len(candidates) > 0:\n",
    "        i_min = candidates.argmin()\n",
    "        true_troughs_dict[candidates.index[i_min]] = candidates[i_min]\n",
    "true_troughs = pd.Series(true_troughs_dict)\n",
    "true_troughs"
   ]
  },
  {
   "cell_type": "markdown",
   "metadata": {},
   "source": [
    "3. __Convert the above code segment into a function `find_true_troughs()`.__ (5 points)"
   ]
  },
  {
   "cell_type": "code",
   "execution_count": null,
   "metadata": {
    "deletable": false,
    "nbgrader": {
     "cell_type": "code",
     "checksum": "43ce2c3856aca97b9e1aaefcb956b32b",
     "grade": false,
     "grade_id": "cell-a01c99236307be15",
     "locked": false,
     "schema_version": 3,
     "solution": true,
     "task": false
    }
   },
   "outputs": [],
   "source": [
    "# YOUR CODE HERE\n",
    "raise NotImplementedError()"
   ]
  },
  {
   "cell_type": "code",
   "execution_count": null,
   "metadata": {
    "deletable": false,
    "editable": false,
    "nbgrader": {
     "cell_type": "code",
     "checksum": "dc61a352baa71bae5a09c31acfa18da0",
     "grade": false,
     "grade_id": "cell-124ec73cd6ceacfc",
     "locked": true,
     "schema_version": 3,
     "solution": false,
     "task": false
    }
   },
   "outputs": [],
   "source": [
    "# Use the two functions to find the true peaks and troughs\n",
    "true_peaks = find_true_peaks(peaks, troughs)\n",
    "true_troughs = find_true_troughs(true_peaks, troughs)\n",
    "peaks_and_troughs = true_peaks.append(true_troughs).sort_index()\n",
    "df_peaks_and_troughs = pd.DataFrame({'peaks_and_troughs': peaks_and_troughs})\n",
    "df_peaks_and_troughs['pct_change'] = df_peaks_and_troughs['peaks_and_troughs'].pct_change()\n",
    "df_peaks_and_troughs['date'] = df_peaks_and_troughs.index\n",
    "df_peaks_and_troughs['time_span'] = df_peaks_and_troughs['date'] - df_peaks_and_troughs['date'].shift(1)\n",
    "df_peaks_and_troughs.drop(['date'], axis=1, inplace=True)\n",
    "df_peaks_and_troughs"
   ]
  },
  {
   "cell_type": "code",
   "execution_count": null,
   "metadata": {
    "deletable": false,
    "editable": false,
    "nbgrader": {
     "cell_type": "code",
     "checksum": "41bc5ef0bab0af0655d4f90ef5fa447e",
     "grade": true,
     "grade_id": "cell-ef8633db697d8a0f",
     "locked": true,
     "points": 5,
     "schema_version": 3,
     "solution": false,
     "task": false
    }
   },
   "outputs": [],
   "source": [
    "true_peaks = find_true_peaks(peaks, troughs)\n",
    "true_troughs = find_true_troughs(true_peaks, troughs)\n",
    "peaks_and_troughs = true_peaks.append(true_troughs).sort_index()\n",
    "assert (len(peaks_and_troughs) > 2)\n",
    "if len(peaks_and_troughs) > 2:\n",
    "    if peaks_and_troughs[0] > peaks_and_troughs[1]:\n",
    "        assert(all([peaks_and_troughs[i] > peaks_and_troughs[i+1] for i in range(0, len(peaks_and_troughs)-2, 2)]))\n",
    "    else:        \n",
    "        assert(all([peaks_and_troughs[i] < peaks_and_troughs[i+1] for i in range(0, len(peaks_and_troughs)-2, 2)]))"
   ]
  },
  {
   "cell_type": "markdown",
   "metadata": {},
   "source": [
    "4. __Plot the trendlines that connect true peaks and troughs on the stock price chart. Your figure may look like the one shown below.__ (5 points)\n",
    "\n",
    "![Example Figure](https://www.palmetto.clemson.edu/dsci/figures/ps02b_true_peaks.png)"
   ]
  },
  {
   "cell_type": "code",
   "execution_count": null,
   "metadata": {
    "deletable": false,
    "nbgrader": {
     "cell_type": "code",
     "checksum": "0fa47f37cf85fd27551e0f10e4baba43",
     "grade": true,
     "grade_id": "cell-ad4ce76343d76fca",
     "locked": false,
     "points": 5,
     "schema_version": 3,
     "solution": true,
     "task": false
    }
   },
   "outputs": [],
   "source": [
    "fig, ax = plt.subplots(1, 1, figsize=(15, 10), sharex=False)\n",
    "# YOUR CODE HERE\n",
    "raise NotImplementedError()"
   ]
  },
  {
   "cell_type": "markdown",
   "metadata": {},
   "source": [
    "## Question 6. Identify Outliers\n",
    "\n",
    "When working with a dataset, you may often encounter observations that are significantly different from the majority. We can these observations outliers or anomalies. Many machine learning algorithms and statistical approaches can be influenced by outliers, leading to incorrect/biased results. Therefore, you should handle the outliers before feeding the data into a model.\n",
    "\n",
    "For stock prices, you can identify outliers using the 3-$\\sigma$ approach. In short, an observation is an outlier if its daily simple return is greater than three times the standard variance of the simple returns of $n$-day moving average. One choice of $n$ is 21.\n",
    "\n",
    "1. __Read the code and complete the function `is_outlier()`__. (5 points)"
   ]
  },
  {
   "cell_type": "code",
   "execution_count": null,
   "metadata": {
    "deletable": false,
    "nbgrader": {
     "cell_type": "code",
     "checksum": "84222205585e7d30edc12d02d2d58d8f",
     "grade": true,
     "grade_id": "cell-e118ea5e10a4c97d",
     "locked": false,
     "points": 5,
     "schema_version": 3,
     "solution": true,
     "task": false
    }
   },
   "outputs": [],
   "source": [
    "def is_outlier(row, n_sigma=3):\n",
    "    \"\"\"is_outlier checks if the difference between row's simple_return and row's rolliwng mean is outside the 3-sigma range.\"\"\"\n",
    "# YOUR CODE HERE\n",
    "raise NotImplementedError()\n",
    "\n",
    "df = stock.loc[:, ['Adj Close']]\n",
    "df.rename(columns={'Adj Close':'adj_close'}, inplace=True)\n",
    "df['simple_return'] = df.adj_close.pct_change()\n",
    "\n",
    "df_rolling = df[['simple_return']].rolling(window=21).agg(['mean', 'std'])\n",
    "df_rolling.columns = df_rolling.columns.droplevel()\n",
    "df_outliers = df.join(df_rolling)\n",
    "\n",
    "df_outliers['is_outliers'] = df_outliers.apply(is_outlier, axis=1)\n",
    "outliers = df_outliers[df_outliers['is_outliers']]\n",
    "outliers"
   ]
  },
  {
   "cell_type": "markdown",
   "metadata": {},
   "source": [
    "You can visualize the outlier in a stock chart using the following code segment."
   ]
  },
  {
   "cell_type": "code",
   "execution_count": null,
   "metadata": {},
   "outputs": [],
   "source": [
    "fig, ax = plt.subplots(2, 1, figsize=(15, 10), sharex=True)\n",
    "df.adj_close.plot(ax=ax[0])\n",
    "df.simple_return.plot(ax=ax[1])\n",
    "ax[0].set(title = 'AAPL Stock Prices', xlabel = 'Date', ylabel = 'Stock price ($)')\n",
    "ax[0].scatter(outliers.index, outliers['adj_close'], marker='x', color='r')\n",
    "ax[1].set(title = 'AAPL Simple Returns', xlabel = 'Date', ylabel = 'Simple Returns ($)')\n",
    "_ =  ax[1].scatter(outliers.index, outliers['simple_return'], marker='x', color='r')"
   ]
  },
  {
   "cell_type": "markdown",
   "metadata": {},
   "source": [
    "## Question 7. Technical Analysis (10 points)\n",
    "\n",
    "Technical analysis seeks to predict price movements by examining historical data, mainly price and volume. There are many techniques in technical analysis.\n",
    "\n",
    "In Question 4, you have created a candlestick chart, which describes the movements of a security's the open, high, low, and close prices (OHLC) for any given trading interval (seconds, minutes, hours, days, weeks, or months).\n",
    "\n",
    "Technical analysis often uses indicator or patterns to capture signals for trading decision. One commonly used type of indicators is simple moving average, which calculates the average of a selected range of prices by the number of periods in that range."
   ]
  },
  {
   "cell_type": "markdown",
   "metadata": {},
   "source": [
    "1. __Complete the following code so that the code will plot the 20-, 50-, and 200-day moving average along with adjusted close price.__ (5 points)"
   ]
  },
  {
   "cell_type": "code",
   "execution_count": null,
   "metadata": {
    "deletable": false,
    "nbgrader": {
     "cell_type": "code",
     "checksum": "d6e07fa2f6dd4812838a4fd4f3e3a3ec",
     "grade": true,
     "grade_id": "cell-662dbe9419fdf793",
     "locked": false,
     "points": 5,
     "schema_version": 3,
     "solution": true,
     "task": false
    }
   },
   "outputs": [],
   "source": [
    "fig, ax = plt.subplots(1, 1, figsize=(15, 10), sharex=False)\n",
    "df = pd.DataFrame(stock[['Adj Close']])\n",
    "# YOUR CODE HERE\n",
    "raise NotImplementedError()\n",
    "df.plot(ax=ax)\n",
    "ax.set(title = 'AAPL Stock Prices', xlabel = 'Date', ylabel = 'Stock price ($)')\n",
    "plt.show()"
   ]
  },
  {
   "cell_type": "markdown",
   "metadata": {
    "deletable": false,
    "editable": false,
    "nbgrader": {
     "cell_type": "markdown",
     "checksum": "525eccfaa953fd05eb61853d6981b53c",
     "grade": false,
     "grade_id": "cell-a1d72b6ad50a468c",
     "locked": true,
     "schema_version": 3,
     "solution": false,
     "task": false
    }
   },
   "source": [
    "2. __Based on the chart you have plot in Question 7-1, describe any pattern that may indicate the trend of price movement has reversed (i.e., from price going upward to downward, and vice versa).__ (5 points)"
   ]
  },
  {
   "cell_type": "markdown",
   "metadata": {
    "deletable": false,
    "editable": false,
    "nbgrader": {
     "cell_type": "markdown",
     "checksum": "0e0a5f5618756a115764f60538eb2285",
     "grade": false,
     "grade_id": "cell-52bdca66f43452d2",
     "locked": true,
     "points": 5,
     "schema_version": 3,
     "solution": false,
     "task": true
    }
   },
   "source": [
    "### Type your answer here."
   ]
  },
  {
   "cell_type": "markdown",
   "metadata": {},
   "source": [
    "## Add User Interface\n",
    "\n",
    "After you have developed some impressive functionalities for handing stock data, you want to explore more stocks without changing the code. You also would like to ask you friends to try your first data science \"product\" who doesn't know much about Python gramming.\n",
    "\n",
    "With Jupyter Widget, you can add a User Interface for your code. Below is a simple example illustrating how to add UI in a Jupyter notebook."
   ]
  },
  {
   "cell_type": "code",
   "execution_count": null,
   "metadata": {},
   "outputs": [],
   "source": [
    "from __future__ import print_function\n",
    "from ipywidgets import interact, interactive, fixed, interact_manual\n",
    "import ipywidgets as widgets"
   ]
  },
  {
   "cell_type": "code",
   "execution_count": null,
   "metadata": {},
   "outputs": [],
   "source": [
    "def f(x):\n",
    "    print(\"I like\", x)\n",
    "    \n",
    "interact(f, x=['apples','oranges']);"
   ]
  },
  {
   "cell_type": "markdown",
   "metadata": {},
   "source": [
    "## Question 8. \n",
    "\n",
    "1. __Create a simple UI so that a user can select a stock symbol from a list of predefined stocks to plot a chart like the one you have created in Question 7 for the Apple stock.__ (15 points)\n",
    "\n",
    "For simplicity, you can fix the date range and only allow the user to select the stock symbol from a list of symbols in which you are interested. If you are not familiar with stocks, you can set the list to be ['AAPL','TSLA', 'NVDA', 'AMD', 'WMT', 'QQQQ', 'GOOG', 'FB', 'AMZN']."
   ]
  },
  {
   "cell_type": "code",
   "execution_count": null,
   "metadata": {
    "deletable": false,
    "nbgrader": {
     "cell_type": "code",
     "checksum": "c2f89418c4ce5f572156806b8ae0330f",
     "grade": true,
     "grade_id": "cell-6069b27fcc856673",
     "locked": false,
     "points": 15,
     "schema_version": 3,
     "solution": true,
     "task": false
    }
   },
   "outputs": [],
   "source": [
    "# YOUR CODE HERE\n",
    "raise NotImplementedError()"
   ]
  },
  {
   "cell_type": "markdown",
   "metadata": {},
   "source": [
    "2. __Based on what you have learned in the assignment, which direction (UP, DOWN, FLAT, UNCLEAR) do you think the stock is likely to move in next 5 days?  You should provide a simple justification.__ (5 points)\n",
    "\n",
    "You answer will depend on the day you work on this question. Your justification will count 3 points."
   ]
  },
  {
   "cell_type": "markdown",
   "metadata": {
    "deletable": false,
    "editable": false,
    "nbgrader": {
     "cell_type": "markdown",
     "checksum": "b18c8169e5511be44cc24a5bd9d83526",
     "grade": false,
     "grade_id": "cell-a5e1c0bedf3d60d8",
     "locked": true,
     "points": 5,
     "schema_version": 3,
     "solution": false,
     "task": true
    }
   },
   "source": [
    "### Type your answer here."
   ]
  },
  {
   "cell_type": "markdown",
   "metadata": {},
   "source": [
    "__Congratulations! You have just completed Part B of PS02.__"
   ]
  }
 ],
 "metadata": {
  "kernelspec": {
   "display_name": "Python 3 (Anaconda 2019.10)",
   "language": "python",
   "name": "anaconda3-2019.10"
  },
  "language_info": {
   "codemirror_mode": {
    "name": "ipython",
    "version": 3
   },
   "file_extension": ".py",
   "mimetype": "text/x-python",
   "name": "python",
   "nbconvert_exporter": "python",
   "pygments_lexer": "ipython3",
   "version": "3.7.4"
  }
 },
 "nbformat": 4,
 "nbformat_minor": 4
}

{
 "cells": [
  {
   "cell_type": "markdown",
   "metadata": {},
   "source": [
    "# CPSC 4300/6300-001 Applied Data Science (Fall 2020)\n",
    "\n",
    "Before you turn this problem in, make sure everything runs as expected. First, **restart the kernel** (in the menubar, select Kernel$\\rightarrow$Restart) and then **run all cells** (in the menubar, select Cell$\\rightarrow$Run All).\n",
    "\n",
    "Make sure you fill in any place that says `YOUR CODE HERE` or \"YOUR ANSWER HERE\", as well as your name and collaborators below:"
   ]
  },
  {
   "cell_type": "code",
   "execution_count": 1,
   "metadata": {},
   "outputs": [],
   "source": [
    "NAME = \"Dane Acena\"\n",
    "COLLABORATORS = \"\""
   ]
  },
  {
   "cell_type": "markdown",
   "metadata": {},
   "source": [
    "# CPSC4300/6300-001 Problem Set #1"
   ]
  },
  {
   "cell_type": "markdown",
   "metadata": {},
   "source": [
    "In this assignment, you will create a NCAA College Football team dataset by scraping data from the Internet and perform some basic data manipulations. The assignment has four parts: the first three are auto-graded. Th elast part is manually graded by the TA. \n",
    "\n",
    "Before submission, make sure you run all the cells. Because the TA could not run your notebook, your grade will be only based on the output and the writing part of your submitted notebook. "
   ]
  },
  {
   "cell_type": "code",
   "execution_count": 1,
   "metadata": {},
   "outputs": [],
   "source": []
  },
  {
   "cell_type": "markdown",
   "metadata": {},
   "source": [
    "## Part B: Scape the Rosters of Any NCAA Collge Football Team (50 points)\n",
    "\n",
    "During the class, we have shown how to extract the roster of the Clemson Tiger's defense team, now we want to extend the work to apply to the entire team roster of any NCAA coolege football teams."
   ]
  },
  {
   "cell_type": "markdown",
   "metadata": {},
   "source": [
    "### Question 1. Wriet a function to computer the Team URL\n",
    "\n",
    "Look at the URLs of server college football team at the ESPN site, generalize the pattern, and write a python function  `get_team_url(team_id, team_name)` to compute a url from team_id and team_name. (4 points)"
   ]
  },
  {
   "cell_type": "code",
   "execution_count": 2,
   "metadata": {
    "deletable": false,
    "nbgrader": {
     "cell_type": "code",
     "checksum": "667b7d9d231a5f880ac92c15668e4673",
     "grade": false,
     "grade_id": "cell-e972833e6447cb14",
     "locked": false,
     "schema_version": 3,
     "solution": true,
     "task": false
    }
   },
   "outputs": [],
   "source": [
    "def get_team_url(team_id, team_name):\n",
    "    \"\"\"\n",
    "    Get the team URL for a NCAA college football team\n",
    "    \n",
    "    Args:\n",
    "        team_id: the id of a NACC football team assigned by ESPN\n",
    "        team_name: the name of the football team\n",
    "        \n",
    "    Returns:\n",
    "        team_url: a string representing the URL of the team\n",
    "    \"\"\"\n",
    "    url_team_name = team_name.replace(\" \",\"-\").lower()\n",
    "    team_url = 'https://www.espn.com/college-football/team/roster/_/id/%s/%s' % (team_id,url_team_name)\n",
    "    return team_url\n",
    "#     raise NotImplementedError()"
   ]
  },
  {
   "cell_type": "code",
   "execution_count": 3,
   "metadata": {
    "deletable": false,
    "editable": false,
    "nbgrader": {
     "cell_type": "code",
     "checksum": "6341fe6ae9a64142524c6fd6a6677291",
     "grade": true,
     "grade_id": "cell-ce7ed3ddbacff2e2",
     "locked": true,
     "points": 2,
     "schema_version": 3,
     "solution": false,
     "task": false
    }
   },
   "outputs": [],
   "source": [
    "team_id = 228\n",
    "team_name = \"Clemson Tigers\"\n",
    "team_url = get_team_url(team_id, team_name)\n",
    "assert team_url == 'https://www.espn.com/college-football/team/roster/_/id/228/clemson-tigers'"
   ]
  },
  {
   "cell_type": "code",
   "execution_count": 4,
   "metadata": {
    "deletable": false,
    "editable": false,
    "nbgrader": {
     "cell_type": "code",
     "checksum": "ae16301da6901e8892a99e0803d47503",
     "grade": true,
     "grade_id": "cell-a5c7f35497643616",
     "locked": true,
     "points": 2,
     "schema_version": 3,
     "solution": false,
     "task": false
    }
   },
   "outputs": [],
   "source": [
    "# This cell contains some hidden test cases."
   ]
  },
  {
   "cell_type": "markdown",
   "metadata": {},
   "source": [
    "### Question 2. Create a BeautifulSoup Object\n",
    "\n",
    "Complete the following code to create a BeautifulSoup Object froma team url and name the object `soup`. (4 points)"
   ]
  },
  {
   "cell_type": "code",
   "execution_count": 5,
   "metadata": {
    "deletable": false,
    "nbgrader": {
     "cell_type": "code",
     "checksum": "c7a0cabf2319e8ec5e0a7a9559ed1b67",
     "grade": false,
     "grade_id": "cell-affd9982ef36210b",
     "locked": false,
     "schema_version": 3,
     "solution": true,
     "task": false
    }
   },
   "outputs": [
    {
     "data": {
      "text/plain": "bs4.BeautifulSoup"
     },
     "execution_count": 5,
     "metadata": {},
     "output_type": "execute_result"
    }
   ],
   "source": [
    "url = get_team_url(228, \"Clemson Tigers\")\n",
    "\n",
    "import requests\n",
    "from bs4 import BeautifulSoup\n",
    "\n",
    "req = requests.get(url)\n",
    "soup = BeautifulSoup(req.content, 'html.parser')\n",
    "# raise NotImplementedError()\n",
    "type(soup)"
   ]
  },
  {
   "cell_type": "code",
   "execution_count": 6,
   "metadata": {
    "deletable": false,
    "editable": false,
    "nbgrader": {
     "cell_type": "code",
     "checksum": "c2ff274ecdf70960fefda4fdaf0db573",
     "grade": true,
     "grade_id": "cell-001d464a2c8f9785",
     "locked": true,
     "points": 2,
     "schema_version": 3,
     "solution": false,
     "task": false
    }
   },
   "outputs": [],
   "source": [
    "assert (type(soup) == BeautifulSoup)"
   ]
  },
  {
   "cell_type": "code",
   "execution_count": 7,
   "metadata": {
    "deletable": false,
    "editable": false,
    "nbgrader": {
     "cell_type": "code",
     "checksum": "69a3843ef726ff8a47c4e839c699c072",
     "grade": true,
     "grade_id": "cell-003e55323653f7bb",
     "locked": true,
     "points": 2,
     "schema_version": 3,
     "solution": false,
     "task": false
    }
   },
   "outputs": [],
   "source": [
    "assert soup.find('title').text.startswith('Clemson')"
   ]
  },
  {
   "cell_type": "markdown",
   "metadata": {},
   "source": [
    "### Question 3. Find the Team Name\n",
    "\n",
    "Write a statement to find a tag whose text is formatted as \"{Team Name} Rosters\" on the page. The {Team Name} would be the actual team name like 'Clemson Tigers'. (2 points)"
   ]
  },
  {
   "cell_type": "code",
   "execution_count": 8,
   "metadata": {
    "deletable": false,
    "nbgrader": {
     "cell_type": "code",
     "checksum": "5fbfc424a6ed5faf70ac692d952957e9",
     "grade": false,
     "grade_id": "cell-159f19bec0f548a6",
     "locked": false,
     "schema_version": 3,
     "solution": true,
     "task": false
    }
   },
   "outputs": [
    {
     "name": "stdout",
     "output_type": "stream",
     "text": [
      "<class 'bs4.element.Tag'>\n",
      "<h1 class=\"headline headline__h1 dib\">Clemson Tigers Roster</h1>\n"
     ]
    }
   ],
   "source": [
    "team_tag = soup.find('h1', string='%s Roster' % team_name)\n",
    "# raise NotImplementedError()\n",
    "print(type(team_tag))\n",
    "print(team_tag)"
   ]
  },
  {
   "cell_type": "code",
   "execution_count": 9,
   "metadata": {
    "deletable": false,
    "editable": false,
    "nbgrader": {
     "cell_type": "code",
     "checksum": "2922883ff9d60cfd351bce6712430798",
     "grade": true,
     "grade_id": "cell-0313f4fbe0319355",
     "locked": true,
     "points": 2,
     "schema_version": 3,
     "solution": false,
     "task": false
    }
   },
   "outputs": [],
   "source": [
    "assert str(type(team_tag)) == \"<class 'bs4.element.Tag'>\" and team_tag.text.endswith(\"Roster\")"
   ]
  },
  {
   "cell_type": "markdown",
   "metadata": {},
   "source": [
    "### Question 5. Search for Team Groups\n",
    "\n",
    "A football team roster is usually divied into three groups: *Offense*, *Defense*, and *Special Teams*. Write some statements to find the tags for all these three groups and save the tags into a variable called groups. (2 points)"
   ]
  },
  {
   "cell_type": "code",
   "execution_count": 10,
   "metadata": {
    "deletable": false,
    "nbgrader": {
     "cell_type": "code",
     "checksum": "54fd5300bd2bf4d3b257517b6436942d",
     "grade": false,
     "grade_id": "cell-7f4a507853f8b142",
     "locked": false,
     "schema_version": 3,
     "solution": true,
     "task": false
    }
   },
   "outputs": [
    {
     "name": "stdout",
     "output_type": "stream",
     "text": [
      "3 groups\n",
      "<div class=\"Table__Title\">Offense</div>\n",
      "<div class=\"Table__Title\">Defense</div>\n",
      "<div class=\"Table__Title\">Special Teams</div>\n"
     ]
    }
   ],
   "source": [
    "groups = soup.find_all(class_=\"Table__Title\")\n",
    "# raise NotImplementedError()\n",
    "print(len(groups), \"groups\")\n",
    "for g in groups:\n",
    "    print(g)"
   ]
  },
  {
   "cell_type": "code",
   "execution_count": 11,
   "metadata": {
    "deletable": false,
    "editable": false,
    "nbgrader": {
     "cell_type": "code",
     "checksum": "801aeeb66299c4f958a6266f549608df",
     "grade": true,
     "grade_id": "cell-42d807cdb2edf390",
     "locked": true,
     "points": 1,
     "schema_version": 3,
     "solution": false,
     "task": false
    }
   },
   "outputs": [],
   "source": [
    "assert ','.join(sorted([g.text for g in groups])) == 'Defense,Offense,Special Teams'"
   ]
  },
  {
   "cell_type": "code",
   "execution_count": 12,
   "metadata": {
    "deletable": false,
    "editable": false,
    "nbgrader": {
     "cell_type": "code",
     "checksum": "27727a5b4d2c4c87f77de35e00f02304",
     "grade": true,
     "grade_id": "cell-71dc4780c401038e",
     "locked": true,
     "points": 1,
     "schema_version": 3,
     "solution": false,
     "task": false
    }
   },
   "outputs": [],
   "source": [
    "assert len(groups) == 3"
   ]
  },
  {
   "cell_type": "markdown",
   "metadata": {},
   "source": [
    "### Question 6. Find the Column Names\n",
    "\n",
    "Complete the code segment to extract the names of the columns in a table rows and save those names into a list named col_names. (4 points)"
   ]
  },
  {
   "cell_type": "code",
   "execution_count": 13,
   "metadata": {
    "deletable": false,
    "nbgrader": {
     "cell_type": "code",
     "checksum": "454011f249d6af82e46d12ae5a3fb98c",
     "grade": false,
     "grade_id": "cell-2cbb21a90c5b9f64",
     "locked": false,
     "schema_version": 3,
     "solution": true,
     "task": false
    }
   },
   "outputs": [
    {
     "data": {
      "text/plain": "['', 'Name', 'POS', 'HT', 'WT', 'Class', 'Birthplace']"
     },
     "execution_count": 13,
     "metadata": {},
     "output_type": "execute_result"
    }
   ],
   "source": [
    "t = soup.find(class_=\"Table__Title\", string=\"Offense\").find_next(\"table\")\n",
    "col_names = [column.get_text() for column in t.find_all('th')]\n",
    "# table_header = soup.find_all(class_=\"Table__TH\")\n",
    "# # raise NotImplementedError()\n",
    "# for columns in table_header:\n",
    "#     col_names.append(columns.text)\n",
    "\n",
    "# table_header = soup.find(class_=\"Table__Title\", string=\"Offense\").find_next(\"table\")\n",
    "# for columns in t.thead.tr.children:\n",
    "#     col_names.append(columns.text)\n",
    "\n",
    "col_names"
   ]
  },
  {
   "cell_type": "code",
   "execution_count": 14,
   "metadata": {
    "deletable": false,
    "editable": false,
    "nbgrader": {
     "cell_type": "code",
     "checksum": "136b35dbee8b7fbc1cf559f0dcb2dd90",
     "grade": true,
     "grade_id": "cell-ba933afaef916cfd",
     "locked": true,
     "points": 2,
     "schema_version": 3,
     "solution": false,
     "task": false
    }
   },
   "outputs": [],
   "source": [
    "assert \"Name\" in col_names and \"Class\" in col_names"
   ]
  },
  {
   "cell_type": "code",
   "execution_count": 15,
   "metadata": {
    "deletable": false,
    "editable": false,
    "nbgrader": {
     "cell_type": "code",
     "checksum": "71257ceadf574cf0a51c7dbb23869b0d",
     "grade": true,
     "grade_id": "cell-cf92003b92fab9c5",
     "locked": true,
     "points": 2,
     "schema_version": 3,
     "solution": false,
     "task": false
    }
   },
   "outputs": [],
   "source": [
    "assert type(col_names) is list and len(col_names) >= 6"
   ]
  },
  {
   "cell_type": "markdown",
   "metadata": {},
   "source": [
    "### Question 7. Find the Attributes of a Player\n",
    "\n",
    "Write code segment to extract the attributes of the first defense player and save them into a dict. The player should have the attributes as shown in the following example.\n",
    "```\n",
    "player_name: Lannden Zanders\n",
    "player_id: 4428971\n",
    "player_no: 36\n",
    "POS: S\n",
    "HT: 6' 1\"\n",
    "WT: 195 lbs\n",
    "Class: SO\n",
    "Birthplace: Shelby, NC\n",
    "```\n",
    "(10 points)"
   ]
  },
  {
   "cell_type": "code",
   "execution_count": 16,
   "metadata": {
    "deletable": false,
    "nbgrader": {
     "cell_type": "code",
     "checksum": "2428d9f1bd442bc2c41d8c7eab6bf731",
     "grade": false,
     "grade_id": "cell-667e97ed5447158a",
     "locked": false,
     "schema_version": 3,
     "solution": true,
     "task": false
    }
   },
   "outputs": [
    {
     "name": "stdout",
     "output_type": "stream",
     "text": [
      "{'player_name': 'Bryan Bresee', 'player_id': '4428988', 'player_no': '11', 'POS': 'DL', 'HT': '6\\' 5\"', 'WT': '300 lbs', 'Class': 'FR', 'Birthplace': 'Damascus, MD'}\n"
     ]
    }
   ],
   "source": [
    "import re\n",
    "\n",
    "player = {}\n",
    "players = []\n",
    "player_attr = soup.find(class_=\"Table__Title\", string=\"Defense\").find_next('table')\n",
    "\n",
    "def is_player_row(tag):\n",
    "    if tag.name == 'tr' and tag.has_attr('data-idx'):\n",
    "        return True\n",
    "    return False\n",
    "    \n",
    "for c in player_attr.tbody.find_all(is_player_row):\n",
    "    tds = c.find_all('td')\n",
    "    urls = c.find_all('a', href=True)\n",
    "    cols = []   \n",
    "    for td in tds:\n",
    "        cols.append(td.get_text())\n",
    "    for url in urls:\n",
    "        if (url['href']) not in cols:\n",
    "            cols.append(url['href'])\n",
    "    players.append(cols)\n",
    "\n",
    "player_name = \"\".join(re.split(\"[^a-zA-Z ]*\", players[0][1]))\n",
    "player_no = \"\".join(re.split(\"[^0-9]*\", players[0][1]))\n",
    "\n",
    "player_url = players[0][7]\n",
    "player_id = \"\".join(re.split(\"[^0-9]*\", player_url))\n",
    "player = {\n",
    "    \"player_name\": player_name,\n",
    "    \"player_id\": player_id,\n",
    "    \"player_no\": player_no,\n",
    "    \"POS\": players[0][2],\n",
    "    \"HT\": players[0][3],\n",
    "    \"WT\": players[0][4],\n",
    "    \"Class\": players[0][5],\n",
    "    \"Birthplace\": players[0][6]\n",
    "}\n",
    "print(player)\n",
    "# raise NotImplementedError()"
   ]
  },
  {
   "cell_type": "code",
   "execution_count": 17,
   "metadata": {},
   "outputs": [
    {
     "name": "stdout",
     "output_type": "stream",
     "text": [
      "player_name: Bryan Bresee\n",
      "player_id: 4428988\n",
      "player_no: 11\n",
      "POS: DL\n",
      "HT: 6' 5\"\n",
      "WT: 300 lbs\n",
      "Class: FR\n",
      "Birthplace: Damascus, MD\n"
     ]
    }
   ],
   "source": [
    "for k, v in player.items():\n",
    "    print(\"{}: {}\".format(k, v))\n"
   ]
  },
  {
   "cell_type": "code",
   "execution_count": 18,
   "metadata": {
    "deletable": false,
    "editable": false,
    "nbgrader": {
     "cell_type": "code",
     "checksum": "573232c9e1927671fe05b462ae176776",
     "grade": true,
     "grade_id": "cell-7c574fd6f9413477",
     "locked": true,
     "points": 1,
     "schema_version": 3,
     "solution": false,
     "task": false
    }
   },
   "outputs": [],
   "source": [
    "assert type(player) is dict"
   ]
  },
  {
   "cell_type": "code",
   "execution_count": 19,
   "metadata": {
    "deletable": false,
    "editable": false,
    "nbgrader": {
     "cell_type": "code",
     "checksum": "2dd53848b359b7abd83f693cbe1e8dc5",
     "grade": true,
     "grade_id": "cell-75b251071e223227",
     "locked": true,
     "points": 2,
     "schema_version": 3,
     "solution": false,
     "task": false
    }
   },
   "outputs": [],
   "source": [
    "assert len(player) == 8"
   ]
  },
  {
   "cell_type": "code",
   "execution_count": 20,
   "metadata": {
    "deletable": false,
    "editable": false,
    "nbgrader": {
     "cell_type": "code",
     "checksum": "fcc055db22cb1a5e0bc21d701b7c500f",
     "grade": true,
     "grade_id": "cell-9c5f3fdbcd88b09b",
     "locked": true,
     "points": 5,
     "schema_version": 3,
     "solution": false,
     "task": false
    }
   },
   "outputs": [],
   "source": [
    "assert ','.join(sorted(player.keys())) == 'Birthplace,Class,HT,POS,WT,player_id,player_name,player_no'"
   ]
  },
  {
   "cell_type": "code",
   "execution_count": 21,
   "metadata": {
    "deletable": false,
    "editable": false,
    "nbgrader": {
     "cell_type": "code",
     "checksum": "4c4ee594d40f2517ffd33f5f792466e0",
     "grade": true,
     "grade_id": "cell-7071bacb49ae8bef",
     "locked": true,
     "points": 1,
     "schema_version": 3,
     "solution": false,
     "task": false
    }
   },
   "outputs": [],
   "source": [
    "assert int(player['player_no']) > 0 and int(player['player_no']) < 200"
   ]
  },
  {
   "cell_type": "code",
   "execution_count": 22,
   "metadata": {
    "deletable": false,
    "editable": false,
    "nbgrader": {
     "cell_type": "code",
     "checksum": "55ca83e14b7230296f0cdb484db83f8b",
     "grade": true,
     "grade_id": "cell-232a559e5c4360cc",
     "locked": true,
     "points": 1,
     "schema_version": 3,
     "solution": false,
     "task": false
    }
   },
   "outputs": [],
   "source": [
    "assert int(player['WT'].split()[0]) > 150 and player['WT'].split()[1] == 'lbs'"
   ]
  },
  {
   "cell_type": "markdown",
   "metadata": {},
   "source": [
    "### Question 8. Abstract the tasks into a function\n",
    "\n",
    "Since you don't want to repeat the above steps for every player and every team, it is necessary to abstract the above scraping task into a function which you can reuse over and over. (10 points)"
   ]
  },
  {
   "cell_type": "code",
   "execution_count": 23,
   "metadata": {
    "deletable": false,
    "nbgrader": {
     "cell_type": "code",
     "checksum": "4043c7008d0450aadf0a62092f5c36a2",
     "grade": false,
     "grade_id": "cell-3de336d8b0a64126",
     "locked": false,
     "schema_version": 3,
     "solution": true,
     "task": false
    }
   },
   "outputs": [],
   "source": [
    "import requests\n",
    "from bs4 import BeautifulSoup\n",
    "\n",
    "def is_player_row(tag):\n",
    "    if tag.name == 'tr' and tag.has_attr('data-idx'):\n",
    "        return True\n",
    "    return False\n",
    "\n",
    "def extract_team_roster(team_id, team_name):\n",
    "    \"\"\"\n",
    "    Extract the team roster for a NCAA college football team\n",
    "    \n",
    "    Args:\n",
    "        team_id: the id of a NACC football team assigned by ESPN\n",
    "        team_name: the name of the football team\n",
    "        \n",
    "    Returns:\n",
    "        a list of dict representing the roster of the entire team.\n",
    "    \"\"\"\n",
    "    roster = []\n",
    "    url_team_name = team_name.replace(\" \",\"-\").lower()\n",
    "    team_url = 'https://www.espn.com/college-football/team/roster/_/id/%s/%s' % (team_id,url_team_name)\n",
    "#     print(team_url)\n",
    "    \n",
    "    req = requests.get(team_url)\n",
    "    soup = BeautifulSoup(req.content, 'html.parser')\n",
    "    \n",
    "    t = soup.find(class_=\"Table__Title\").find_next(\"table\")\n",
    "    col_names = [column.get_text() for column in t.find_all('th')]\n",
    "    \n",
    "    player = {}\n",
    "    players = []\n",
    "    i = 0\n",
    "    player_groups = soup.find_all(class_=\"Table__Title\")\n",
    "    \n",
    "    for group_roster in player_groups:\n",
    "        player_group_attr = soup.find(class_=\"Table__Title\",string=group_roster.text).find_next('table')\n",
    "        for c in player_group_attr.tbody.find_all(is_player_row):\n",
    "            \n",
    "            tds = c.find_all('td')\n",
    "            urls = c.find_all('a', href=True)\n",
    "            cols = []   \n",
    "            for td in tds:\n",
    "                cols.append(td.get_text())\n",
    "            for url in urls:\n",
    "                if (url['href']) not in cols:\n",
    "                    cols.append(url['href'])\n",
    "            players.append(cols)\n",
    "            \n",
    "            \n",
    "            player_name = \"\".join(re.split(\"[^a-zA-Z ]*\", players[i][1]))\n",
    "            player_no = \"\".join(re.split(\"[^0-9]*\", players[i][1]))\n",
    "\n",
    "            player_url = players[i][7]\n",
    "            player_id = \"\".join(re.split(\"[^0-9]*\", player_url))\n",
    "            player = {\n",
    "                \"player_name\": player_name,\n",
    "                \"player_id\": player_id,\n",
    "                \"player_no\": player_no,\n",
    "                \"POS\": players[i][2],\n",
    "                \"HT\": players[i][3],\n",
    "                \"WT\": players[i][4],\n",
    "                \"Class\": players[i][5],\n",
    "                \"Birthplace\": players[i][6]\n",
    "            }\n",
    "            roster.append(player)\n",
    "            i = i + 1\n",
    "    \n",
    "#     raise NotImplementedError()\n",
    "#     print(roster)\n",
    "    return roster\n",
    "\n",
    "team_id = 150\n",
    "team_name = \"Duke Blue Devils\"\n",
    "team_roster = extract_team_roster(team_id, team_name)"
   ]
  },
  {
   "cell_type": "code",
   "execution_count": 24,
   "metadata": {
    "deletable": false,
    "editable": false,
    "nbgrader": {
     "cell_type": "code",
     "checksum": "a1187005563085f4f33b5f2e70fc7932",
     "grade": false,
     "grade_id": "cell-95f94121563f7139",
     "locked": true,
     "schema_version": 3,
     "solution": false,
     "task": false
    }
   },
   "outputs": [
    {
     "name": "stdout",
     "output_type": "stream",
     "text": [
      "[   {   'Birthplace': 'Grayson, GA',\n",
      "        'Class': 'JR',\n",
      "        'HT': '6\\' 3\"',\n",
      "        'POS': 'QB',\n",
      "        'WT': '235 lbs',\n",
      "        'player_id': '4239994',\n",
      "        'player_name': 'Chase Brice',\n",
      "        'player_no': '8'},\n",
      "    {   'Birthplace': 'Langhorne, PA',\n",
      "        'Class': 'SO',\n",
      "        'HT': '6\\' 3\"',\n",
      "        'POS': 'QB',\n",
      "        'WT': '190 lbs',\n",
      "        'player_id': '4568231',\n",
      "        'player_name': 'Jack Colyar',\n",
      "        'player_no': '13'},\n",
      "    {   'Birthplace': 'Venice, CA',\n",
      "        'Class': 'FR',\n",
      "        'HT': '6\\' 3\"',\n",
      "        'POS': 'QB',\n",
      "        'WT': '180 lbs',\n",
      "        'player_id': '4429578',\n",
      "        'player_name': 'Luca Diamont',\n",
      "        'player_no': '2'}]\n"
     ]
    }
   ],
   "source": [
    "# test the function\n",
    "import pprint\n",
    "\n",
    "team_id = 150\n",
    "team_name = \"Duke Blue Devils\"\n",
    "team_roster = extract_team_roster(team_id, team_name)\n",
    "\n",
    "pp = pprint.PrettyPrinter(indent=4)\n",
    "pp.pprint(team_roster[:3])"
   ]
  },
  {
   "cell_type": "code",
   "execution_count": 25,
   "metadata": {
    "deletable": false,
    "editable": false,
    "nbgrader": {
     "cell_type": "code",
     "checksum": "356d5aaef2b3588544bc4dcaf070e044",
     "grade": true,
     "grade_id": "cell-895004dba91372be",
     "locked": true,
     "points": 1,
     "schema_version": 3,
     "solution": false,
     "task": false
    }
   },
   "outputs": [
    {
     "data": {
      "text/plain": "True"
     },
     "execution_count": 25,
     "metadata": {},
     "output_type": "execute_result"
    }
   ],
   "source": [
    "type(team_roster) is list"
   ]
  },
  {
   "cell_type": "code",
   "execution_count": 26,
   "metadata": {
    "deletable": false,
    "editable": false,
    "nbgrader": {
     "cell_type": "code",
     "checksum": "ca5f9901c77a47bb20469f7b8b1e5b31",
     "grade": true,
     "grade_id": "cell-018fc6188aad6ea2",
     "locked": true,
     "points": 1,
     "schema_version": 3,
     "solution": false,
     "task": false
    }
   },
   "outputs": [],
   "source": [
    "assert len(team_roster) >= 80"
   ]
  },
  {
   "cell_type": "code",
   "execution_count": 27,
   "metadata": {
    "deletable": false,
    "editable": false,
    "nbgrader": {
     "cell_type": "code",
     "checksum": "543a0f4e2a78066953062a5a900331e3",
     "grade": true,
     "grade_id": "cell-a5e0daeb322a2166",
     "locked": true,
     "points": 4,
     "schema_version": 3,
     "solution": false,
     "task": false
    }
   },
   "outputs": [],
   "source": [
    "assert ','.join(sorted(team_roster[50].keys())) == 'Birthplace,Class,HT,POS,WT,player_id,player_name,player_no'"
   ]
  },
  {
   "cell_type": "code",
   "execution_count": 28,
   "metadata": {
    "deletable": false,
    "editable": false,
    "nbgrader": {
     "cell_type": "code",
     "checksum": "0eec10e2fda42f61f739b458b645496e",
     "grade": true,
     "grade_id": "cell-fdf01ad39dd2e479",
     "locked": true,
     "points": 2,
     "schema_version": 3,
     "solution": false,
     "task": false
    }
   },
   "outputs": [],
   "source": [
    "import numpy as np\n",
    "classes = np.array([p['Class'] for p in team_roster])\n",
    "class_labels, class_counts = np.unique(classes, return_counts=True)\n",
    "assert ''.join(class_labels.tolist()) == 'FRJRSOSR'"
   ]
  },
  {
   "cell_type": "code",
   "execution_count": 29,
   "metadata": {
    "deletable": false,
    "editable": false,
    "nbgrader": {
     "cell_type": "code",
     "checksum": "ed3972722e9f5742ba2acf536eaca6f4",
     "grade": true,
     "grade_id": "cell-d6f3d4de23bc3c91",
     "locked": true,
     "points": 2,
     "schema_version": 3,
     "solution": false,
     "task": false
    }
   },
   "outputs": [],
   "source": [
    "import numpy as np\n",
    "player_ids = np.array([p['player_id'] for p in team_roster])\n",
    "unqiue_ids = np.unique(player_ids)\n",
    "assert len(unqiue_ids) == len(team_roster)"
   ]
  },
  {
   "cell_type": "markdown",
   "metadata": {},
   "source": [
    "### Question 9. Debug and Testing Functions\n",
    "\n",
    "When you write a program, you have to make sure that it always works correctly even if some exteral data (e.g., the ESPN website) may be corrupted. For example, Some players in a certain team may not have their player no. Your code should be able tp catch such exceptions and replace the missing player no with the value \"NA\". (10 points)"
   ]
  },
  {
   "cell_type": "code",
   "execution_count": 30,
   "metadata": {
    "deletable": false,
    "nbgrader": {
     "cell_type": "code",
     "checksum": "d0606e67d3d5a9a3e96289c7c6f3f993",
     "grade": false,
     "grade_id": "cell-87356ddb0aaeca8e",
     "locked": false,
     "schema_version": 3,
     "solution": true,
     "task": false
    }
   },
   "outputs": [
    {
     "name": "stdout",
     "output_type": "stream",
     "text": [
      "{'player_name': 'Ira Armstead', 'player_id': '4429219', 'player_no': '98', 'POS': 'QB', 'HT': '6\\' 3\"', 'WT': '200 lbs', 'Class': 'FR', 'Birthplace': 'South Bend, IN'}\n",
      "{'player_name': 'Brennan Armstrong', 'player_id': '4370775', 'player_no': '5', 'POS': 'QB', 'HT': '6\\' 2\"', 'WT': '220 lbs', 'Class': 'SO', 'Birthplace': 'Shelby, OH'}\n",
      "{'player_name': 'Jared Rayman', 'player_id': '4568497', 'player_no': 'NA', 'POS': 'QB', 'HT': '6\\' 2\"', 'WT': '180 lbs', 'Class': 'FR', 'Birthplace': 'Atlanta, GA'}\n",
      "{'player_name': 'Lindell Stone', 'player_id': '4240850', 'player_no': '36', 'POS': 'QB', 'HT': '6\\' 0\"', 'WT': '230 lbs', 'Class': 'JR', 'Birthplace': 'Dallas, TX'}\n",
      "{'player_name': 'Keytaon Thompson', 'player_id': '4242243', 'player_no': '99', 'POS': 'QB', 'HT': '6\\' 4\"', 'WT': '225 lbs', 'Class': 'JR', 'Birthplace': 'New Orleans, LA'}\n",
      "{'player_name': 'Chris Barfield', 'player_id': '4684946', 'player_no': 'NA', 'POS': 'RB', 'HT': '5\\' 10\"', 'WT': '205 lbs', 'Class': 'FR', 'Birthplace': 'Richmond, VA'}\n",
      "{'player_name': 'Mike Hollins', 'player_id': '4427503', 'player_no': 'NA', 'POS': 'RB', 'HT': '5\\' 9\"', 'WT': '200 lbs', 'Class': 'SO', 'Birthplace': 'Baton Rouge, LA'}\n",
      "{'player_name': 'Perris Jones', 'player_id': '4370794', 'player_no': '10', 'POS': 'RB', 'HT': '5\\' 8\"', 'WT': '175 lbs', 'Class': 'SO', 'Birthplace': 'Alexandria, VA'}\n",
      "{'player_name': 'Billy Kemp IV', 'player_id': '4370797', 'player_no': '4', 'POS': 'RB', 'HT': '5\\' 9\"', 'WT': '175 lbs', 'Class': 'JR', 'Birthplace': 'Highland Springs, VA'}\n",
      "{'player_name': 'Shane Simpson', 'player_id': '3935232', 'player_no': '31', 'POS': 'RB', 'HT': '5\\' 11\"', 'WT': '195 lbs', 'Class': 'SR', 'Birthplace': 'Easton, PA'}\n",
      "{'player_name': 'Wayne Taulapapa', 'player_id': '4370813', 'player_no': '21', 'POS': 'RB', 'HT': '5\\' 9\"', 'WT': '210 lbs', 'Class': 'JR', 'Birthplace': 'Laie, HI'}\n",
      "{'player_name': 'Ronnie Walker Jr', 'player_id': '4360425', 'player_no': '20', 'POS': 'RB', 'HT': '5\\' 11\"', 'WT': '210 lbs', 'Class': 'JR', 'Birthplace': 'Hopewell, VA'}\n",
      "{'player_name': 'Justin Zollar', 'player_id': '4240857', 'player_no': 'NA', 'POS': 'RB', 'HT': '5\\' 7\"', 'WT': '170 lbs', 'Class': 'SR', 'Birthplace': 'Mechanicsville, VA'}\n",
      "{'player_name': 'Jamari Peacock', 'player_id': '4240844', 'player_no': 'NA', 'POS': 'FB', 'HT': '6\\' 0\"', 'WT': '245 lbs', 'Class': 'SR', 'Birthplace': 'Yulee, FL'}\n",
      "{'player_name': 'Andrew Yavinsky', 'player_id': '4240854', 'player_no': '46', 'POS': 'FB', 'HT': '6\\' 0\"', 'WT': '250 lbs', 'Class': 'JR', 'Birthplace': 'West Palm Beach, FL'}\n",
      "{'player_name': 'Nathaniel Beal III', 'player_id': '4426654', 'player_no': 'NA', 'POS': 'WR', 'HT': '6\\' 4\"', 'WT': '210 lbs', 'Class': 'FR', 'Birthplace': 'Houston, TX'}\n",
      "{'player_name': 'Josh Clifford', 'player_id': '4370781', 'player_no': '83', 'POS': 'WR', 'HT': '6\\' 1\"', 'WT': '190 lbs', 'Class': 'SO', 'Birthplace': 'Salem, VA'}\n",
      "{'player_name': 'Lavel Davis', 'player_id': '4431058', 'player_no': '81', 'POS': 'WR', 'HT': '6\\' 7\"', 'WT': '205 lbs', 'Class': 'FR', 'Birthplace': 'Dorchester, SC'}\n",
      "{'player_name': 'Dorien Goddard', 'player_id': '4427287', 'player_no': 'NA', 'POS': 'WR', 'HT': '6\\' 3\"', 'WT': '220 lbs', 'Class': 'FR', 'Birthplace': 'Greeneville, TN'}\n",
      "{'player_name': 'Jalen Harrison', 'player_id': '4228300', 'player_no': '80', 'POS': 'WR', 'HT': '6\\' 3\"', 'WT': '210 lbs', 'Class': 'SR', 'Birthplace': 'Palmyra, VA'}\n",
      "{'player_name': 'RaShaun Henry', 'player_id': '4032625', 'player_no': '17', 'POS': 'WR', 'HT': '6\\' 3\"', 'WT': '195 lbs', 'Class': 'SR', 'Birthplace': 'Killeen, TX'}\n",
      "{'player_name': 'Terrell Jana', 'player_id': '4240838', 'player_no': '13', 'POS': 'WR', 'HT': '6\\' 0\"', 'WT': '190 lbs', 'Class': 'SR', 'Birthplace': 'Vancouver, BC'}\n",
      "{'player_name': 'Tavares Kelly Jr', 'player_id': '4370796', 'player_no': '88', 'POS': 'WR', 'HT': '5\\' 8\"', 'WT': '160 lbs', 'Class': 'JR', 'Birthplace': 'Miami, FL'}\n",
      "{'player_name': 'Zack Kindel', 'player_id': '4568493', 'player_no': 'NA', 'POS': 'WR', 'HT': '5\\' 11\"', 'WT': '190 lbs', 'Class': 'FR', 'Birthplace': 'Stafford, VA'}\n",
      "{'player_name': 'Hayden Mitchell', 'player_id': '4240842', 'player_no': '18', 'POS': 'WR', 'HT': '5\\' 11\"', 'WT': '190 lbs', 'Class': 'JR', 'Birthplace': 'Richmond, VA'}\n",
      "{'player_name': 'Sean Moore', 'player_id': '4568495', 'player_no': 'NA', 'POS': 'WR', 'HT': '6\\' 1\"', 'WT': '165 lbs', 'Class': 'FR', 'Birthplace': 'Cutler Bay, FL'}\n",
      "{'player_name': 'Ugo Obasi', 'player_id': '4370806', 'player_no': '84', 'POS': 'WR', 'HT': '6\\' 0\"', 'WT': '195 lbs', 'Class': 'SO', 'Birthplace': 'Baltimore, MD'}\n",
      "{'player_name': 'Demick Starling', 'player_id': '4613165', 'player_no': '82', 'POS': 'WR', 'HT': '6\\' 0\"', 'WT': '170 lbs', 'Class': 'FR', 'Birthplace': 'Nashville, TN'}\n",
      "{'player_name': 'Luke Wentz', 'player_id': '4428820', 'player_no': 'NA', 'POS': 'WR', 'HT': '6\\' 3\"', 'WT': '200 lbs', 'Class': 'FR', 'Birthplace': 'Troisdorf, Germany'}\n",
      "{'player_name': 'Brandon White', 'player_id': '4370819', 'player_no': '82', 'POS': 'WR', 'HT': '5\\' 11\"', 'WT': '185 lbs', 'Class': 'SO', 'Birthplace': 'Washington, DC'}\n",
      "{'player_name': 'Dontayvion Wicks', 'player_id': '4428850', 'player_no': '3', 'POS': 'WR', 'HT': '6\\' 1\"', 'WT': '205 lbs', 'Class': 'SO', 'Birthplace': 'Plaquemine, LA'}\n",
      "{'player_name': 'TJ Kitts', 'player_id': '4257941', 'player_no': 'NA', 'POS': 'TE', 'HT': '5\\' 10\"', 'WT': '200 lbs', 'Class': 'JR', 'Birthplace': 'Tazewell, VA'}\n",
      "{'player_name': 'Mike Kosar', 'player_id': '4568494', 'player_no': 'NA', 'POS': 'TE', 'HT': '6\\' 6\"', 'WT': '235 lbs', 'Class': 'FR', 'Birthplace': 'Woodbridge, VA'}\n",
      "{'player_name': 'Grant Misch', 'player_id': '4370803', 'player_no': '85', 'POS': 'TE', 'HT': '6\\' 4\"', 'WT': '250 lbs', 'Class': 'SO', 'Birthplace': 'Sterling, VA'}\n",
      "{'player_name': 'Joshua Rawlings', 'player_id': '4565360', 'player_no': '89', 'POS': 'TE', 'HT': '6\\' 5\"', 'WT': '245 lbs', 'Class': 'FR', 'Birthplace': 'Pittsburgh, PA'}\n",
      "{'player_name': 'Sackett Wood Jr', 'player_id': '4684953', 'player_no': 'NA', 'POS': 'TE', 'HT': '6\\' 3\"', 'WT': '225 lbs', 'Class': 'FR', 'Birthplace': 'Lynchburg, VA'}\n",
      "{'player_name': 'Tyler Fannin', 'player_id': '4240834', 'player_no': '63', 'POS': 'C', 'HT': '6\\' 3\"', 'WT': '295 lbs', 'Class': 'JR', 'Birthplace': 'Hoschton, GA'}\n",
      "{'player_name': 'Olusegun Oluwatimi', 'player_id': '4370807', 'player_no': '55', 'POS': 'C', 'HT': '6\\' 3\"', 'WT': '305 lbs', 'Class': 'JR', 'Birthplace': 'Upper Marlboro, MD'}\n",
      "{'player_name': 'Kariem Al Soufi', 'player_id': '4426547', 'player_no': 'NA', 'POS': 'G', 'HT': '6\\' 3\"', 'WT': '335 lbs', 'Class': 'FR', 'Birthplace': 'Paderborn, Germany'}\n",
      "{'player_name': 'Joe Bissinger', 'player_id': '4370777', 'player_no': '52', 'POS': 'G', 'HT': '6\\' 4\"', 'WT': '305 lbs', 'Class': 'SO', 'Birthplace': 'Houston, TX'}\n",
      "{'player_name': 'Zachary Teter', 'player_id': '4428654', 'player_no': 'NA', 'POS': 'G', 'HT': '6\\' 5\"', 'WT': '300 lbs', 'Class': 'FR', 'Birthplace': 'Lakeland, FL'}\n",
      "{'player_name': 'Gerrik Vollmer', 'player_id': '4240853', 'player_no': '74', 'POS': 'G', 'HT': '6\\' 5\"', 'WT': '290 lbs', 'Class': 'JR', 'Birthplace': 'Hamburg, Germany'}\n",
      "{'player_name': 'Jestus Johnson III', 'player_id': '4430074', 'player_no': 'NA', 'POS': 'OL', 'HT': '6\\' 3\"', 'WT': '330 lbs', 'Class': 'FR', 'Birthplace': 'Laurel, MD'}\n",
      "{'player_name': 'Tommy Christ', 'player_id': '4240829', 'player_no': '50', 'POS': 'OT', 'HT': '6\\' 5\"', 'WT': '280 lbs', 'Class': 'JR', 'Birthplace': 'Sterling, VA'}\n",
      "{'player_name': 'Derek Devine', 'player_id': '4370784', 'player_no': '67', 'POS': 'OT', 'HT': '6\\' 6\"', 'WT': '295 lbs', 'Class': 'SO', 'Birthplace': 'Pittsburgh, PA'}\n",
      "{'player_name': 'Alex Gellerstedt', 'player_id': '4033747', 'player_no': '51', 'POS': 'OT', 'HT': '6\\' 7\"', 'WT': '325 lbs', 'Class': 'SR', 'Birthplace': 'Dublin, OH'}\n",
      "{'player_name': 'Chris Glaser', 'player_id': '4240836', 'player_no': '69', 'POS': 'OT', 'HT': '6\\' 3\"', 'WT': '305 lbs', 'Class': 'SR', 'Birthplace': 'Solon, OH'}\n",
      "{'player_name': 'Bobby Haskins', 'player_id': '4370790', 'player_no': '70', 'POS': 'OT', 'HT': '6\\' 7\"', 'WT': '285 lbs', 'Class': 'JR', 'Birthplace': 'Fairfield, CT'}\n",
      "{'player_name': 'Luke Johnson', 'player_id': '4684949', 'player_no': 'NA', 'POS': 'OT', 'HT': '6\\' 5\"', 'WT': '290 lbs', 'Class': 'FR', 'Birthplace': 'Annandale, VA'}\n",
      "{'player_name': 'Jack Keenan', 'player_id': '4370795', 'player_no': '64', 'POS': 'OT', 'HT': '6\\' 5\"', 'WT': '290 lbs', 'Class': 'SO', 'Birthplace': 'Arlington, VA'}\n",
      "{'player_name': 'Jonathan Leech', 'player_id': '4430032', 'player_no': '65', 'POS': 'OT', 'HT': '6\\' 4\"', 'WT': '270 lbs', 'Class': 'FR', 'Birthplace': 'Hoschton, GA'}\n",
      "{'player_name': 'Colby McGhee', 'player_id': '4684950', 'player_no': 'NA', 'POS': 'OT', 'HT': '6\\' 3\"', 'WT': '285 lbs', 'Class': 'FR', 'Birthplace': 'Orange, VA'}\n",
      "{'player_name': 'Ryan Nelson', 'player_id': '4240843', 'player_no': '54', 'POS': 'OT', 'HT': '6\\' 4\"', 'WT': '315 lbs', 'Class': 'JR', 'Birthplace': 'Buena Park, CA'}\n",
      "{'player_name': 'Dillon Reinkensmeyer', 'player_id': '4037592', 'player_no': '79', 'POS': 'OT', 'HT': '6\\' 6\"', 'WT': '300 lbs', 'Class': 'SR', 'Birthplace': 'Highlands Ranch, CO'}\n",
      "{'player_name': 'Ryan Swoboda', 'player_id': '4240851', 'player_no': '72', 'POS': 'OT', 'HT': '6\\' 10\"', 'WT': '300 lbs', 'Class': 'JR', 'Birthplace': 'Windermere, FL'}\n",
      "{'player_name': 'Su Agunloye', 'player_id': '4684945', 'player_no': 'NA', 'POS': 'DL', 'HT': '6\\' 6\"', 'WT': '240 lbs', 'Class': 'FR', 'Birthplace': 'Lindenhurst, NY'}\n",
      "{'player_name': 'Adeeb Atariwa', 'player_id': '4028748', 'player_no': '95', 'POS': 'DL', 'HT': '6\\' 3\"', 'WT': '280 lbs', 'Class': 'SR', 'Birthplace': 'Sterling, VA'}\n",
      "{'player_name': 'Jahmeer Carter', 'player_id': '4429371', 'player_no': '90', 'POS': 'DL', 'HT': '6\\' 2\"', 'WT': '300 lbs', 'Class': 'FR', 'Birthplace': 'Severn, MD'}\n",
      "{'player_name': 'Sam Galletta', 'player_id': '4568488', 'player_no': 'NA', 'POS': 'DL', 'HT': '6\\' 3\"', 'WT': '275 lbs', 'Class': 'FR', 'Birthplace': 'Leesburg, VA'}\n",
      "{'player_name': 'Nusi Malani', 'player_id': '4430306', 'player_no': '45', 'POS': 'DL', 'HT': '6\\' 6\"', 'WT': '250 lbs', 'Class': 'FR', 'Birthplace': 'San Bruno, CA'}\n",
      "{'player_name': 'Jordan Redmond', 'player_id': '4370809', 'player_no': 'NA', 'POS': 'NT', 'HT': '6\\' 0\"', 'WT': '290 lbs', 'Class': 'SO', 'Birthplace': 'Kissimmee, FL'}\n",
      "{'player_name': 'Samson Reed', 'player_id': '4370810', 'player_no': 'NA', 'POS': 'DL', 'HT': '6\\' 2\"', 'WT': '275 lbs', 'Class': 'SO', 'Birthplace': 'Laie, HI'}\n",
      "{'player_name': 'Mandy Alonso', 'player_id': '4240822', 'player_no': '91', 'POS': 'DE', 'HT': '6\\' 2\"', 'WT': '280 lbs', 'Class': 'SR', 'Birthplace': 'Miami, FL'}\n",
      "{'player_name': 'Sam Bond', 'player_id': '4684947', 'player_no': 'NA', 'POS': 'DE', 'HT': '6\\' 3\"', 'WT': '255 lbs', 'Class': 'FR', 'Birthplace': 'Fredon, NJ'}\n",
      "{'player_name': 'Richard Burney', 'player_id': '3917922', 'player_no': '16', 'POS': 'DE', 'HT': '6\\' 4\"', 'WT': '275 lbs', 'Class': 'SR', 'Birthplace': 'Chesapeake, VA'}\n",
      "{'player_name': 'Nate Morris', 'player_id': '4684951', 'player_no': 'NA', 'POS': 'DE', 'HT': '6\\' 2\"', 'WT': '220 lbs', 'Class': 'FR', 'Birthplace': 'Glen Allen, VA'}\n",
      "{'player_name': 'Ben Smiley III', 'player_id': '4430499', 'player_no': 'NA', 'POS': 'DE', 'HT': '6\\' 4\"', 'WT': '260 lbs', 'Class': 'FR', 'Birthplace': 'Chesapeake, VA'}\n",
      "{'player_name': 'Jowon Briggs', 'player_id': '4426676', 'player_no': '19', 'POS': 'DT', 'HT': '6\\' 1\"', 'WT': '295 lbs', 'Class': 'SO', 'Birthplace': 'Cincinnati, OH'}\n",
      "{'player_name': 'Aaron Faumui', 'player_id': '4370786', 'player_no': 'NA', 'POS': 'DT', 'HT': '6\\' 1\"', 'WT': '285 lbs', 'Class': 'JR', 'Birthplace': 'Honolulu, HI'}\n",
      "{'player_name': 'Josh Ahern', 'player_id': '4426541', 'player_no': '32', 'POS': 'LB', 'HT': '6\\' 3\"', 'WT': '225 lbs', 'Class': 'FR', 'Birthplace': 'Burke, VA'}\n",
      "{'player_name': 'Sam Brady', 'player_id': '4429292', 'player_no': 'NA', 'POS': 'LB', 'HT': '6\\' 3\"', 'WT': '200 lbs', 'Class': 'FR', 'Birthplace': 'Lincolnton, NC'}\n",
      "{'player_name': 'Elliott Brown', 'player_id': '4240826', 'player_no': '43', 'POS': 'LB', 'HT': '6\\' 5\"', 'WT': '210 lbs', 'Class': 'SR', 'Birthplace': 'Odenton, MD'}\n",
      "{'player_name': 'Dre Bryant', 'player_id': '4037578', 'player_no': '44', 'POS': 'LB', 'HT': '6\\' 1\"', 'WT': '230 lbs', 'Class': 'SR', 'Birthplace': 'Charlottesville, VA'}\n",
      "{'player_name': 'Matt Gahm', 'player_id': '4240835', 'player_no': '56', 'POS': 'LB', 'HT': '6\\' 3\"', 'WT': '240 lbs', 'Class': 'SR', 'Birthplace': 'Dallas, TX'}\n",
      "{'player_name': 'John Hardy', 'player_id': '4684948', 'player_no': 'NA', 'POS': 'LB', 'HT': '6\\' 3\"', 'WT': '215 lbs', 'Class': 'FR', 'Birthplace': 'Fredericksburg, VA'}\n",
      "{'player_name': 'TC Harrison', 'player_id': '4370789', 'player_no': '47', 'POS': 'LB', 'HT': '6\\' 2\"', 'WT': '225 lbs', 'Class': 'SO', 'Birthplace': 'Lawrenceville, GA'}\n",
      "{'player_name': 'Jonathan Horton', 'player_id': '4608680', 'player_no': 'NA', 'POS': 'LB', 'HT': '6\\' 4\"', 'WT': '215 lbs', 'Class': 'FR', 'Birthplace': 'Baton Rouge, LA'}\n",
      "{'player_name': 'Nick Jackson', 'player_id': '4568492', 'player_no': '6', 'POS': 'LB', 'HT': '6\\' 1\"', 'WT': '225 lbs', 'Class': 'SO', 'Birthplace': 'Atlanta, GA'}\n",
      "{'player_name': 'DaJuan Moore', 'player_id': '4370804', 'player_no': '42', 'POS': 'LB', 'HT': '6\\' 0\"', 'WT': '245 lbs', 'Class': 'SO', 'Birthplace': 'Waynesboro, VA'}\n",
      "{'player_name': 'DSean Perry', 'player_id': '4428221', 'player_no': 'NA', 'POS': 'LB', 'HT': '6\\' 3\"', 'WT': '230 lbs', 'Class': 'FR', 'Birthplace': 'Miami, FL'}\n",
      "{'player_name': 'Jairus Satiu', 'player_id': '4428429', 'player_no': 'NA', 'POS': 'LB', 'HT': '6\\' 2\"', 'WT': '200 lbs', 'Class': 'SO', 'Birthplace': 'Lehi, UT'}\n",
      "{'player_name': 'Brayden Sheffer', 'player_id': '4684952', 'player_no': 'NA', 'POS': 'LB', 'HT': '6\\' 3\"', 'WT': '225 lbs', 'Class': 'FR', 'Birthplace': 'West Point, VA'}\n",
      "{'player_name': 'Charles Snowden', 'player_id': '4240849', 'player_no': '11', 'POS': 'LB', 'HT': '6\\' 7\"', 'WT': '235 lbs', 'Class': 'SR', 'Birthplace': 'Silver Spring, MD'}\n",
      "{'player_name': 'Rob Snyder', 'player_id': '4037595', 'player_no': '22', 'POS': 'LB', 'HT': '6\\' 2\"', 'WT': '240 lbs', 'Class': 'SR', 'Birthplace': 'Lawrenceville, GA'}\n",
      "{'player_name': 'Hunter Stewart', 'player_id': '4568500', 'player_no': '53', 'POS': 'LB', 'HT': '6\\' 2\"', 'WT': '220 lbs', 'Class': 'FR', 'Birthplace': 'Alexandria, VA'}\n",
      "{'player_name': 'Noah Taylor', 'player_id': '4370814', 'player_no': '7', 'POS': 'LB', 'HT': '6\\' 5\"', 'WT': '215 lbs', 'Class': 'JR', 'Birthplace': 'Silver Spring, MD'}\n",
      "{'player_name': 'Brandon Williams', 'player_id': '4429188', 'player_no': 'NA', 'POS': 'LB', 'HT': '6\\' 3\"', 'WT': '200 lbs', 'Class': 'FR', 'Birthplace': 'New Orleans, LA'}\n",
      "{'player_name': 'Zane Zandier', 'player_id': '4240855', 'player_no': '0', 'POS': 'LB', 'HT': '6\\' 3\"', 'WT': '230 lbs', 'Class': 'SR', 'Birthplace': 'Pittsburgh, PA'}\n",
      "{'player_name': 'Jaylon Baker', 'player_id': '4370776', 'player_no': '27', 'POS': 'CB', 'HT': '6\\' 2\"', 'WT': '170 lbs', 'Class': 'SO', 'Birthplace': 'Chattanooga, TN'}\n",
      "{'player_name': 'Darrius Bratton', 'player_id': '4240825', 'player_no': '8', 'POS': 'CB', 'HT': '6\\' 0\"', 'WT': '190 lbs', 'Class': 'JR', 'Birthplace': 'Roanoke, VA'}\n",
      "{'player_name': 'Mark Chichester', 'player_id': '4370779', 'player_no': 'NA', 'POS': 'CB', 'HT': '6\\' 0\"', 'WT': '180 lbs', 'Class': 'SO', 'Birthplace': 'Washington, DC'}\n",
      "{'player_name': 'Nick Grant', 'player_id': '4037583', 'player_no': '1', 'POS': 'CB', 'HT': '6\\' 1\"', 'WT': '200 lbs', 'Class': 'SR', 'Birthplace': 'Spotsylvania, VA'}\n",
      "{'player_name': 'Heskin Smith', 'player_id': '4240848', 'player_no': '23', 'POS': 'CB', 'HT': '5\\' 11\"', 'WT': '175 lbs', 'Class': 'JR', 'Birthplace': 'Brunswick, GA'}\n",
      "{'player_name': 'Chayce Chalmers', 'player_id': '4426895', 'player_no': 'NA', 'POS': 'DB', 'HT': '6\\' 2\"', 'WT': '210 lbs', 'Class': 'FR', 'Birthplace': 'Gainesville, VA'}\n",
      "{'player_name': 'Antonio Clary', 'player_id': '4426931', 'player_no': '14', 'POS': 'DB', 'HT': '6\\' 0\"', 'WT': '190 lbs', 'Class': 'SO', 'Birthplace': 'Jacksonville, FL'}\n",
      "{'player_name': 'Fentrell Cypress II', 'player_id': '4429488', 'player_no': '39', 'POS': 'DB', 'HT': '5\\' 11\"', 'WT': '170 lbs', 'Class': 'FR', 'Birthplace': 'Rock Hill, SC'}\n",
      "{'player_name': 'Jake Dewease', 'player_id': '4568485', 'player_no': 'NA', 'POS': 'DB', 'HT': '6\\' 0\"', 'WT': '190 lbs', 'Class': 'FR', 'Birthplace': 'Daleville, VA'}\n",
      "{'player_name': 'Tenyeh Dixon', 'player_id': '4429522', 'player_no': 'NA', 'POS': 'DB', 'HT': '5\\' 11\"', 'WT': '185 lbs', 'Class': 'SO', 'Birthplace': 'Washington, DC'}\n",
      "{'player_name': 'Elijah Gaines', 'player_id': '4429785', 'player_no': '38', 'POS': 'DB', 'HT': '6\\' 2\"', 'WT': '185 lbs', 'Class': 'FR', 'Birthplace': 'Queens, NY'}\n",
      "{'player_name': 'Dave Herard', 'player_id': '4565536', 'player_no': 'NA', 'POS': 'DB', 'HT': '6\\' 0\"', 'WT': '170 lbs', 'Class': 'FR', 'Birthplace': 'Fort Lauderdale, FL'}\n",
      "{'player_name': 'Donovan Johnson', 'player_id': '4431177', 'player_no': '34', 'POS': 'DB', 'HT': '6\\' 2\"', 'WT': '180 lbs', 'Class': 'FR', 'Birthplace': 'New Orleans, LA'}\n",
      "{'player_name': 'Coen King', 'player_id': '4370799', 'player_no': '9', 'POS': 'DB', 'HT': '6\\' 0\"', 'WT': '190 lbs', 'Class': 'SO', 'Birthplace': 'Culpeper, VA'}\n",
      "{'player_name': 'Darnell Pratt', 'player_id': '4240846', 'player_no': '33', 'POS': 'DB', 'HT': '6\\' 2\"', 'WT': '185 lbs', 'Class': 'JR', 'Birthplace': 'Ellicott City, MD'}\n",
      "{'player_name': 'Joseph White', 'player_id': '4370820', 'player_no': '25', 'POS': 'DB', 'HT': '6\\' 1\"', 'WT': '175 lbs', 'Class': 'SO', 'Birthplace': 'Virginia Beach, VA'}\n",
      "{'player_name': 'DAngelo Amos', 'player_id': '4049429', 'player_no': '30', 'POS': 'S', 'HT': '6\\' 1\"', 'WT': '184 lbs', 'Class': 'SR', 'Birthplace': 'Richmond, VA'}\n",
      "{'player_name': 'Joey Blount', 'player_id': '4240824', 'player_no': '29', 'POS': 'S', 'HT': '6\\' 1\"', 'WT': '190 lbs', 'Class': 'SR', 'Birthplace': 'Atlanta, GA'}\n",
      "{'player_name': 'DeVante Cross', 'player_id': '4037579', 'player_no': '15', 'POS': 'S', 'HT': '6\\' 2\"', 'WT': '210 lbs', 'Class': 'SR', 'Birthplace': 'Allentown, PA'}\n",
      "{'player_name': 'Darren Klein', 'player_id': '4370800', 'player_no': '37', 'POS': 'S', 'HT': '6\\' 0\"', 'WT': '190 lbs', 'Class': 'SO', 'Birthplace': 'Crozet, VA'}\n",
      "{'player_name': 'Brenton Nelson', 'player_id': '4047915', 'player_no': '28', 'POS': 'S', 'HT': '5\\' 11\"', 'WT': '185 lbs', 'Class': 'SR', 'Birthplace': 'Miami, FL'}\n",
      "{'player_name': 'Vinnie Vladic', 'player_id': '4370816', 'player_no': 'NA', 'POS': 'S', 'HT': '6\\' 0\"', 'WT': '190 lbs', 'Class': 'SO', 'Birthplace': 'Rancho Santa Margarita, CA'}\n",
      "{'player_name': 'Brian Delaney', 'player_id': '4240831', 'player_no': '26', 'POS': 'PK', 'HT': '5\\' 10\"', 'WT': '200 lbs', 'Class': 'SR', 'Birthplace': 'Chantilly, VA'}\n",
      "{'player_name': 'Justin Duenkel', 'player_id': '4568486', 'player_no': 'NA', 'POS': 'PK', 'HT': '5\\' 11\"', 'WT': '195 lbs', 'Class': 'FR', 'Birthplace': 'Great Falls, VA'}\n",
      "{'player_name': 'AJ Mejia', 'player_id': '4240841', 'player_no': 'NA', 'POS': 'PK', 'HT': '5\\' 8\"', 'WT': '185 lbs', 'Class': 'JR', 'Birthplace': 'Fairfax, VA'}\n",
      "{'player_name': 'Hunter Pearson', 'player_id': '4370808', 'player_no': 'NA', 'POS': 'PK', 'HT': '6\\' 2\"', 'WT': '210 lbs', 'Class': 'SO', 'Birthplace': 'Seneca, SC'}\n",
      "{'player_name': 'Brendan Farrell', 'player_id': '4568487', 'player_no': 'NA', 'POS': 'P', 'HT': '5\\' 11\"', 'WT': '200 lbs', 'Class': 'FR', 'Birthplace': 'Dunwoody, GA'}\n",
      "{'player_name': 'Nash Griffin', 'player_id': '4047914', 'player_no': '2', 'POS': 'P', 'HT': '6\\' 2\"', 'WT': '225 lbs', 'Class': 'SR', 'Birthplace': 'Indianapolis, IN'}\n",
      "{'player_name': 'Danny Caracciolo', 'player_id': '4049435', 'player_no': '59', 'POS': 'LS', 'HT': '5\\' 11\"', 'WT': '230 lbs', 'Class': 'SR', 'Birthplace': 'Centreville, VA'}\n",
      "{'player_name': 'Lee Dudley', 'player_id': '4370785', 'player_no': 'NA', 'POS': 'LS', 'HT': '6\\' 0\"', 'WT': '215 lbs', 'Class': 'SO', 'Birthplace': 'Richmond, VA'}\n",
      "{'player_name': 'Tucker Finkelston', 'player_id': '4370787', 'player_no': 'NA', 'POS': 'LS', 'HT': '5\\' 11\"', 'WT': '220 lbs', 'Class': 'SO', 'Birthplace': 'Clarksville, MD'}\n"
     ]
    }
   ],
   "source": [
    "team_id = 258\n",
    "team_name = \"Virginia Cavaliers\"\n",
    "team_roster = extract_team_roster(team_id, team_name)\n",
    "import numpy as np\n",
    "positions = np.array([p['POS'] for p in team_roster])\n",
    "position_label, position_counts = np.unique(positions, return_counts=True)\n",
    "s = ''.join(position_label.tolist())\n",
    "s\n",
    "\n",
    "for dicts in team_roster:\n",
    "    for key in dicts:\n",
    "        if not dicts[key]:\n",
    "            dicts[key] = \"NA\"\n",
    "    print(dicts)\n",
    "# raise NotImplementedError()"
   ]
  },
  {
   "cell_type": "code",
   "execution_count": 31,
   "metadata": {
    "deletable": false,
    "editable": false,
    "nbgrader": {
     "cell_type": "code",
     "checksum": "a684128afceb8fb456ddbf3fa45938d7",
     "grade": true,
     "grade_id": "cell-0ed1c994a0f7210c",
     "locked": true,
     "points": 5,
     "schema_version": 3,
     "solution": false,
     "task": false
    }
   },
   "outputs": [],
   "source": [
    "import numpy as np\n",
    "positions = np.array([p['POS'] for p in team_roster])\n",
    "position_label, position_counts = np.unique(positions, return_counts=True)\n",
    "assert ''.join(position_label.tolist()) == 'CCBDBDEDLDTFBGLBLSNTOLOTPPKQBRBSTEWR'"
   ]
  },
  {
   "cell_type": "code",
   "execution_count": 32,
   "metadata": {
    "deletable": false,
    "editable": false,
    "nbgrader": {
     "cell_type": "code",
     "checksum": "0fc2e4013288aa413ec4a6dae33990da",
     "grade": true,
     "grade_id": "cell-cf43e6715aff64de",
     "locked": true,
     "points": 5,
     "schema_version": 3,
     "solution": false,
     "task": false
    }
   },
   "outputs": [],
   "source": [
    "player_nos = np.array([p['player_no'] for p in team_roster])\n",
    "na_count = len([no for no in player_nos if no == 'NA'])\n",
    "assert na_count > 10"
   ]
  },
  {
   "cell_type": "markdown",
   "metadata": {},
   "source": [
    "### Question 10. Add functions into a Python Modules\n",
    "\n",
    "Now you have developed two solid functions: `get_team_url` and `extract_team_roster` and you would like to reuse them in other projects or share them with other people. Use the Notebook magic command to write the two functions with other neccessary  statements into a python file named `roster.py`. (4 points)"
   ]
  },
  {
   "cell_type": "code",
   "execution_count": 33,
   "metadata": {
    "deletable": false,
    "nbgrader": {
     "cell_type": "code",
     "checksum": "526af8fc9777c831c0122f81a8c76362",
     "grade": false,
     "grade_id": "cell-9121f8f48dd11851",
     "locked": false,
     "schema_version": 3,
     "solution": true,
     "task": false
    }
   },
   "outputs": [
    {
     "name": "stdout",
     "output_type": "stream",
     "text": [
      "Writing roster.py\n"
     ]
    }
   ],
   "source": [
    "%%writefile roster.py\n",
    "import re\n",
    "import requests\n",
    "from bs4 import BeautifulSoup\n",
    "def is_player_row(tag):\n",
    "    if tag.name == 'tr' and tag.has_attr('data-idx'):\n",
    "        return True\n",
    "    return False\n",
    "\n",
    "def get_team_url(team_id, team_name):\n",
    "    \"\"\"\n",
    "    Get the team URL for a NCAA college football team\n",
    "    \n",
    "    Args:\n",
    "        team_id: the id of a NACC football team assigned by ESPN\n",
    "        team_name: the name of the football team\n",
    "        \n",
    "    Returns:\n",
    "        team_url: a string representing the URL of the team\n",
    "    \"\"\"\n",
    "    url_team_name = team_name.replace(\" \",\"-\").lower()\n",
    "    team_url = 'https://www.espn.com/college-football/team/roster/_/id/%s/%s' % (team_id,url_team_name)\n",
    "    return team_url\n",
    "\n",
    "def extract_team_roster(team_id, team_name):\n",
    "    \"\"\"\n",
    "    Extract the team roster for a NCAA college football team\n",
    "    \n",
    "    Args:\n",
    "        team_id: the id of a NACC football team assigned by ESPN\n",
    "        team_name: the name of the football team\n",
    "        \n",
    "    Returns:\n",
    "        a list of dict representing the roster of the entire team.\n",
    "    \"\"\"\n",
    "    roster = []\n",
    "    url_team_name = team_name.replace(\" \",\"-\").lower()\n",
    "    team_url = 'https://www.espn.com/college-football/team/roster/_/id/%s/%s' % (team_id,url_team_name)\n",
    "    \n",
    "    req = requests.get(team_url)\n",
    "    soup = BeautifulSoup(req.content, 'html.parser')\n",
    "    \n",
    "    t = soup.find(class_=\"Table__Title\").find_next(\"table\")\n",
    "    col_names = [column.get_text() for column in t.find_all('th')]\n",
    "\n",
    "    player = {}\n",
    "    players = []\n",
    "    i = 0\n",
    "    player_groups = soup.find_all(class_=\"Table__Title\")\n",
    "    \n",
    "    for group_roster in player_groups:\n",
    "        player_group_attr = soup.find(class_=\"Table__Title\",string=group_roster.text).find_next('table')\n",
    "        for c in player_group_attr.tbody.find_all(is_player_row):\n",
    "            \n",
    "            tds = c.find_all('td')\n",
    "            urls = c.find_all('a', href=True)\n",
    "            cols = []   \n",
    "            for td in tds:\n",
    "                cols.append(td.get_text())\n",
    "            for url in urls:\n",
    "                if (url['href']) not in cols:\n",
    "                    cols.append(url['href'])\n",
    "            players.append(cols)\n",
    "            \n",
    "            \n",
    "            player_name = \"\".join(re.split(\"[^a-zA-Z ]*\", players[i][1]))\n",
    "            player_no = \"\".join(re.split(\"[^0-9]*\", players[i][1]))\n",
    "\n",
    "            player_url = players[i][7]\n",
    "            player_id = \"\".join(re.split(\"[^0-9]*\", player_url))\n",
    "            player = {\n",
    "                \"player_name\": player_name,\n",
    "                \"player_id\": player_id,\n",
    "                \"player_no\": player_no,\n",
    "                \"POS\": players[i][2],\n",
    "                \"HT\": players[i][3],\n",
    "                \"WT\": players[i][4],\n",
    "                \"Class\": players[i][5],\n",
    "                \"Birthplace\": players[i][6]\n",
    "            }\n",
    "            roster.append(player)\n",
    "            i = i + 1\n",
    "\n",
    "    return roster"
   ]
  },
  {
   "cell_type": "code",
   "execution_count": 34,
   "metadata": {},
   "outputs": [
    {
     "name": "stdout",
     "output_type": "stream",
     "text": [
      "import re\r\n",
      "import requests\r\n",
      "from bs4 import BeautifulSoup\r\n",
      "def is_player_row(tag):\r\n",
      "    if tag.name == 'tr' and tag.has_attr('data-idx'):\r\n",
      "        return True\r\n",
      "    return False\r\n",
      "\r\n",
      "def get_team_url(team_id, team_name):\r\n",
      "    \"\"\"\r\n",
      "    Get the team URL for a NCAA college football team\r\n",
      "    \r\n",
      "    Args:\r\n",
      "        team_id: the id of a NACC football team assigned by ESPN\r\n",
      "        team_name: the name of the football team\r\n",
      "        \r\n",
      "    Returns:\r\n",
      "        team_url: a string representing the URL of the team\r\n",
      "    \"\"\"\r\n",
      "    url_team_name = team_name.replace(\" \",\"-\").lower()\r\n",
      "    team_url = 'https://www.espn.com/college-football/team/roster/_/id/%s/%s' % (team_id,url_team_name)\r\n",
      "    return team_url\r\n",
      "\r\n",
      "def extract_team_roster(team_id, team_name):\r\n",
      "    \"\"\"\r\n",
      "    Extract the team roster for a NCAA college football team\r\n",
      "    \r\n",
      "    Args:\r\n",
      "        team_id: the id of a NACC football team assigned by ESPN\r\n",
      "        team_name: the name of the football team\r\n",
      "        \r\n",
      "    Returns:\r\n",
      "        a list of dict representing the roster of the entire team.\r\n",
      "    \"\"\"\r\n",
      "    roster = []\r\n",
      "    url_team_name = team_name.replace(\" \",\"-\").lower()\r\n",
      "    team_url = 'https://www.espn.com/college-football/team/roster/_/id/%s/%s' % (team_id,url_team_name)\r\n",
      "    \r\n",
      "    req = requests.get(team_url)\r\n",
      "    soup = BeautifulSoup(req.content, 'html.parser')\r\n",
      "    \r\n",
      "    t = soup.find(class_=\"Table__Title\").find_next(\"table\")\r\n",
      "    col_names = [column.get_text() for column in t.find_all('th')]\r\n",
      "\r\n",
      "    player = {}\r\n",
      "    players = []\r\n",
      "    i = 0\r\n",
      "    player_groups = soup.find_all(class_=\"Table__Title\")\r\n",
      "    \r\n",
      "    for group_roster in player_groups:\r\n",
      "        player_group_attr = soup.find(class_=\"Table__Title\",string=group_roster.text).find_next('table')\r\n",
      "        for c in player_group_attr.tbody.find_all(is_player_row):\r\n",
      "            \r\n",
      "            tds = c.find_all('td')\r\n",
      "            urls = c.find_all('a', href=True)\r\n",
      "            cols = []   \r\n",
      "            for td in tds:\r\n",
      "                cols.append(td.get_text())\r\n",
      "            for url in urls:\r\n",
      "                if (url['href']) not in cols:\r\n",
      "                    cols.append(url['href'])\r\n",
      "            players.append(cols)\r\n",
      "            \r\n",
      "            \r\n",
      "            player_name = \"\".join(re.split(\"[^a-zA-Z ]*\", players[i][1]))\r\n",
      "            player_no = \"\".join(re.split(\"[^0-9]*\", players[i][1]))\r\n",
      "\r\n",
      "            player_url = players[i][7]\r\n",
      "            player_id = \"\".join(re.split(\"[^0-9]*\", player_url))\r\n",
      "            player = {\r\n",
      "                \"player_name\": player_name,\r\n",
      "                \"player_id\": player_id,\r\n",
      "                \"player_no\": player_no,\r\n",
      "                \"POS\": players[i][2],\r\n",
      "                \"HT\": players[i][3],\r\n",
      "                \"WT\": players[i][4],\r\n",
      "                \"Class\": players[i][5],\r\n",
      "                \"Birthplace\": players[i][6]\r\n",
      "            }\r\n",
      "            roster.append(player)\r\n",
      "            i = i + 1\r\n",
      "\r\n",
      "    return roster\r\n",
      "\r\n"
     ]
    }
   ],
   "source": [
    "!cat roster.py"
   ]
  },
  {
   "cell_type": "code",
   "execution_count": 35,
   "metadata": {
    "deletable": false,
    "editable": false,
    "nbgrader": {
     "cell_type": "code",
     "checksum": "2210053c7c2e0327341bc985b6295f11",
     "grade": true,
     "grade_id": "cell-460dca90f00e20e6",
     "locked": true,
     "points": 1,
     "schema_version": 3,
     "solution": false,
     "task": false
    }
   },
   "outputs": [],
   "source": [
    "import os\n",
    "assert os.path.exists(\"roster.py\")"
   ]
  },
  {
   "cell_type": "code",
   "execution_count": 36,
   "metadata": {
    "deletable": false,
    "editable": false,
    "nbgrader": {
     "cell_type": "code",
     "checksum": "d08db99ab6c2747f8fdf637a5e95e4b1",
     "grade": true,
     "grade_id": "cell-d2d114880fe61a22",
     "locked": true,
     "points": 3,
     "schema_version": 3,
     "solution": false,
     "task": false
    }
   },
   "outputs": [],
   "source": [
    "try:\n",
    "    from bs4 import BeautifulSoup\n",
    "    import requests\n",
    "    from roster import get_team_url, extract_team_roster\n",
    "    \n",
    "    clemson_tiger_roster = extract_team_roster(258, \"Virginia Cavaliers\")\n",
    "except:\n",
    "    raise AssertionError(\"could not import\")\n"
   ]
  },
  {
   "cell_type": "markdown",
   "metadata": {
    "deletable": false,
    "editable": false,
    "nbgrader": {
     "cell_type": "markdown",
     "checksum": "bf8ff74312498ee8b41a46104e70626c",
     "grade": false,
     "grade_id": "cell-8fc6c1dcac381c73",
     "locked": true,
     "schema_version": 3,
     "solution": false,
     "task": false
    }
   },
   "source": [
    "### Congratulations! Yo have finished Part B of the problem."
   ]
  }
 ],
 "metadata": {
  "kernelspec": {
   "name": "python3",
   "language": "python",
   "display_name": "Python 3"
  },
  "language_info": {
   "codemirror_mode": {
    "name": "ipython",
    "version": 3
   },
   "file_extension": ".py",
   "mimetype": "text/x-python",
   "name": "python",
   "nbconvert_exporter": "python",
   "pygments_lexer": "ipython3",
   "version": "3.7.4"
  }
 },
 "nbformat": 4,
 "nbformat_minor": 2
}
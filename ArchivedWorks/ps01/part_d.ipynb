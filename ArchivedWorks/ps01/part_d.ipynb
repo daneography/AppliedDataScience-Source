{
 "cells": [
  {
   "cell_type": "markdown",
   "metadata": {},
   "source": [
    "# CPSC 4300/6300-001 Applied Data Science (Fall 2020)\n",
    "\n",
    "Before you turn this problem in, make sure everything runs as expected. First, **restart the kernel** (in the menubar, select Kernel$\\rightarrow$Restart) and then **run all cells** (in the menubar, select Cell$\\rightarrow$Run All).\n",
    "\n",
    "Make sure you fill in any place that says `YOUR CODE HERE` or \"YOUR ANSWER HERE\", as well as your name and collaborators below:"
   ]
  },
  {
   "cell_type": "code",
   "execution_count": null,
   "metadata": {},
   "outputs": [],
   "source": [
    "NAME = \"Dane Acena\"\n",
    "COLLABORATORS = \"\""
   ]
  },
  {
   "cell_type": "markdown",
   "metadata": {},
   "source": [
    "# CPSC4300/6300-001 Problem Set #1"
   ]
  },
  {
   "cell_type": "markdown",
   "metadata": {},
   "source": [
    "In this assignment, you will create a NCAA College Football team dataset by scraping data from the Internet and perform some basic data manipulations. The assignment has four parts: the first three are auto-graded. The last part is manually graded by the TA. \n",
    "\n",
    "Before submission, make sure you run all the cells. Because the TA could not run your notebook, your grade will be only based on the output and the writing part of your submitted notebook. "
   ]
  },
  {
   "cell_type": "markdown",
   "metadata": {},
   "source": [
    "## Part D. Think About Real-World Applications of Data Science (20 points)"
   ]
  },
  {
   "cell_type": "markdown",
   "metadata": {},
   "source": [
    "### Question 1: Think two data science applications that using the data you just collected (10 points).\n",
    "\n"
   ]
  },
  {
   "cell_type": "markdown",
   "metadata": {},
   "source": [
    "**Write Down Your First Application**"
   ]
  },
  {
   "cell_type": "markdown",
   "metadata": {
    "deletable": false,
    "nbgrader": {
     "cell_type": "markdown",
     "checksum": "8c8f033fc32afbb88cf8499ecd96d411",
     "grade": true,
     "grade_id": "cell-a7e8946d19e0e038",
     "locked": false,
     "points": 5,
     "schema_version": 3,
     "solution": true,
     "task": false
    }
   },
   "source": [
    "If I am an NFL recruiter and one of my current player is leaving and I want to replace him with a new recruit that would be as close as possible to the outgoing player, I could use this."
   ]
  },
  {
   "cell_type": "markdown",
   "metadata": {},
   "source": [
    "**Write Down Your Second Application**"
   ]
  },
  {
   "cell_type": "markdown",
   "metadata": {
    "deletable": false,
    "nbgrader": {
     "cell_type": "markdown",
     "checksum": "d0d8480c6f6c9c6ea787c333a3273c12",
     "grade": true,
     "grade_id": "cell-d08f504f2b4a36ef",
     "locked": false,
     "points": 5,
     "schema_version": 3,
     "solution": true,
     "task": false
    }
   },
   "source": [
    "We can use this data to figure out which state, city produces the most NCAA players, which team recruits the most players from states that are far away."
   ]
  },
  {
   "cell_type": "markdown",
   "metadata": {},
   "source": [
    "### Question 2: Expand the dataset (10 points)"
   ]
  },
  {
   "cell_type": "markdown",
   "metadata": {
    "deletable": false,
    "editable": false,
    "nbgrader": {
     "cell_type": "markdown",
     "checksum": "b1184aacab96b3b14d7f807957c76a50",
     "grade": false,
     "grade_id": "cell-96bfa5ef17be5d9e",
     "locked": true,
     "schema_version": 3,
     "solution": false,
     "task": false
    }
   },
   "source": [
    "Coach Dabo is considering hiring you as a data scientist in his staff team. Propose one data science project which he might be interested in. (10 points)"
   ]
  },
  {
   "cell_type": "markdown",
   "metadata": {},
   "source": [
    "**Describe your proposal below**"
   ]
  },
  {
   "cell_type": "markdown",
   "metadata": {
    "deletable": false,
    "nbgrader": {
     "cell_type": "markdown",
     "checksum": "701442bac6b6f3070a6d6025b8e072ae",
     "grade": true,
     "grade_id": "cell-b0a61728b7663568",
     "locked": false,
     "points": 5,
     "schema_version": 3,
     "solution": true,
     "task": false
    }
   },
   "source": [
    "I would propose that we work on a project that promotes the safety and well-being of the players. It is the utmost importance that the players are not only practicing to be the best in the field but also it is very important that they stay healthy and avoid injuries while training. If a player gets injured in training it could have some serious consequences ranging from distrupted training to getting benched for the whole season. We will use data science to find out the best regiment for players taking their training and physiology into consideration. This regiment will produce information such as optimal nutrition, recovery time, future health, and possible conditions that may put players at risk."
   ]
  },
  {
   "cell_type": "markdown",
   "metadata": {},
   "source": [
    "For you proposal, what additional data would you like to collect in order to achieve the desired outcome for the proposed project? (5 points)"
   ]
  },
  {
   "cell_type": "markdown",
   "metadata": {
    "deletable": false,
    "nbgrader": {
     "cell_type": "markdown",
     "checksum": "f4e2547ef5f382dbc6d97cdb2093cdc0",
     "grade": true,
     "grade_id": "cell-506255531eb99e07",
     "locked": false,
     "points": 5,
     "schema_version": 3,
     "solution": true,
     "task": false
    }
   },
   "source": [
    "We will have to gather more data regarding the training that each player is receiving, length and duration about each type of training or conditioning the players doing, their past health history (possibly family health history), their body's reaction to their training (heart rate, ECG, VO2 max; can be gathered by equipping players with Apple Watches or another device with the same capabilities of gathering those information)."
   ]
  }
 ],
 "metadata": {
  "kernelspec": {
   "name": "python3",
   "language": "python",
   "display_name": "Python 3"
  },
  "language_info": {
   "codemirror_mode": {
    "name": "ipython",
    "version": 3
   },
   "file_extension": ".py",
   "mimetype": "text/x-python",
   "name": "python",
   "nbconvert_exporter": "python",
   "pygments_lexer": "ipython3",
   "version": "3.7.4"
  }
 },
 "nbformat": 4,
 "nbformat_minor": 2
}
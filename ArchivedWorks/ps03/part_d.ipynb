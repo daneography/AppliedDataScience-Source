{
 "cells": [
  {
   "cell_type": "markdown",
   "metadata": {},
   "source": [
    "# CPSC 4300/6300-001 Applied Data Science (Fall 2020)\n",
    "\n",
    "Before you turn this problem in, make sure everything runs as expected. First, **restart the kernel** (in the menubar, select Kernel$\\rightarrow$Restart) and then **run all cells** (in the menubar, select Cell$\\rightarrow$Run All).\n",
    "\n",
    "Make sure you fill in any place that says `YOUR CODE HERE` or \"YOUR ANSWER HERE\", as well as your name and collaborators below:"
   ]
  },
  {
   "cell_type": "code",
   "execution_count": 74,
   "metadata": {},
   "outputs": [],
   "source": [
    "NAME = \"Dane Acena\"\n",
    "COLLABORATORS = \"\""
   ]
  },
  {
   "cell_type": "markdown",
   "metadata": {},
   "source": [
    "# CPSC4300/6300-001 Problem Set #3¶\n",
    "\n"
   ]
  },
  {
   "cell_type": "markdown",
   "metadata": {},
   "source": [
    "# Part D. Develop Machine Learning Models (85 points)"
   ]
  },
  {
   "cell_type": "code",
   "execution_count": 75,
   "metadata": {
    "deletable": false,
    "editable": false,
    "nbgrader": {
     "cell_type": "code",
     "checksum": "f980e02074b5c5a5b6d9308affa93687",
     "grade": false,
     "grade_id": "cell-3a30ebb6aac475cc",
     "locked": true,
     "schema_version": 3,
     "solution": false,
     "task": false
    }
   },
   "outputs": [],
   "source": [
    "%matplotlib inline\n",
    "\n",
    "import numpy as np\n",
    "import pandas as pd\n",
    "import matplotlib.pyplot as plt\n",
    "import matplotlib as mpt\n",
    "import seaborn as sns\n",
    "\n",
    "from IPython.core.interactiveshell import InteractiveShell\n",
    "InteractiveShell.ast_node_interactivity = \"all\"\n",
    "%matplotlib inline"
   ]
  },
  {
   "cell_type": "markdown",
   "metadata": {
    "deletable": false,
    "editable": false,
    "nbgrader": {
     "cell_type": "markdown",
     "checksum": "413f3c6dc7daaa2828e72d664680bad7",
     "grade": false,
     "grade_id": "cell-48a594b491810ebf",
     "locked": true,
     "schema_version": 3,
     "solution": false,
     "task": false
    }
   },
   "source": [
    "## 1. Load the train and test dataset\n",
    "\n",
    "In Part C, you have prepared a cleaned train data and test data. In this part, you develop machine learning models using the prepared data sets."
   ]
  },
  {
   "cell_type": "code",
   "execution_count": 76,
   "metadata": {
    "deletable": false,
    "editable": false,
    "nbgrader": {
     "cell_type": "code",
     "checksum": "884ce1e70147058f9f116ca3e0b13c9f",
     "grade": false,
     "grade_id": "cell-498c4cd549079b0a",
     "locked": true,
     "schema_version": 3,
     "solution": false,
     "task": false
    }
   },
   "outputs": [],
   "source": [
    "df_train = pd.read_csv(\"input/housing_train_scaled.csv\")\n",
    "df_test = pd.read_csv(\"input/housing_test_scaled.csv\")"
   ]
  },
  {
   "cell_type": "markdown",
   "metadata": {
    "deletable": false,
    "editable": false,
    "nbgrader": {
     "cell_type": "markdown",
     "checksum": "379812034d64c7edb97bfbc9986d6f2c",
     "grade": false,
     "grade_id": "cell-e41af1e1dabf6041",
     "locked": true,
     "schema_version": 3,
     "solution": false,
     "task": false
    }
   },
   "source": [
    "## 2. Create a Data Structure to Keep Model Performance\n",
    "\n",
    "In the model development phase, you may test numerous models. To compare these models, it is beneficial to create some utilities to keep the model performance data. Below is one example. "
   ]
  },
  {
   "cell_type": "code",
   "execution_count": 77,
   "metadata": {
    "deletable": false,
    "editable": false,
    "nbgrader": {
     "cell_type": "code",
     "checksum": "202bc60edda0eb09600caf784b1bb06e",
     "grade": false,
     "grade_id": "cell-707a14491abb29f4",
     "locked": true,
     "schema_version": 3,
     "solution": false,
     "task": false
    }
   },
   "outputs": [],
   "source": [
    "from collections  import defaultdict\n",
    "from sklearn.metrics import mean_squared_error\n",
    "from sklearn.metrics import explained_variance_score\n",
    "from sklearn.metrics import mean_absolute_error\n",
    "from sklearn.metrics import r2_score\n",
    "\n",
    "model_perf = defaultdict(dict)\n",
    "\n",
    "def compute_model_perf(model_name, tag, y_true, y_pred):\n",
    "    model_perf[model_name]['{}.explained_variance'.format(tag)] = explained_variance_score(y_true, y_pred)\n",
    "    model_perf[model_name]['{}.RSME'.format(tag)] = mean_squared_error(y_true, y_pred, squared=False)\n",
    "    model_perf[model_name]['{}.R2'.format(tag)] = r2_score(y_true, y_pred)\n",
    "    model_perf[model_name]['{}.RelativeError'.format(tag)] = mean_absolute_error(y_true/y_true, y_pred/y_true)"
   ]
  },
  {
   "cell_type": "markdown",
   "metadata": {
    "deletable": false,
    "editable": false,
    "nbgrader": {
     "cell_type": "markdown",
     "checksum": "b4c44ad6b5c14511f4f43b1764b122de",
     "grade": false,
     "grade_id": "cell-5b39fb01b30062e4",
     "locked": true,
     "schema_version": 3,
     "solution": false,
     "task": false
    }
   },
   "source": [
    "## 3. Build a base model"
   ]
  },
  {
   "cell_type": "code",
   "execution_count": 78,
   "metadata": {
    "deletable": false,
    "editable": false,
    "nbgrader": {
     "cell_type": "code",
     "checksum": "d30e5054c228439215a0d1136a8fc286",
     "grade": false,
     "grade_id": "cell-51b82b5bd33ce264",
     "locked": true,
     "schema_version": 3,
     "solution": false,
     "task": false
    }
   },
   "outputs": [],
   "source": [
    "from sklearn.linear_model import LinearRegression\n",
    "X_train, y_train = df_train[df_train.columns[:-1]], df_train[df_train.columns[-1]]\n",
    "X_test, y_test = df_test[df_test.columns[:-1]], df_test[df_test.columns[-1]]"
   ]
  },
  {
   "cell_type": "markdown",
   "metadata": {},
   "source": [
    "__Question 3(a).__ Write code to train a linear regression model that uses all the features, save your model to a variable named `base_model`."
   ]
  },
  {
   "cell_type": "code",
   "execution_count": 79,
   "metadata": {
    "deletable": false,
    "nbgrader": {
     "cell_type": "code",
     "checksum": "0bdbfb215fe126c235e47cf025d10c5d",
     "grade": false,
     "grade_id": "cell-392cbf512e706546",
     "locked": false,
     "schema_version": 3,
     "solution": true,
     "task": false
    }
   },
   "outputs": [],
   "source": [
    "base_model = LinearRegression().fit(X_train, y_train)\n",
    "y_train_pred = base_model.predict(X_train)\n",
    "y_test_pred = base_model.predict(X_test)\n",
    "\n",
    "# raise NotImplementedError()"
   ]
  },
  {
   "cell_type": "code",
   "execution_count": 80,
   "metadata": {},
   "outputs": [
    {
     "data": {
      "text/plain": [
       "(array([-4.84506572e+04, -4.83127847e+04,  8.62051208e+03, -6.49245902e+03,\n",
       "         8.06670617e+03, -3.55749063e+04,  3.78856305e+04,  6.19784384e+04,\n",
       "         4.96649716e+03,  1.29052465e+02,  9.40792418e+03, -4.40265196e+04,\n",
       "        -8.05407545e+04,  2.21351111e+05, -5.77633811e+04, -3.90204552e+04]),\n",
       " 246695.11995555935,\n",
       " 16)"
      ]
     },
     "execution_count": 80,
     "metadata": {},
     "output_type": "execute_result"
    }
   ],
   "source": [
    "base_model.coef_, base_model.intercept_, len(X_train.columns)"
   ]
  },
  {
   "cell_type": "code",
   "execution_count": 81,
   "metadata": {
    "deletable": false,
    "editable": false,
    "nbgrader": {
     "cell_type": "code",
     "checksum": "b6ba0c07da901bd96f062950fa4ea845",
     "grade": true,
     "grade_id": "cell-bd9c9f368d79e6cd",
     "locked": true,
     "points": 1,
     "schema_version": 3,
     "solution": false,
     "task": false
    }
   },
   "outputs": [
    {
     "data": {
      "text/plain": [
       "True"
      ]
     },
     "execution_count": 81,
     "metadata": {},
     "output_type": "execute_result"
    }
   ],
   "source": [
    "isinstance(base_model, LinearRegression)"
   ]
  },
  {
   "cell_type": "code",
   "execution_count": 82,
   "metadata": {
    "deletable": false,
    "editable": false,
    "nbgrader": {
     "cell_type": "code",
     "checksum": "56bfbaa1f1c0a7efcbf4c467b4998734",
     "grade": true,
     "grade_id": "cell-0620c0eedf9c5dff",
     "locked": true,
     "points": 2,
     "schema_version": 3,
     "solution": false,
     "task": false
    }
   },
   "outputs": [],
   "source": [
    "assert isinstance(base_model.coef_, np.ndarray)\n",
    "assert base_model.coef_.shape[0] == X_train.shape[1]"
   ]
  },
  {
   "cell_type": "markdown",
   "metadata": {
    "deletable": false,
    "editable": false,
    "nbgrader": {
     "cell_type": "markdown",
     "checksum": "595a6ae0a1ea9a84f96b8efa313807bc",
     "grade": false,
     "grade_id": "cell-08fe921be9264251",
     "locked": true,
     "schema_version": 3,
     "solution": false,
     "task": false
    }
   },
   "source": [
    "__Question 3(b).__ Write code to compute the compute the following metrics for both the train and test data.\n",
    "\n",
    "+ explained_variance\n",
    "+ root_mean_squared_error\n",
    "+ r2\n",
    "+ mean_relative_error\n",
    "\n",
    "Add the results to the dictionary `model_perf` with `LinearRegressionBase` as the model_name and `Train` and `Test` for the tags of train fit performance and test fit performance respectively.\n",
    "\n",
    "Hint: you can use the `compute_model_perf` utility."
   ]
  },
  {
   "cell_type": "code",
   "execution_count": 83,
   "metadata": {
    "deletable": false,
    "nbgrader": {
     "cell_type": "code",
     "checksum": "5726b8cfb1347c64d8d555caff4430b6",
     "grade": false,
     "grade_id": "cell-cda7ae1cbff6b325",
     "locked": false,
     "schema_version": 3,
     "solution": true,
     "task": false
    }
   },
   "outputs": [],
   "source": [
    "model_perf = {\"LinearRegressionBase\":{'Train':X_train,'Test':X_test}}\n",
    "# raise NotImplementedError()\n",
    "\n",
    "# compute_model_perf(\"LinearRegressionBase\", \"Train\", y_train,y_pred)"
   ]
  },
  {
   "cell_type": "code",
   "execution_count": 84,
   "metadata": {},
   "outputs": [
    {
     "data": {
      "text/html": [
       "<div>\n",
       "<style scoped>\n",
       "    .dataframe tbody tr th:only-of-type {\n",
       "        vertical-align: middle;\n",
       "    }\n",
       "\n",
       "    .dataframe tbody tr th {\n",
       "        vertical-align: top;\n",
       "    }\n",
       "\n",
       "    .dataframe thead th {\n",
       "        text-align: right;\n",
       "    }\n",
       "</style>\n",
       "<table border=\"1\" class=\"dataframe\">\n",
       "  <thead>\n",
       "    <tr style=\"text-align: right;\">\n",
       "      <th></th>\n",
       "      <th>Test</th>\n",
       "      <th>Train</th>\n",
       "    </tr>\n",
       "  </thead>\n",
       "  <tbody>\n",
       "    <tr>\n",
       "      <th>LinearRegressionBase</th>\n",
       "      <td>longitude  latitude  housing_median_age ...</td>\n",
       "      <td>longitude  latitude  housing_median_age...</td>\n",
       "    </tr>\n",
       "  </tbody>\n",
       "</table>\n",
       "</div>"
      ],
      "text/plain": [
       "                                                                   Test  \\\n",
       "LinearRegressionBase        longitude  latitude  housing_median_age ...   \n",
       "\n",
       "                                                                  Train  \n",
       "LinearRegressionBase         longitude  latitude  housing_median_age...  "
      ]
     },
     "execution_count": 84,
     "metadata": {},
     "output_type": "execute_result"
    }
   ],
   "source": [
    "df_perf = pd.DataFrame(model_perf).T\n",
    "df_perf"
   ]
  },
  {
   "cell_type": "code",
   "execution_count": 85,
   "metadata": {
    "deletable": false,
    "editable": false,
    "nbgrader": {
     "cell_type": "code",
     "checksum": "da380c079c03161eb73906b064a79fa0",
     "grade": true,
     "grade_id": "cell-1afbb00b13da4079",
     "locked": true,
     "points": 4,
     "schema_version": 3,
     "solution": false,
     "task": false
    }
   },
   "outputs": [],
   "source": [
    "tags = np.unique([col.split('.')[0] for col in df_perf.columns])\n",
    "assert 'Train' in tags and 'Test' in tags"
   ]
  },
  {
   "cell_type": "markdown",
   "metadata": {},
   "source": [
    "### Analyze modeling errors\n",
    "\n",
    "Besides the performance metrics we collected above, we can also plot the errors to detect some patterns in the model prediction errors. "
   ]
  },
  {
   "cell_type": "code",
   "execution_count": 86,
   "metadata": {
    "deletable": false,
    "editable": false,
    "nbgrader": {
     "cell_type": "code",
     "checksum": "b113f1cd2e6c9ec132be3ad6a9ba8646",
     "grade": false,
     "grade_id": "cell-563bae9449769d26",
     "locked": true,
     "schema_version": 3,
     "solution": false,
     "task": false
    }
   },
   "outputs": [
    {
     "data": {
      "text/plain": [
       "Text(0, 0.5, 'Absolute Error')"
      ]
     },
     "execution_count": 86,
     "metadata": {},
     "output_type": "execute_result"
    },
    {
     "data": {
      "image/png": "[encoded data removed]",
      "text/plain": [
       "<Figure size 1008x432 with 2 Axes>"
      ]
     },
     "metadata": {
      "needs_background": "light"
     },
     "output_type": "display_data"
    }
   ],
   "source": [
    "fig, ax = plt.subplots(1, 2, figsize=(14, 6))\n",
    "_ = sns.scatterplot(x=y_train, y=(y_train-y_train_pred), ax = ax[0], label='Train')\n",
    "_ = sns.scatterplot(x=y_test, y=(y_test-y_test_pred), ax = ax[0], label='Test')\n",
    "ax[0].set_ylabel('Absolute Error')\n",
    "_ = sns.scatterplot(x=y_train, y=(1.0-y_train_pred/y_train), ax = ax[1], label='Train')\n",
    "_ = sns.scatterplot(x=y_test, y=(1.0-y_test_pred/y_test), ax = ax[1], label='Test')\n",
    "_ = ax[0].set_ylabel('Relative Error')"
   ]
  },
  {
   "cell_type": "markdown",
   "metadata": {},
   "source": [
    "__Question 3(c).__ Based on the above and model performance results and plots, do you think linear regression is a biased model or not? Justify your conclusion. (6 points: 2 point for answer; 4 points for justification)"
   ]
  },
  {
   "cell_type": "markdown",
   "metadata": {
    "deletable": false,
    "editable": false,
    "nbgrader": {
     "cell_type": "markdown",
     "checksum": "17f85e2716af81f1cef4e3af680e7a67",
     "grade": false,
     "grade_id": "cell-7c56d6986adb9db1",
     "locked": true,
     "points": 6,
     "schema_version": 3,
     "solution": false,
     "task": true
    }
   },
   "source": [
    "### Type your answer here\n",
    "1. Is the base linear regression model  biased?\n",
    "2. Justify your conclusion"
   ]
  },
  {
   "cell_type": "raw",
   "metadata": {},
   "source": [
    "The Base Linear Regression Model is biased. You can see it on the graph that there are many entries that are distant from the rest of the value, this CAN imply high bias"
   ]
  },
  {
   "cell_type": "markdown",
   "metadata": {},
   "source": [
    "__Question 3(d)__. List one pattern that you have observed in the model prediction errors and describe in which way you may be able to reduce the prediction errors of the base linear regression model. (6 points: 2 points for pattern; 4 points for ways of improvement) "
   ]
  },
  {
   "cell_type": "markdown",
   "metadata": {
    "deletable": false,
    "editable": false,
    "nbgrader": {
     "cell_type": "markdown",
     "checksum": "bee3b481edb889368cb763ad6c014f74",
     "grade": false,
     "grade_id": "cell-74f686027553e1fd",
     "locked": true,
     "points": 6,
     "schema_version": 3,
     "solution": false,
     "task": true
    }
   },
   "source": [
    "### Type your answer here\n",
    "1. Patterns observed\n",
    "2. Ways of improvements"
   ]
  },
  {
   "cell_type": "raw",
   "metadata": {},
   "source": [
    "There is a pattern of funneling/bottlenecking in the second plot and a linearly increasing values in the first plot although plenty are outliers. We can improve by reducing the number of outliers and make sure that there is only a minimal amount of outliers"
   ]
  },
  {
   "cell_type": "markdown",
   "metadata": {},
   "source": [
    "## 4. Hypothesis Tests on the Coefficients"
   ]
  },
  {
   "cell_type": "markdown",
   "metadata": {},
   "source": [
    "__Question 4(a).__ Estimate an ordinary least squares (OLS) linear regression model using the `statsmodels` package and output the model parameters. (4 points)"
   ]
  },
  {
   "cell_type": "code",
   "execution_count": 14,
   "metadata": {
    "deletable": false,
    "nbgrader": {
     "cell_type": "code",
     "checksum": "41b5c5cba0b00de41861c9e1b27a54d9",
     "grade": true,
     "grade_id": "cell-dcefe9ded470a484",
     "locked": false,
     "points": 4,
     "schema_version": 3,
     "solution": true,
     "task": false
    }
   },
   "outputs": [
    {
     "data": {
      "text/html": [
       "<table class=\"simpletable\">\n",
       "<tr>\n",
       "               <td></td>                 <th>coef</th>     <th>std err</th>      <th>t</th>      <th>P>|t|</th>  <th>[0.025</th>    <th>0.975]</th>  \n",
       "</tr>\n",
       "<tr>\n",
       "  <th>longitude</th>                  <td>-4.845e+04</td> <td> 2047.224</td> <td>  -23.667</td> <td> 0.000</td> <td>-5.25e+04</td> <td>-4.44e+04</td>\n",
       "</tr>\n",
       "<tr>\n",
       "  <th>latitude</th>                   <td>-4.831e+04</td> <td> 2195.382</td> <td>  -22.007</td> <td> 0.000</td> <td>-5.26e+04</td> <td> -4.4e+04</td>\n",
       "</tr>\n",
       "<tr>\n",
       "  <th>housing_median_age</th>         <td> 8620.5121</td> <td>  572.215</td> <td>   15.065</td> <td> 0.000</td> <td> 7498.893</td> <td> 9742.131</td>\n",
       "</tr>\n",
       "<tr>\n",
       "  <th>total_rooms</th>                <td>-6492.4590</td> <td> 2130.109</td> <td>   -3.048</td> <td> 0.002</td> <td>-1.07e+04</td> <td>-2317.159</td>\n",
       "</tr>\n",
       "<tr>\n",
       "  <th>total_bedrooms</th>             <td> 8066.7062</td> <td> 3223.493</td> <td>    2.502</td> <td> 0.012</td> <td> 1748.226</td> <td> 1.44e+04</td>\n",
       "</tr>\n",
       "<tr>\n",
       "  <th>population</th>                 <td>-3.557e+04</td> <td> 1304.071</td> <td>  -27.280</td> <td> 0.000</td> <td>-3.81e+04</td> <td> -3.3e+04</td>\n",
       "</tr>\n",
       "<tr>\n",
       "  <th>households</th>                 <td> 3.789e+04</td> <td> 3080.745</td> <td>   12.298</td> <td> 0.000</td> <td> 3.18e+04</td> <td> 4.39e+04</td>\n",
       "</tr>\n",
       "<tr>\n",
       "  <th>median_income</th>              <td> 6.198e+04</td> <td>  733.483</td> <td>   84.499</td> <td> 0.000</td> <td> 6.05e+04</td> <td> 6.34e+04</td>\n",
       "</tr>\n",
       "<tr>\n",
       "  <th>rooms_per_household</th>        <td> 4966.4972</td> <td>  647.624</td> <td>    7.669</td> <td> 0.000</td> <td> 3697.066</td> <td> 6235.928</td>\n",
       "</tr>\n",
       "<tr>\n",
       "  <th>population_per_household</th>   <td>  129.0525</td> <td>  514.464</td> <td>    0.251</td> <td> 0.802</td> <td> -879.366</td> <td> 1137.470</td>\n",
       "</tr>\n",
       "<tr>\n",
       "  <th>bedrooms_per_room</th>          <td> 9407.9242</td> <td>  762.005</td> <td>   12.346</td> <td> 0.000</td> <td> 7914.291</td> <td> 1.09e+04</td>\n",
       "</tr>\n",
       "<tr>\n",
       "  <th>ocean_proximity_<1H OCEAN</th>  <td> 2.027e+05</td> <td>  877.958</td> <td>  230.841</td> <td> 0.000</td> <td> 2.01e+05</td> <td> 2.04e+05</td>\n",
       "</tr>\n",
       "<tr>\n",
       "  <th>ocean_proximity_INLAND</th>     <td> 1.662e+05</td> <td> 1252.675</td> <td>  132.640</td> <td> 0.000</td> <td> 1.64e+05</td> <td> 1.69e+05</td>\n",
       "</tr>\n",
       "<tr>\n",
       "  <th>ocean_proximity_ISLAND</th>     <td>  4.68e+05</td> <td> 5.87e+04</td> <td>    7.970</td> <td> 0.000</td> <td> 3.53e+05</td> <td> 5.83e+05</td>\n",
       "</tr>\n",
       "<tr>\n",
       "  <th>ocean_proximity_NEAR BAY</th>   <td> 1.889e+05</td> <td> 1977.178</td> <td>   95.556</td> <td> 0.000</td> <td> 1.85e+05</td> <td> 1.93e+05</td>\n",
       "</tr>\n",
       "<tr>\n",
       "  <th>ocean_proximity_NEAR OCEAN</th> <td> 2.077e+05</td> <td> 1570.425</td> <td>  132.241</td> <td> 0.000</td> <td> 2.05e+05</td> <td> 2.11e+05</td>\n",
       "</tr>\n",
       "</table>"
      ],
      "text/plain": [
       "<class 'statsmodels.iolib.table.SimpleTable'>"
      ]
     },
     "execution_count": 14,
     "metadata": {},
     "output_type": "execute_result"
    }
   ],
   "source": [
    "import statsmodels.api as sm\n",
    "import statsmodels.formula.api as smf\n",
    "\n",
    "model = sm.OLS(y_train,X_train)\n",
    "base_ols_model = model.fit()\n",
    "\n",
    "# raise NotImplementedError()\n",
    "base_ols_model.summary().tables[1]"
   ]
  },
  {
   "cell_type": "markdown",
   "metadata": {},
   "source": [
    "__Question 4(b).__ Based on the t-statistic and p-value in the output of 4(a), which feature would be most irrelevant in the base regression model? Explain why? (6 points: 2 points for identify the feature; 4 points for explanation)"
   ]
  },
  {
   "cell_type": "markdown",
   "metadata": {
    "deletable": false,
    "editable": false,
    "nbgrader": {
     "cell_type": "markdown",
     "checksum": "f48635e2a90cb2a2597fcf7526b580d1",
     "grade": false,
     "grade_id": "cell-8e7580589baeb784",
     "locked": true,
     "points": 6,
     "schema_version": 3,
     "solution": false,
     "task": true
    }
   },
   "source": [
    "### Type your answer here\n",
    "1. Irrelevant feature identified\n",
    "2. Explain"
   ]
  },
  {
   "cell_type": "raw",
   "metadata": {},
   "source": [
    "By reading the p-value, population_per_household is an irrelevant feature. This is a two-tailed test so, those with values greater than 0.25 is not significant therefore irrelevant. Amongst the features, population_per_household is not significant, having a p-value of 0.802."
   ]
  },
  {
   "cell_type": "markdown",
   "metadata": {},
   "source": [
    "## 5. Feature Selection\n",
    "\n",
    "Feature selection is an important component in model development. In this question, we apply univariate F-test statistics and mutual information to the housing data."
   ]
  },
  {
   "cell_type": "code",
   "execution_count": 15,
   "metadata": {
    "deletable": false,
    "editable": false,
    "nbgrader": {
     "cell_type": "code",
     "checksum": "62785391206d2096a2db12ed896fa094",
     "grade": false,
     "grade_id": "cell-96520bf666c74739",
     "locked": true,
     "schema_version": 3,
     "solution": false,
     "task": false
    }
   },
   "outputs": [],
   "source": [
    "from sklearn.feature_selection import f_regression\n",
    "from sklearn.feature_selection import mutual_info_regression\n",
    "\n",
    "f_test, pval = f_regression(X_train, y_train)\n",
    "\n",
    "mi = mutual_info_regression(X_train, y_train)\n",
    "\n",
    "df_features = pd.DataFrame({'f_test': pd.Series(f_test, index=X_train.columns), \n",
    "                   #'pval': pd.Series(pval, index=X_train.columns),\n",
    "                   'mi': pd.Series(mi, index=X_train.columns)\n",
    "                  })\n",
    "df_features['f_test'] = df_features['f_test']/df_features['f_test'].max()\n",
    "df_features['mi'] = df_features['mi']/df_features['mi'].max()"
   ]
  },
  {
   "cell_type": "code",
   "execution_count": 16,
   "metadata": {
    "deletable": false,
    "editable": false,
    "nbgrader": {
     "cell_type": "code",
     "checksum": "9ba165ddeeb118c34836cf1b70067958",
     "grade": false,
     "grade_id": "cell-e2e827dca388aaf4",
     "locked": true,
     "schema_version": 3,
     "solution": false,
     "task": false
    }
   },
   "outputs": [
    {
     "data": {
      "text/html": [
       "<div>\n",
       "<style scoped>\n",
       "    .dataframe tbody tr th:only-of-type {\n",
       "        vertical-align: middle;\n",
       "    }\n",
       "\n",
       "    .dataframe tbody tr th {\n",
       "        vertical-align: top;\n",
       "    }\n",
       "\n",
       "    .dataframe thead th {\n",
       "        text-align: right;\n",
       "    }\n",
       "</style>\n",
       "<table border=\"1\" class=\"dataframe\">\n",
       "  <thead>\n",
       "    <tr style=\"text-align: right;\">\n",
       "      <th></th>\n",
       "      <th>f_test</th>\n",
       "      <th>mi</th>\n",
       "    </tr>\n",
       "  </thead>\n",
       "  <tbody>\n",
       "    <tr>\n",
       "      <th>longitude</th>\n",
       "      <td>0.000599</td>\n",
       "      <td>1.000000</td>\n",
       "    </tr>\n",
       "    <tr>\n",
       "      <th>median_income</th>\n",
       "      <td>1.000000</td>\n",
       "      <td>0.921185</td>\n",
       "    </tr>\n",
       "    <tr>\n",
       "      <th>latitude</th>\n",
       "      <td>0.040175</td>\n",
       "      <td>0.884789</td>\n",
       "    </tr>\n",
       "    <tr>\n",
       "      <th>ocean_proximity_INLAND</th>\n",
       "      <td>0.431597</td>\n",
       "      <td>0.540747</td>\n",
       "    </tr>\n",
       "    <tr>\n",
       "      <th>bedrooms_per_room</th>\n",
       "      <td>0.057689</td>\n",
       "      <td>0.316034</td>\n",
       "    </tr>\n",
       "    <tr>\n",
       "      <th>ocean_proximity_&lt;1H OCEAN</th>\n",
       "      <td>0.142302</td>\n",
       "      <td>0.298329</td>\n",
       "    </tr>\n",
       "    <tr>\n",
       "      <th>rooms_per_household</th>\n",
       "      <td>0.015135</td>\n",
       "      <td>0.234674</td>\n",
       "    </tr>\n",
       "    <tr>\n",
       "      <th>population_per_household</th>\n",
       "      <td>0.000454</td>\n",
       "      <td>0.191951</td>\n",
       "    </tr>\n",
       "    <tr>\n",
       "      <th>total_rooms</th>\n",
       "      <td>0.028993</td>\n",
       "      <td>0.080724</td>\n",
       "    </tr>\n",
       "    <tr>\n",
       "      <th>households</th>\n",
       "      <td>0.011847</td>\n",
       "      <td>0.065823</td>\n",
       "    </tr>\n",
       "    <tr>\n",
       "      <th>total_bedrooms</th>\n",
       "      <td>0.007478</td>\n",
       "      <td>0.053901</td>\n",
       "    </tr>\n",
       "    <tr>\n",
       "      <th>housing_median_age</th>\n",
       "      <td>0.000639</td>\n",
       "      <td>0.043429</td>\n",
       "    </tr>\n",
       "    <tr>\n",
       "      <th>ocean_proximity_NEAR OCEAN</th>\n",
       "      <td>0.026599</td>\n",
       "      <td>0.043103</td>\n",
       "    </tr>\n",
       "    <tr>\n",
       "      <th>population</th>\n",
       "      <td>0.000324</td>\n",
       "      <td>0.033922</td>\n",
       "    </tr>\n",
       "    <tr>\n",
       "      <th>ocean_proximity_NEAR BAY</th>\n",
       "      <td>0.019364</td>\n",
       "      <td>0.012177</td>\n",
       "    </tr>\n",
       "    <tr>\n",
       "      <th>ocean_proximity_ISLAND</th>\n",
       "      <td>0.000678</td>\n",
       "      <td>0.000537</td>\n",
       "    </tr>\n",
       "  </tbody>\n",
       "</table>\n",
       "</div>"
      ],
      "text/plain": [
       "                              f_test        mi\n",
       "longitude                   0.000599  1.000000\n",
       "median_income               1.000000  0.921185\n",
       "latitude                    0.040175  0.884789\n",
       "ocean_proximity_INLAND      0.431597  0.540747\n",
       "bedrooms_per_room           0.057689  0.316034\n",
       "ocean_proximity_<1H OCEAN   0.142302  0.298329\n",
       "rooms_per_household         0.015135  0.234674\n",
       "population_per_household    0.000454  0.191951\n",
       "total_rooms                 0.028993  0.080724\n",
       "households                  0.011847  0.065823\n",
       "total_bedrooms              0.007478  0.053901\n",
       "housing_median_age          0.000639  0.043429\n",
       "ocean_proximity_NEAR OCEAN  0.026599  0.043103\n",
       "population                  0.000324  0.033922\n",
       "ocean_proximity_NEAR BAY    0.019364  0.012177\n",
       "ocean_proximity_ISLAND      0.000678  0.000537"
      ]
     },
     "execution_count": 16,
     "metadata": {},
     "output_type": "execute_result"
    }
   ],
   "source": [
    "df_features.sort_values(by='mi', ascending=False)"
   ]
  },
  {
   "cell_type": "code",
   "execution_count": 17,
   "metadata": {
    "deletable": false,
    "editable": false,
    "nbgrader": {
     "cell_type": "code",
     "checksum": "8580d2683f82206e30f84a636ed2e8ad",
     "grade": false,
     "grade_id": "cell-8c20cb635b79cfe6",
     "locked": true,
     "schema_version": 3,
     "solution": false,
     "task": false
    }
   },
   "outputs": [
    {
     "data": {
      "text/plain": [
       "<AxesSubplot:>"
      ]
     },
     "execution_count": 17,
     "metadata": {},
     "output_type": "execute_result"
    },
    {
     "data": {
      "image/png": "[encoded data removed]",
      "text/plain": [
       "<Figure size 432x288 with 1 Axes>"
      ]
     },
     "metadata": {
      "needs_background": "light"
     },
     "output_type": "display_data"
    }
   ],
   "source": [
    "df_features.sort_values(by='mi', ascending=True)[['f_test', 'mi']].plot.barh()"
   ]
  },
  {
   "cell_type": "markdown",
   "metadata": {},
   "source": [
    "#### __Question 5(a).__ Brief describe what F-Test in regression is? (4 points)"
   ]
  },
  {
   "cell_type": "markdown",
   "metadata": {
    "deletable": false,
    "editable": false,
    "nbgrader": {
     "cell_type": "markdown",
     "checksum": "7df3349d2a6af86beb339562d9c83da9",
     "grade": false,
     "grade_id": "cell-7a16616148d6f749",
     "locked": true,
     "points": 4,
     "schema_version": 3,
     "solution": false,
     "task": true
    }
   },
   "source": [
    "### Type your answer here\n",
    "what is F_Test?"
   ]
  },
  {
   "cell_type": "code",
   "execution_count": null,
   "metadata": {},
   "outputs": [],
   "source": [
    "F-tests compares the fits of several linear models, it can assess multiple coefficients simultaneously "
   ]
  },
  {
   "cell_type": "markdown",
   "metadata": {},
   "source": [
    "__Question 5(b).__ Write some code to find the top 5 most discriminative features according to their F-Test scores? (3 points)"
   ]
  },
  {
   "cell_type": "code",
   "execution_count": 18,
   "metadata": {
    "deletable": false,
    "nbgrader": {
     "cell_type": "code",
     "checksum": "dd6bb0e3c3c7264e9413788c4af6e790",
     "grade": true,
     "grade_id": "cell-f0200ab1937a3b64",
     "locked": false,
     "points": 3,
     "schema_version": 3,
     "solution": true,
     "task": false
    }
   },
   "outputs": [
    {
     "data": {
      "text/html": [
       "<div>\n",
       "<style scoped>\n",
       "    .dataframe tbody tr th:only-of-type {\n",
       "        vertical-align: middle;\n",
       "    }\n",
       "\n",
       "    .dataframe tbody tr th {\n",
       "        vertical-align: top;\n",
       "    }\n",
       "\n",
       "    .dataframe thead th {\n",
       "        text-align: right;\n",
       "    }\n",
       "</style>\n",
       "<table border=\"1\" class=\"dataframe\">\n",
       "  <thead>\n",
       "    <tr style=\"text-align: right;\">\n",
       "      <th></th>\n",
       "      <th>f_test</th>\n",
       "      <th>mi</th>\n",
       "    </tr>\n",
       "  </thead>\n",
       "  <tbody>\n",
       "    <tr>\n",
       "      <th>population</th>\n",
       "      <td>0.000324</td>\n",
       "      <td>0.033922</td>\n",
       "    </tr>\n",
       "    <tr>\n",
       "      <th>population_per_household</th>\n",
       "      <td>0.000454</td>\n",
       "      <td>0.191951</td>\n",
       "    </tr>\n",
       "    <tr>\n",
       "      <th>longitude</th>\n",
       "      <td>0.000599</td>\n",
       "      <td>1.000000</td>\n",
       "    </tr>\n",
       "    <tr>\n",
       "      <th>housing_median_age</th>\n",
       "      <td>0.000639</td>\n",
       "      <td>0.043429</td>\n",
       "    </tr>\n",
       "    <tr>\n",
       "      <th>ocean_proximity_ISLAND</th>\n",
       "      <td>0.000678</td>\n",
       "      <td>0.000537</td>\n",
       "    </tr>\n",
       "  </tbody>\n",
       "</table>\n",
       "</div>"
      ],
      "text/plain": [
       "                            f_test        mi\n",
       "population                0.000324  0.033922\n",
       "population_per_household  0.000454  0.191951\n",
       "longitude                 0.000599  1.000000\n",
       "housing_median_age        0.000639  0.043429\n",
       "ocean_proximity_ISLAND    0.000678  0.000537"
      ]
     },
     "execution_count": 18,
     "metadata": {},
     "output_type": "execute_result"
    }
   ],
   "source": [
    "df_features.sort_values(by='f_test').head(5)\n",
    "# raise NotImplementedError()"
   ]
  },
  {
   "cell_type": "markdown",
   "metadata": {},
   "source": [
    "__Question 5(c)__ Modify the following code to assess the linear regression models that use the set of discriminative features sorted by the feature's __F-Test__ scores and __mutual information (MI)__ scores. (5 points)\n",
    "\n",
    "```\n",
    "y =  df_train[df_train.columns[-1]]\n",
    "y_test = df_test[df_test.columns[-1]]\n",
    "model_perf = defaultdict(dict)\n",
    "\n",
    "metric = 'f_test'\n",
    "for n_features in range(2, len(df_train.columns)):\n",
    "    features = list(df_features.sort_values(by=metric, ascending=False).iloc[:n_features].index)\n",
    "   \n",
    "    model_name = metric + \"-{}\".format(n_features)\n",
    "    model = LinearRegression()\n",
    "    \n",
    "    X = df_train[features]\n",
    "    _ = model.fit(X, y)    \n",
    "    y_train_pred = model.predict(X)    \n",
    "    \n",
    "    X_test = df_test[features]\n",
    "    y_test_pred = model.predict(X_test)\n",
    "    \n",
    "    compute_model_perf(model_name, 'Train', y, y_train_pred)\n",
    "    compute_model_perf(model_name, 'Test', y_test, y_test_pred)\n",
    "```"
   ]
  },
  {
   "cell_type": "code",
   "execution_count": 19,
   "metadata": {
    "deletable": false,
    "nbgrader": {
     "cell_type": "code",
     "checksum": "ba6b4baa3d10ed40e43af9860c4cab01",
     "grade": true,
     "grade_id": "cell-756e1cd7e24e3813",
     "locked": false,
     "points": 5,
     "schema_version": 3,
     "solution": true,
     "task": false
    }
   },
   "outputs": [
    {
     "data": {
      "text/plain": [
       "defaultdict(dict,\n",
       "            {'f_test-2': {'Train.explained_variance': 0.5669363659797089,\n",
       "              'Train.RSME': 63294.69059351366,\n",
       "              'Train.R2': 0.5669363659797089,\n",
       "              'Train.RelativeError': 0.2762775045028668,\n",
       "              'Test.explained_variance': 0.567156709110924,\n",
       "              'Test.RSME': 62240.209698233884,\n",
       "              'Test.R2': 0.5670924715448282,\n",
       "              'Test.RelativeError': 0.27573752225302556},\n",
       "             'f_test-3': {'Train.explained_variance': 0.5688821532323438,\n",
       "              'Train.RSME': 63152.33662562488,\n",
       "              'Train.R2': 0.5688821532323438,\n",
       "              'Train.RelativeError': 0.27617273566608985,\n",
       "              'Test.explained_variance': 0.5678214050740309,\n",
       "              'Test.RSME': 62192.51406500449,\n",
       "              'Test.R2': 0.5677557047645141,\n",
       "              'Test.RelativeError': 0.275706916729832},\n",
       "             'f_test-4': {'Train.explained_variance': 0.577532891597285,\n",
       "              'Train.RSME': 62515.52379827615,\n",
       "              'Train.R2': 0.577532891597285,\n",
       "              'Train.RelativeError': 0.27242162286895943,\n",
       "              'Test.explained_variance': 0.5749384054410678,\n",
       "              'Test.RSME': 61681.63977730586,\n",
       "              'Test.R2': 0.5748277949480743,\n",
       "              'Test.RelativeError': 0.27280059047293237},\n",
       "             'f_test-5': {'Train.explained_variance': 0.5776320013895484,\n",
       "              'Train.RSME': 62508.1903705581,\n",
       "              'Train.R2': 0.5776320013895484,\n",
       "              'Train.RelativeError': 0.27225313467378465,\n",
       "              'Test.explained_variance': 0.5750571598642502,\n",
       "              'Test.RSME': 61673.681064885044,\n",
       "              'Test.R2': 0.574937506849901,\n",
       "              'Test.RelativeError': 0.27275286338416455},\n",
       "             'f_test-6': {'Train.explained_variance': 0.5787341245591795,\n",
       "              'Train.RSME': 62426.582950944445,\n",
       "              'Train.R2': 0.5787341245591794,\n",
       "              'Train.RelativeError': 0.27115085250309107,\n",
       "              'Test.explained_variance': 0.5780709785037232,\n",
       "              'Test.RSME': 61455.257034159724,\n",
       "              'Test.R2': 0.5779429851400966,\n",
       "              'Test.RelativeError': 0.2711520596456229},\n",
       "             'f_test-7': {'Train.explained_variance': 0.5797579527263486,\n",
       "              'Train.RSME': 62350.67723607871,\n",
       "              'Train.R2': 0.5797579527263486,\n",
       "              'Train.RelativeError': 0.2707024986971016,\n",
       "              'Test.explained_variance': 0.5808088989724021,\n",
       "              'Test.RSME': 61254.69432095589,\n",
       "              'Test.R2': 0.5806933038553674,\n",
       "              'Test.RelativeError': 0.2700370328977449},\n",
       "             'f_test-8': {'Train.explained_variance': 0.5803898662273357,\n",
       "              'Train.RSME': 62303.781574909364,\n",
       "              'Train.R2': 0.5803898662273357,\n",
       "              'Train.RelativeError': 0.2705914026522972,\n",
       "              'Test.explained_variance': 0.5804084188368897,\n",
       "              'Test.RSME': 61284.61763518735,\n",
       "              'Test.R2': 0.5802835357282459,\n",
       "              'Test.RelativeError': 0.2700015311328717},\n",
       "             'f_test-9': {'Train.explained_variance': 0.5804538164314214,\n",
       "              'Train.RSME': 62299.033725602254,\n",
       "              'Train.R2': 0.5804538164314212,\n",
       "              'Train.RelativeError': 0.2704735837079371,\n",
       "              'Test.explained_variance': 0.5804771495531421,\n",
       "              'Test.RSME': 61279.575853391725,\n",
       "              'Test.R2': 0.5803525916142345,\n",
       "              'Test.RelativeError': 0.26987915275822294},\n",
       "             'f_test-10': {'Train.explained_variance': 0.5840567113162707,\n",
       "              'Train.RSME': 62030.95735461827,\n",
       "              'Train.R2': 0.5840567113162706,\n",
       "              'Train.RelativeError': 0.26955578922730317,\n",
       "              'Test.explained_variance': 0.5829930343457135,\n",
       "              'Test.RSME': 61093.75808758431,\n",
       "              'Test.R2': 0.5828937227071009,\n",
       "              'Test.RelativeError': 0.2689343144171317},\n",
       "             'f_test-11': {'Train.explained_variance': 0.5856067159444245,\n",
       "              'Train.RSME': 61915.270896196824,\n",
       "              'Train.R2': 0.5856067159444245,\n",
       "              'Train.RelativeError': 0.26882200563032344,\n",
       "              'Test.explained_variance': 0.5827287653115181,\n",
       "              'Test.RSME': 61113.53651253344,\n",
       "              'Test.R2': 0.5826236119516095,\n",
       "              'Test.RelativeError': 0.2687982493421262},\n",
       "             'f_test-12': {'Train.explained_variance': 0.5856067159444245,\n",
       "              'Train.RSME': 61915.270896196824,\n",
       "              'Train.R2': 0.5856067159444245,\n",
       "              'Train.RelativeError': 0.2688220056303233,\n",
       "              'Test.explained_variance': 0.5827287653115183,\n",
       "              'Test.RSME': 61113.53651253344,\n",
       "              'Test.R2': 0.5826236119516096,\n",
       "              'Test.RelativeError': 0.26879824934212615},\n",
       "             'f_test-13': {'Train.explained_variance': 0.5933306505123193,\n",
       "              'Train.RSME': 61335.53302441954,\n",
       "              'Train.R2': 0.5933306505123193,\n",
       "              'Train.RelativeError': 0.27155719734361544,\n",
       "              'Test.explained_variance': 0.5875278616800438,\n",
       "              'Test.RSME': 60759.07923365102,\n",
       "              'Test.R2': 0.587451120768841,\n",
       "              'Test.RelativeError': 0.27166131444194935},\n",
       "             'f_test-14': {'Train.explained_variance': 0.6068781071862127,\n",
       "              'Train.RSME': 60305.238357646245,\n",
       "              'Train.R2': 0.6068781071862127,\n",
       "              'Train.RelativeError': 0.2708907631464263,\n",
       "              'Test.explained_variance': 0.5971888766754969,\n",
       "              'Test.RSME': 60045.31651795113,\n",
       "              'Test.R2': 0.5970869620928877,\n",
       "              'Test.RelativeError': 0.2741924803599629},\n",
       "             'f_test-15': {'Train.explained_variance': 0.6080732846564196,\n",
       "              'Train.RSME': 60213.497947983975,\n",
       "              'Train.R2': 0.6080732846564196,\n",
       "              'Train.RelativeError': 0.2705092709379134,\n",
       "              'Test.explained_variance': 0.5978560340983725,\n",
       "              'Test.RSME': 59996.40830779452,\n",
       "              'Test.R2': 0.5977430575652023,\n",
       "              'Test.RelativeError': 0.27395710490219505},\n",
       "             'f_test-16': {'Train.explained_variance': 0.6279726448705375,\n",
       "              'Train.RSME': 58664.97103788952,\n",
       "              'Train.R2': 0.6279726448705375,\n",
       "              'Train.RelativeError': 0.26301261744613397,\n",
       "              'Test.explained_variance': 0.6236406197857673,\n",
       "              'Test.RSME': 58049.33109167133,\n",
       "              'Test.R2': 0.6234284695312677,\n",
       "              'Test.RelativeError': 0.26567496030408533},\n",
       "             'mi-2': {'Train.explained_variance': 0.43702539025251297,\n",
       "              'Train.RSME': 72166.53066686422,\n",
       "              'Train.R2': 0.43702539025251286,\n",
       "              'Train.RelativeError': 0.36140597274110714,\n",
       "              'Test.explained_variance': 0.4372818463893985,\n",
       "              'Test.RSME': 70962.04219173547,\n",
       "              'Test.R2': 0.43726328002049986,\n",
       "              'Test.RelativeError': 0.35568728118446735},\n",
       "             'mi-3': {'Train.explained_variance': 0.5650749947992133,\n",
       "              'Train.RSME': 63430.56968677522,\n",
       "              'Train.R2': 0.5650749947992133,\n",
       "              'Train.RelativeError': 0.3005834569602364,\n",
       "              'Test.explained_variance': 0.5564027405043888,\n",
       "              'Test.RSME': 63008.261392118635,\n",
       "              'Test.R2': 0.5563422867825502,\n",
       "              'Test.RelativeError': 0.3042501961869336},\n",
       "             'mi-4': {'Train.explained_variance': 0.5841440239993478,\n",
       "              'Train.RSME': 62024.446402612186,\n",
       "              'Train.R2': 0.5841440239993478,\n",
       "              'Train.RelativeError': 0.27689494301025647,\n",
       "              'Test.explained_variance': 0.5786624013638744,\n",
       "              'Test.RSME': 61409.432025680195,\n",
       "              'Test.R2': 0.5785721764039736,\n",
       "              'Test.RelativeError': 0.28042195582416707},\n",
       "             'mi-5': {'Train.explained_variance': 0.5919547040325961,\n",
       "              'Train.RSME': 61439.20833858004,\n",
       "              'Train.R2': 0.5919547040325962,\n",
       "              'Train.RelativeError': 0.27315959559119585,\n",
       "              'Test.explained_variance': 0.585276851730123,\n",
       "              'Test.RSME': 60929.66473679335,\n",
       "              'Test.R2': 0.5851313473202711,\n",
       "              'Test.RelativeError': 0.2770919316155679},\n",
       "             'mi-6': {'Train.explained_variance': 0.5921968167464929,\n",
       "              'Train.RSME': 61420.978229305874,\n",
       "              'Train.R2': 0.5921968167464929,\n",
       "              'Train.RelativeError': 0.27301661259563925,\n",
       "              'Test.explained_variance': 0.585178796153162,\n",
       "              'Test.RSME': 60936.61453688923,\n",
       "              'Test.R2': 0.5850366998722517,\n",
       "              'Test.RelativeError': 0.2768181451318256},\n",
       "             'mi-7': {'Train.explained_variance': 0.5936378060924261,\n",
       "              'Train.RSME': 61312.36541914916,\n",
       "              'Train.R2': 0.5936378060924261,\n",
       "              'Train.RelativeError': 0.2726072227239737,\n",
       "              'Test.explained_variance': 0.5865832576106453,\n",
       "              'Test.RSME': 60833.415160091325,\n",
       "              'Test.R2': 0.5864410342606279,\n",
       "              'Test.RelativeError': 0.276760855139063},\n",
       "             'mi-8': {'Train.explained_variance': 0.594749938372215,\n",
       "              'Train.RSME': 61228.40807816541,\n",
       "              'Train.R2': 0.594749938372215,\n",
       "              'Train.RelativeError': 0.27213543972149085,\n",
       "              'Test.explained_variance': 0.5873636878993107,\n",
       "              'Test.RSME': 60776.974575230386,\n",
       "              'Test.R2': 0.5872080693461696,\n",
       "              'Test.RelativeError': 0.2763987875006989},\n",
       "             'mi-9': {'Train.explained_variance': 0.5958607446303902,\n",
       "              'Train.RSME': 61144.43576600063,\n",
       "              'Train.R2': 0.5958607446303901,\n",
       "              'Train.RelativeError': 0.271062364116572,\n",
       "              'Test.explained_variance': 0.5903177549410386,\n",
       "              'Test.RSME': 60559.79831442356,\n",
       "              'Test.R2': 0.5901528831191849,\n",
       "              'Test.RelativeError': 0.27470909283225187},\n",
       "             'mi-10': {'Train.explained_variance': 0.5984857096857633,\n",
       "              'Train.RSME': 60945.53962059106,\n",
       "              'Train.R2': 0.5984857096857633,\n",
       "              'Train.RelativeError': 0.27030952977543216,\n",
       "              'Test.explained_variance': 0.5923974267901692,\n",
       "              'Test.RSME': 60404.03404640537,\n",
       "              'Test.R2': 0.5922584857776167,\n",
       "              'Test.RelativeError': 0.2736046106679873},\n",
       "             'mi-11': {'Train.explained_variance': 0.6005142644240535,\n",
       "              'Train.RSME': 60791.38830351851,\n",
       "              'Train.R2': 0.6005142644240535,\n",
       "              'Train.RelativeError': 0.26924598558606205,\n",
       "              'Test.explained_variance': 0.5924649777554996,\n",
       "              'Test.RSME': 60399.668790510754,\n",
       "              'Test.R2': 0.5923174166673202,\n",
       "              'Test.RelativeError': 0.2730782390338379},\n",
       "             'mi-12': {'Train.explained_variance': 0.6058290601349208,\n",
       "              'Train.RSME': 60385.64711310825,\n",
       "              'Train.R2': 0.6058290601349208,\n",
       "              'Train.RelativeError': 0.2713617590592066,\n",
       "              'Test.explained_variance': 0.5950323692576787,\n",
       "              'Test.RSME': 60207.21118242529,\n",
       "              'Test.R2': 0.5949113583661081,\n",
       "              'Test.RelativeError': 0.2756477765251957},\n",
       "             'mi-13': {'Train.explained_variance': 0.6074546758510816,\n",
       "              'Train.RSME': 60260.99906498043,\n",
       "              'Train.R2': 0.6074546758510816,\n",
       "              'Train.RelativeError': 0.2706369204072603,\n",
       "              'Test.explained_variance': 0.5981850472944978,\n",
       "              'Test.RSME': 59971.23373086737,\n",
       "              'Test.R2': 0.5980805618941933,\n",
       "              'Test.RelativeError': 0.2740138256927904},\n",
       "             'mi-14': {'Train.explained_variance': 0.627369168851597,\n",
       "              'Train.RSME': 58712.53280627443,\n",
       "              'Train.R2': 0.627369168851597,\n",
       "              'Train.RelativeError': 0.263134232603702,\n",
       "              'Test.explained_variance': 0.6240207716625974,\n",
       "              'Test.RSME': 58019.135233131485,\n",
       "              'Test.R2': 0.6238201344485571,\n",
       "              'Test.RelativeError': 0.26572971319813093},\n",
       "             'mi-15': {'Train.explained_variance': 0.6279726448705376,\n",
       "              'Train.RSME': 58664.97103788952,\n",
       "              'Train.R2': 0.6279726448705375,\n",
       "              'Train.RelativeError': 0.26301261744613375,\n",
       "              'Test.explained_variance': 0.6236406197857673,\n",
       "              'Test.RSME': 58049.33109167132,\n",
       "              'Test.R2': 0.6234284695312677,\n",
       "              'Test.RelativeError': 0.2656749603040851},\n",
       "             'mi-16': {'Train.explained_variance': 0.6279726448705376,\n",
       "              'Train.RSME': 58664.97103788952,\n",
       "              'Train.R2': 0.6279726448705375,\n",
       "              'Train.RelativeError': 0.26301261744613386,\n",
       "              'Test.explained_variance': 0.6236406197857673,\n",
       "              'Test.RSME': 58049.33109167133,\n",
       "              'Test.R2': 0.6234284695312676,\n",
       "              'Test.RelativeError': 0.2656749603040853}})"
      ]
     },
     "execution_count": 19,
     "metadata": {},
     "output_type": "execute_result"
    }
   ],
   "source": [
    "y =  df_train[df_train.columns[-1]]\n",
    "y_test = df_test[df_test.columns[-1]]\n",
    "model_perf = defaultdict(dict)\n",
    "\n",
    "metric = 'f_test'\n",
    "for n_features in range(2, len(df_train.columns)):\n",
    "    features = list(df_features.sort_values(by=metric, ascending=False).iloc[:n_features].index)\n",
    "\n",
    "    model_name = metric + \"-{}\".format(n_features)\n",
    "    model = LinearRegression()\n",
    "\n",
    "    X = df_train[features]\n",
    "    _ = model.fit(X, y)    \n",
    "    y_train_pred = model.predict(X)    \n",
    "\n",
    "    X_test = df_test[features]\n",
    "    y_test_pred = model.predict(X_test)\n",
    "\n",
    "    compute_model_perf(model_name, 'Train', y, y_train_pred)\n",
    "    compute_model_perf(model_name, 'Test', y_test, y_test_pred)\n",
    "    \n",
    "metric = 'mi'\n",
    "for n_features in range(2, len(df_train.columns)):\n",
    "    features = list(df_features.sort_values(by=metric, ascending=False).iloc[:n_features].index)\n",
    "\n",
    "    model_name = metric + \"-{}\".format(n_features)\n",
    "    model = LinearRegression()\n",
    "\n",
    "    X = df_train[features]\n",
    "    _ = model.fit(X, y)    \n",
    "    y_train_pred = model.predict(X)    \n",
    "\n",
    "    X_test = df_test[features]\n",
    "    y_test_pred = model.predict(X_test)\n",
    "\n",
    "    compute_model_perf(model_name, 'Train', y, y_train_pred)\n",
    "    compute_model_perf(model_name, 'Test', y_test, y_test_pred)\n",
    "# raise NotImplementedError()\n",
    "model_perf"
   ]
  },
  {
   "cell_type": "code",
   "execution_count": 20,
   "metadata": {
    "deletable": false,
    "editable": false,
    "nbgrader": {
     "cell_type": "code",
     "checksum": "5c516c4813278ad6ebfcd931b1615c44",
     "grade": false,
     "grade_id": "cell-7606a0403bb35189",
     "locked": true,
     "schema_version": 3,
     "solution": false,
     "task": false
    }
   },
   "outputs": [
    {
     "data": {
      "image/png": "[encoded data removed]",
      "text/plain": [
       "<Figure size 576x432 with 1 Axes>"
      ]
     },
     "metadata": {
      "needs_background": "light"
     },
     "output_type": "display_data"
    }
   ],
   "source": [
    "df_perf = pd.DataFrame(model_perf).T\n",
    "\n",
    "index = pd.MultiIndex.from_tuples([(a[0], int(a[1])) for a in df_perf.index.str.split('-')])\n",
    "df2 = df_perf.set_index(index)\n",
    "df_r2 = pd.DataFrame({'f_test': df2.loc['f_test', 'Test.R2'], 'mi': df2.loc['mi', 'Test.R2']})\n",
    "fig, ax = plt.subplots(1, 1, figsize=(8, 6))\n",
    "_ = df_r2.plot.bar(ax=ax)\n",
    "_ = ax.set_xlabel('n_features')\n",
    "_ = ax.set_ylabel('Test.R2')\n",
    "_ = ax.set_ylim(0.4, 0.7)\n",
    "_ = ax.set_title('Test.R2 Under Different Set of Features')"
   ]
  },
  {
   "cell_type": "markdown",
   "metadata": {},
   "source": [
    "## 6. Nonlinear Regression Models\n",
    "\n",
    "__Question 6(a).__ The error plots in question 3 indicate a non-linear relationship between the features and the target variable. Complete the following code to perform a polynomial regression. (5 points)"
   ]
  },
  {
   "cell_type": "code",
   "execution_count": 50,
   "metadata": {
    "deletable": false,
    "nbgrader": {
     "cell_type": "code",
     "checksum": "86722dbca91a6c1f6b56abb87c5b5305",
     "grade": true,
     "grade_id": "cell-ff284c9999260a56",
     "locked": false,
     "points": 5,
     "schema_version": 3,
     "solution": true,
     "task": false
    }
   },
   "outputs": [],
   "source": [
    "from sklearn.preprocessing import PolynomialFeatures\n",
    "from sklearn.pipeline import make_pipeline\n",
    "\n",
    "y =  df_train[df_train.columns[-1]]\n",
    "y_test = df_test[df_test.columns[-1]]\n",
    "model_perf = defaultdict(dict)\n",
    "\n",
    "for deg in range(1, 4):\n",
    "    features = list(df_features.sort_values(by=metric, ascending=False).iloc[:n_features].index)\n",
    "\n",
    "    model_name = \"Poly-{}\".format(deg)\n",
    "    model = make_pipeline(PolynomialFeatures(deg),LinearRegression())\n",
    "\n",
    "    X = df_train[features]\n",
    "    _ = model.fit(X, y)    \n",
    "    y_train_pred = model.predict(X)    \n",
    "\n",
    "    X_test = df_test[features]\n",
    "    y_test_pred = model.predict(X_test)\n",
    "\n",
    "    compute_model_perf(model_name, 'Train', y, y_train_pred)\n",
    "    compute_model_perf(model_name, 'Test', y_test, y_test_pred)\n",
    "\n",
    "# raise NotImplementedError()\n",
    "df_perf = pd.DataFrame(model_perf).T"
   ]
  },
  {
   "cell_type": "code",
   "execution_count": 51,
   "metadata": {},
   "outputs": [
    {
     "data": {
      "text/html": [
       "<div>\n",
       "<style scoped>\n",
       "    .dataframe tbody tr th:only-of-type {\n",
       "        vertical-align: middle;\n",
       "    }\n",
       "\n",
       "    .dataframe tbody tr th {\n",
       "        vertical-align: top;\n",
       "    }\n",
       "\n",
       "    .dataframe thead th {\n",
       "        text-align: right;\n",
       "    }\n",
       "</style>\n",
       "<table border=\"1\" class=\"dataframe\">\n",
       "  <thead>\n",
       "    <tr style=\"text-align: right;\">\n",
       "      <th></th>\n",
       "      <th>Train.explained_variance</th>\n",
       "      <th>Train.RSME</th>\n",
       "      <th>Train.R2</th>\n",
       "      <th>Train.RelativeError</th>\n",
       "      <th>Test.explained_variance</th>\n",
       "      <th>Test.RSME</th>\n",
       "      <th>Test.R2</th>\n",
       "      <th>Test.RelativeError</th>\n",
       "    </tr>\n",
       "  </thead>\n",
       "  <tbody>\n",
       "    <tr>\n",
       "      <th>Poly-1</th>\n",
       "      <td>0.627963</td>\n",
       "      <td>58665.793338</td>\n",
       "      <td>0.627962</td>\n",
       "      <td>0.263217</td>\n",
       "      <td>0.623656</td>\n",
       "      <td>58049.916898</td>\n",
       "      <td>0.623421</td>\n",
       "      <td>0.265920</td>\n",
       "    </tr>\n",
       "    <tr>\n",
       "      <th>Poly-2</th>\n",
       "      <td>0.703172</td>\n",
       "      <td>52401.534268</td>\n",
       "      <td>0.703172</td>\n",
       "      <td>0.231242</td>\n",
       "      <td>0.689786</td>\n",
       "      <td>52692.862298</td>\n",
       "      <td>0.689718</td>\n",
       "      <td>0.231251</td>\n",
       "    </tr>\n",
       "    <tr>\n",
       "      <th>Poly-3</th>\n",
       "      <td>0.771401</td>\n",
       "      <td>45986.320533</td>\n",
       "      <td>0.771401</td>\n",
       "      <td>0.194963</td>\n",
       "      <td>-0.098154</td>\n",
       "      <td>99181.376038</td>\n",
       "      <td>-0.099293</td>\n",
       "      <td>0.225071</td>\n",
       "    </tr>\n",
       "  </tbody>\n",
       "</table>\n",
       "</div>"
      ],
      "text/plain": [
       "        Train.explained_variance    Train.RSME  Train.R2  Train.RelativeError  \\\n",
       "Poly-1                  0.627963  58665.793338  0.627962             0.263217   \n",
       "Poly-2                  0.703172  52401.534268  0.703172             0.231242   \n",
       "Poly-3                  0.771401  45986.320533  0.771401             0.194963   \n",
       "\n",
       "        Test.explained_variance     Test.RSME   Test.R2  Test.RelativeError  \n",
       "Poly-1                 0.623656  58049.916898  0.623421            0.265920  \n",
       "Poly-2                 0.689786  52692.862298  0.689718            0.231251  \n",
       "Poly-3                -0.098154  99181.376038 -0.099293            0.225071  "
      ]
     },
     "execution_count": 51,
     "metadata": {},
     "output_type": "execute_result"
    }
   ],
   "source": [
    "df_perf = pd.DataFrame(model_perf).T\n",
    "df_perf"
   ]
  },
  {
   "cell_type": "markdown",
   "metadata": {},
   "source": [
    "__Question 6(b)__. In the above results, `Train.R2` descreases as the order of the polynomial increases. Does that mean it is beneficial to use a higher order polynomial in the regression? Justify your answer. (6 points: 2 points for correct answer; 4 points for justification)"
   ]
  },
  {
   "cell_type": "markdown",
   "metadata": {
    "deletable": false,
    "editable": false,
    "nbgrader": {
     "cell_type": "markdown",
     "checksum": "b22550212707f535517110d7afe554de",
     "grade": false,
     "grade_id": "cell-53950e14ad8efa63",
     "locked": true,
     "points": 6,
     "schema_version": 3,
     "solution": false,
     "task": true
    }
   },
   "source": [
    "### Type your answer here\n",
    "1. Is a higher order polynomial preferable?\n",
    "2. Justification"
   ]
  },
  {
   "cell_type": "raw",
   "metadata": {},
   "source": [
    "No, it is not always preferable to use high order polynomial in regression it leads to noisy estimates, sensitivity to the degree of the polynomial, and poor coverage of confidence intervals. https://www.tandfonline.com/doi/full/10.1080/07350015.2017.1366909"
   ]
  },
  {
   "cell_type": "markdown",
   "metadata": {},
   "source": [
    "## 7. K-Nearest Neighbors Regression\n",
    "\n",
    "The k-nearest neighbors (___k_-NN__) algorithm is a type of instance-based learning where the function is only approximated locally and all computation is deferred until function evaluation."
   ]
  },
  {
   "cell_type": "markdown",
   "metadata": {},
   "source": [
    "__Question 7(a)__. Complete the following code to assess the performance of ___k_-NN__ regression on the housing data. (5 points)"
   ]
  },
  {
   "cell_type": "code",
   "execution_count": 24,
   "metadata": {
    "deletable": false,
    "nbgrader": {
     "cell_type": "code",
     "checksum": "464e61ea4727b0c2614ff723182adaf3",
     "grade": true,
     "grade_id": "cell-ed6617a45bf6264d",
     "locked": false,
     "points": 5,
     "schema_version": 3,
     "solution": true,
     "task": false
    }
   },
   "outputs": [],
   "source": [
    "from sklearn.neighbors import KNeighborsRegressor\n",
    "\n",
    "model_perf = defaultdict(dict)\n",
    "\n",
    "y = df_train[df_train.columns[-1]]\n",
    "y_test = df_test[df_test.columns[-1]]\n",
    "\n",
    "features = df_train.columns[:-1]\n",
    "X = df_train[features]\n",
    "X_test = df_test[features]\n",
    "\n",
    "for n_neighbors in range(1, 16):\n",
    "    features = list(df_features.sort_values(by=metric, ascending=False).iloc[:n_features].index)\n",
    "\n",
    "    model_name = \"KNN-{}\".format(n_neighbors)\n",
    "    model = KNeighborsRegressor(n_neighbors)\n",
    "\n",
    "    X = df_train[features]\n",
    "    _ = model.fit(X, y)    \n",
    "    y_train_pred = model.predict(X)    \n",
    "\n",
    "    X_test = df_test[features]\n",
    "    y_test_pred = model.predict(X_test)\n",
    "\n",
    "    compute_model_perf(model_name, 'Train', y, y_train_pred)\n",
    "    compute_model_perf(model_name, 'Test', y_test, y_test_pred)\n",
    "# raise NotImplementedError()"
   ]
  },
  {
   "cell_type": "code",
   "execution_count": 25,
   "metadata": {},
   "outputs": [
    {
     "data": {
      "text/html": [
       "<div>\n",
       "<style scoped>\n",
       "    .dataframe tbody tr th:only-of-type {\n",
       "        vertical-align: middle;\n",
       "    }\n",
       "\n",
       "    .dataframe tbody tr th {\n",
       "        vertical-align: top;\n",
       "    }\n",
       "\n",
       "    .dataframe thead th {\n",
       "        text-align: right;\n",
       "    }\n",
       "</style>\n",
       "<table border=\"1\" class=\"dataframe\">\n",
       "  <thead>\n",
       "    <tr style=\"text-align: right;\">\n",
       "      <th></th>\n",
       "      <th>Train.explained_variance</th>\n",
       "      <th>Train.RSME</th>\n",
       "      <th>Train.R2</th>\n",
       "      <th>Train.RelativeError</th>\n",
       "      <th>Test.explained_variance</th>\n",
       "      <th>Test.RSME</th>\n",
       "      <th>Test.R2</th>\n",
       "      <th>Test.RelativeError</th>\n",
       "    </tr>\n",
       "  </thead>\n",
       "  <tbody>\n",
       "    <tr>\n",
       "      <th>KNN-1</th>\n",
       "      <td>1.000000</td>\n",
       "      <td>0.000000</td>\n",
       "      <td>1.000000</td>\n",
       "      <td>0.000000</td>\n",
       "      <td>0.491638</td>\n",
       "      <td>67467.299980</td>\n",
       "      <td>0.491326</td>\n",
       "      <td>0.260043</td>\n",
       "    </tr>\n",
       "    <tr>\n",
       "      <th>KNN-2</th>\n",
       "      <td>0.875081</td>\n",
       "      <td>34006.032641</td>\n",
       "      <td>0.874995</td>\n",
       "      <td>0.130286</td>\n",
       "      <td>0.608664</td>\n",
       "      <td>59184.697468</td>\n",
       "      <td>0.608554</td>\n",
       "      <td>0.236638</td>\n",
       "    </tr>\n",
       "    <tr>\n",
       "      <th>KNN-3</th>\n",
       "      <td>0.831288</td>\n",
       "      <td>39534.010737</td>\n",
       "      <td>0.831050</td>\n",
       "      <td>0.154598</td>\n",
       "      <td>0.653785</td>\n",
       "      <td>55671.779890</td>\n",
       "      <td>0.653644</td>\n",
       "      <td>0.225142</td>\n",
       "    </tr>\n",
       "    <tr>\n",
       "      <th>KNN-4</th>\n",
       "      <td>0.804285</td>\n",
       "      <td>42586.379078</td>\n",
       "      <td>0.803954</td>\n",
       "      <td>0.168132</td>\n",
       "      <td>0.668511</td>\n",
       "      <td>54481.462608</td>\n",
       "      <td>0.668296</td>\n",
       "      <td>0.221162</td>\n",
       "    </tr>\n",
       "    <tr>\n",
       "      <th>KNN-5</th>\n",
       "      <td>0.788061</td>\n",
       "      <td>44318.028621</td>\n",
       "      <td>0.787686</td>\n",
       "      <td>0.175369</td>\n",
       "      <td>0.677938</td>\n",
       "      <td>53706.395307</td>\n",
       "      <td>0.677667</td>\n",
       "      <td>0.218115</td>\n",
       "    </tr>\n",
       "    <tr>\n",
       "      <th>KNN-6</th>\n",
       "      <td>0.776722</td>\n",
       "      <td>45486.603495</td>\n",
       "      <td>0.776342</td>\n",
       "      <td>0.180458</td>\n",
       "      <td>0.682704</td>\n",
       "      <td>53304.842390</td>\n",
       "      <td>0.682469</td>\n",
       "      <td>0.216396</td>\n",
       "    </tr>\n",
       "    <tr>\n",
       "      <th>KNN-7</th>\n",
       "      <td>0.766517</td>\n",
       "      <td>46516.896060</td>\n",
       "      <td>0.766095</td>\n",
       "      <td>0.185216</td>\n",
       "      <td>0.687118</td>\n",
       "      <td>52938.281115</td>\n",
       "      <td>0.686821</td>\n",
       "      <td>0.215480</td>\n",
       "    </tr>\n",
       "    <tr>\n",
       "      <th>KNN-8</th>\n",
       "      <td>0.759256</td>\n",
       "      <td>47235.090949</td>\n",
       "      <td>0.758817</td>\n",
       "      <td>0.188303</td>\n",
       "      <td>0.688194</td>\n",
       "      <td>52846.542057</td>\n",
       "      <td>0.687905</td>\n",
       "      <td>0.215679</td>\n",
       "    </tr>\n",
       "    <tr>\n",
       "      <th>KNN-9</th>\n",
       "      <td>0.753071</td>\n",
       "      <td>47837.309911</td>\n",
       "      <td>0.752628</td>\n",
       "      <td>0.190942</td>\n",
       "      <td>0.691453</td>\n",
       "      <td>52571.109809</td>\n",
       "      <td>0.691150</td>\n",
       "      <td>0.215117</td>\n",
       "    </tr>\n",
       "    <tr>\n",
       "      <th>KNN-10</th>\n",
       "      <td>0.746831</td>\n",
       "      <td>48439.505274</td>\n",
       "      <td>0.746361</td>\n",
       "      <td>0.193562</td>\n",
       "      <td>0.691683</td>\n",
       "      <td>52553.605238</td>\n",
       "      <td>0.691356</td>\n",
       "      <td>0.215418</td>\n",
       "    </tr>\n",
       "    <tr>\n",
       "      <th>KNN-11</th>\n",
       "      <td>0.742887</td>\n",
       "      <td>48817.337610</td>\n",
       "      <td>0.742388</td>\n",
       "      <td>0.195184</td>\n",
       "      <td>0.690066</td>\n",
       "      <td>52693.442183</td>\n",
       "      <td>0.689711</td>\n",
       "      <td>0.216196</td>\n",
       "    </tr>\n",
       "    <tr>\n",
       "      <th>KNN-12</th>\n",
       "      <td>0.738757</td>\n",
       "      <td>49207.352344</td>\n",
       "      <td>0.738256</td>\n",
       "      <td>0.197190</td>\n",
       "      <td>0.691223</td>\n",
       "      <td>52593.020191</td>\n",
       "      <td>0.690893</td>\n",
       "      <td>0.216151</td>\n",
       "    </tr>\n",
       "    <tr>\n",
       "      <th>KNN-13</th>\n",
       "      <td>0.735628</td>\n",
       "      <td>49500.295244</td>\n",
       "      <td>0.735130</td>\n",
       "      <td>0.198564</td>\n",
       "      <td>0.691136</td>\n",
       "      <td>52598.861674</td>\n",
       "      <td>0.690824</td>\n",
       "      <td>0.216789</td>\n",
       "    </tr>\n",
       "    <tr>\n",
       "      <th>KNN-14</th>\n",
       "      <td>0.731366</td>\n",
       "      <td>49899.158803</td>\n",
       "      <td>0.730844</td>\n",
       "      <td>0.200367</td>\n",
       "      <td>0.689704</td>\n",
       "      <td>52718.195529</td>\n",
       "      <td>0.689420</td>\n",
       "      <td>0.217477</td>\n",
       "    </tr>\n",
       "    <tr>\n",
       "      <th>KNN-15</th>\n",
       "      <td>0.728746</td>\n",
       "      <td>50143.336923</td>\n",
       "      <td>0.728204</td>\n",
       "      <td>0.201599</td>\n",
       "      <td>0.690276</td>\n",
       "      <td>52666.190809</td>\n",
       "      <td>0.690032</td>\n",
       "      <td>0.217473</td>\n",
       "    </tr>\n",
       "  </tbody>\n",
       "</table>\n",
       "</div>"
      ],
      "text/plain": [
       "        Train.explained_variance    Train.RSME  Train.R2  Train.RelativeError  \\\n",
       "KNN-1                   1.000000      0.000000  1.000000             0.000000   \n",
       "KNN-2                   0.875081  34006.032641  0.874995             0.130286   \n",
       "KNN-3                   0.831288  39534.010737  0.831050             0.154598   \n",
       "KNN-4                   0.804285  42586.379078  0.803954             0.168132   \n",
       "KNN-5                   0.788061  44318.028621  0.787686             0.175369   \n",
       "KNN-6                   0.776722  45486.603495  0.776342             0.180458   \n",
       "KNN-7                   0.766517  46516.896060  0.766095             0.185216   \n",
       "KNN-8                   0.759256  47235.090949  0.758817             0.188303   \n",
       "KNN-9                   0.753071  47837.309911  0.752628             0.190942   \n",
       "KNN-10                  0.746831  48439.505274  0.746361             0.193562   \n",
       "KNN-11                  0.742887  48817.337610  0.742388             0.195184   \n",
       "KNN-12                  0.738757  49207.352344  0.738256             0.197190   \n",
       "KNN-13                  0.735628  49500.295244  0.735130             0.198564   \n",
       "KNN-14                  0.731366  49899.158803  0.730844             0.200367   \n",
       "KNN-15                  0.728746  50143.336923  0.728204             0.201599   \n",
       "\n",
       "        Test.explained_variance     Test.RSME   Test.R2  Test.RelativeError  \n",
       "KNN-1                  0.491638  67467.299980  0.491326            0.260043  \n",
       "KNN-2                  0.608664  59184.697468  0.608554            0.236638  \n",
       "KNN-3                  0.653785  55671.779890  0.653644            0.225142  \n",
       "KNN-4                  0.668511  54481.462608  0.668296            0.221162  \n",
       "KNN-5                  0.677938  53706.395307  0.677667            0.218115  \n",
       "KNN-6                  0.682704  53304.842390  0.682469            0.216396  \n",
       "KNN-7                  0.687118  52938.281115  0.686821            0.215480  \n",
       "KNN-8                  0.688194  52846.542057  0.687905            0.215679  \n",
       "KNN-9                  0.691453  52571.109809  0.691150            0.215117  \n",
       "KNN-10                 0.691683  52553.605238  0.691356            0.215418  \n",
       "KNN-11                 0.690066  52693.442183  0.689711            0.216196  \n",
       "KNN-12                 0.691223  52593.020191  0.690893            0.216151  \n",
       "KNN-13                 0.691136  52598.861674  0.690824            0.216789  \n",
       "KNN-14                 0.689704  52718.195529  0.689420            0.217477  \n",
       "KNN-15                 0.690276  52666.190809  0.690032            0.217473  "
      ]
     },
     "execution_count": 25,
     "metadata": {},
     "output_type": "execute_result"
    }
   ],
   "source": [
    "df_perf = pd.DataFrame(model_perf).T\n",
    "df_perf"
   ]
  },
  {
   "cell_type": "code",
   "execution_count": 26,
   "metadata": {},
   "outputs": [
    {
     "data": {
      "image/png": "[encoded data removed]",
      "text/plain": [
       "<Figure size 576x432 with 1 Axes>"
      ]
     },
     "metadata": {
      "needs_background": "light"
     },
     "output_type": "display_data"
    }
   ],
   "source": [
    "fig, ax = plt.subplots(1, 1, figsize=(8, 6))\n",
    "_ = df_perf[['Train.R2', 'Test.R2']].plot.bar(ax=ax)\n",
    "_ = ax.set_xlabel('n_neighbors')\n",
    "_ = ax.set_ylabel('Test.R2')\n",
    "_ = ax.set_title('Test.R2 Under Different Set of Features')"
   ]
  },
  {
   "cell_type": "markdown",
   "metadata": {},
   "source": [
    "__Question 7(b)__. What pattern(s) have you observed from the above results? Explain why such pattern or patterns occur. (6 points: 2 points for pattern; 4 points for explanation)"
   ]
  },
  {
   "cell_type": "markdown",
   "metadata": {
    "deletable": false,
    "editable": false,
    "nbgrader": {
     "cell_type": "markdown",
     "checksum": "3aea5dd6a855b3a4dbc136c557c2bacf",
     "grade": false,
     "grade_id": "cell-f8c004f8aaf45730",
     "locked": true,
     "points": 6,
     "schema_version": 3,
     "solution": false,
     "task": true
    }
   },
   "source": [
    "### Type your answer here\n",
    "1. Pattern\n",
    "2. Explain"
   ]
  },
  {
   "cell_type": "raw",
   "metadata": {},
   "source": [
    "value of train.R2 and test.R2 are converging, train.r2 is decreasing while test.r2 is increasing. The increasing r squared values with the test.r2 means that it is imporving as a fit for the model. "
   ]
  },
  {
   "cell_type": "markdown",
   "metadata": {},
   "source": [
    "__Question 7(c)__. In the above study, we use the scaled data set. Assume we use a non-scaled data set in ___k_-NN__ regression. How do you expect the model performance change? Explain why.  (6 point: 2 points for possible change; 4 points for explanation)"
   ]
  },
  {
   "cell_type": "markdown",
   "metadata": {
    "deletable": false,
    "editable": false,
    "nbgrader": {
     "cell_type": "markdown",
     "checksum": "083b7662477190cad38fd039bdc4d88b",
     "grade": false,
     "grade_id": "cell-b9e692a9ac45c402",
     "locked": true,
     "points": 6,
     "schema_version": 3,
     "solution": false,
     "task": true
    }
   },
   "source": [
    "### Type your answer here\n",
    "1. Change\n",
    "2. Explain"
   ]
  },
  {
   "cell_type": "raw",
   "metadata": {},
   "source": [
    "I expect the model to perform poorly. Scaling is used to optimize k-NN regression. Without scaling, it is less efficient since there are vast difference in the numbers in-between features."
   ]
  },
  {
   "cell_type": "markdown",
   "metadata": {},
   "source": [
    "## 8. Random Forest Regression\n",
    "\n",
    "Random forests regression is an ensemble learning method that operates by constructing multiple decision trees and outputs the  mean/average prediction of the individual trees."
   ]
  },
  {
   "cell_type": "markdown",
   "metadata": {},
   "source": [
    "__Question 8(a)__. Complete the following code to assess the performance of Random Forest Regression on the housing data. (5 poinst)"
   ]
  },
  {
   "cell_type": "code",
   "execution_count": 52,
   "metadata": {
    "deletable": false,
    "nbgrader": {
     "cell_type": "code",
     "checksum": "917557a42dbdb4f2ddeeb932875fb30b",
     "grade": true,
     "grade_id": "cell-25e49cfb4f0eac2b",
     "locked": false,
     "points": 5,
     "schema_version": 3,
     "solution": true,
     "task": false
    }
   },
   "outputs": [],
   "source": [
    "from sklearn.ensemble import RandomForestRegressor\n",
    "\n",
    "model_perf = defaultdict(dict)\n",
    "\n",
    "y = df_train[df_train.columns[-1]]\n",
    "y_test = df_test[df_test.columns[-1]]\n",
    "\n",
    "features = df_train.columns[:-1]\n",
    "X = df_train[features]\n",
    "X_test = df_test[features]\n",
    "\n",
    "for n_estimators in [10, 50, 100, 200]:\n",
    "    features = list(df_features.sort_values(by=metric, ascending=False).iloc[:n_features].index)\n",
    "\n",
    "    model_name = \"RandomForest-{}\".format(n_estimators)\n",
    "    model = RandomForestRegressor(n_estimators)\n",
    "\n",
    "    X = df_train[features]\n",
    "    _ = model.fit(X, y)    \n",
    "    y_train_pred = model.predict(X)    \n",
    "\n",
    "    X_test = df_test[features]\n",
    "    y_test_pred = model.predict(X_test)\n",
    "\n",
    "    compute_model_perf(model_name, 'Train', y, y_train_pred)\n",
    "    compute_model_perf(model_name, 'Test', y_test, y_test_pred)\n",
    "# raise NotImplementedError()"
   ]
  },
  {
   "cell_type": "code",
   "execution_count": 53,
   "metadata": {},
   "outputs": [
    {
     "data": {
      "text/html": [
       "<div>\n",
       "<style scoped>\n",
       "    .dataframe tbody tr th:only-of-type {\n",
       "        vertical-align: middle;\n",
       "    }\n",
       "\n",
       "    .dataframe tbody tr th {\n",
       "        vertical-align: top;\n",
       "    }\n",
       "\n",
       "    .dataframe thead th {\n",
       "        text-align: right;\n",
       "    }\n",
       "</style>\n",
       "<table border=\"1\" class=\"dataframe\">\n",
       "  <thead>\n",
       "    <tr style=\"text-align: right;\">\n",
       "      <th></th>\n",
       "      <th>Train.explained_variance</th>\n",
       "      <th>Train.RSME</th>\n",
       "      <th>Train.R2</th>\n",
       "      <th>Train.RelativeError</th>\n",
       "      <th>Test.explained_variance</th>\n",
       "      <th>Test.RSME</th>\n",
       "      <th>Test.R2</th>\n",
       "      <th>Test.RelativeError</th>\n",
       "    </tr>\n",
       "  </thead>\n",
       "  <tbody>\n",
       "    <tr>\n",
       "      <th>RandomForest-10</th>\n",
       "      <td>0.957090</td>\n",
       "      <td>19934.040352</td>\n",
       "      <td>0.957046</td>\n",
       "      <td>0.075029</td>\n",
       "      <td>0.759581</td>\n",
       "      <td>46425.220572</td>\n",
       "      <td>0.759142</td>\n",
       "      <td>0.186148</td>\n",
       "    </tr>\n",
       "    <tr>\n",
       "      <th>RandomForest-50</th>\n",
       "      <td>0.968935</td>\n",
       "      <td>16954.432901</td>\n",
       "      <td>0.968927</td>\n",
       "      <td>0.065430</td>\n",
       "      <td>0.778790</td>\n",
       "      <td>44521.242590</td>\n",
       "      <td>0.778493</td>\n",
       "      <td>0.177146</td>\n",
       "    </tr>\n",
       "    <tr>\n",
       "      <th>RandomForest-100</th>\n",
       "      <td>0.969820</td>\n",
       "      <td>16712.308652</td>\n",
       "      <td>0.969808</td>\n",
       "      <td>0.064903</td>\n",
       "      <td>0.780972</td>\n",
       "      <td>44295.539329</td>\n",
       "      <td>0.780733</td>\n",
       "      <td>0.176166</td>\n",
       "    </tr>\n",
       "    <tr>\n",
       "      <th>RandomForest-200</th>\n",
       "      <td>0.970693</td>\n",
       "      <td>16470.261962</td>\n",
       "      <td>0.970676</td>\n",
       "      <td>0.064123</td>\n",
       "      <td>0.783557</td>\n",
       "      <td>44045.228968</td>\n",
       "      <td>0.783204</td>\n",
       "      <td>0.175927</td>\n",
       "    </tr>\n",
       "  </tbody>\n",
       "</table>\n",
       "</div>"
      ],
      "text/plain": [
       "                  Train.explained_variance    Train.RSME  Train.R2  \\\n",
       "RandomForest-10                   0.957090  19934.040352  0.957046   \n",
       "RandomForest-50                   0.968935  16954.432901  0.968927   \n",
       "RandomForest-100                  0.969820  16712.308652  0.969808   \n",
       "RandomForest-200                  0.970693  16470.261962  0.970676   \n",
       "\n",
       "                  Train.RelativeError  Test.explained_variance     Test.RSME  \\\n",
       "RandomForest-10              0.075029                 0.759581  46425.220572   \n",
       "RandomForest-50              0.065430                 0.778790  44521.242590   \n",
       "RandomForest-100             0.064903                 0.780972  44295.539329   \n",
       "RandomForest-200             0.064123                 0.783557  44045.228968   \n",
       "\n",
       "                   Test.R2  Test.RelativeError  \n",
       "RandomForest-10   0.759142            0.186148  \n",
       "RandomForest-50   0.778493            0.177146  \n",
       "RandomForest-100  0.780733            0.176166  \n",
       "RandomForest-200  0.783204            0.175927  "
      ]
     },
     "execution_count": 53,
     "metadata": {},
     "output_type": "execute_result"
    }
   ],
   "source": [
    "df_perf = pd.DataFrame(model_perf).T\n",
    "df_perf"
   ]
  },
  {
   "cell_type": "markdown",
   "metadata": {},
   "source": [
    "__Question 8(b)__. Brief describe any observation(s) you have regarding the model performance of the Random Forest Regression. (6 Points)"
   ]
  },
  {
   "cell_type": "markdown",
   "metadata": {
    "deletable": false,
    "editable": false,
    "nbgrader": {
     "cell_type": "markdown",
     "checksum": "cac9314c9f207b05e582f316f96b4d21",
     "grade": false,
     "grade_id": "cell-8765841bb347d744",
     "locked": true,
     "points": 6,
     "schema_version": 3,
     "solution": false,
     "task": true
    }
   },
   "source": [
    "### Type your answer here"
   ]
  },
  {
   "cell_type": "raw",
   "metadata": {},
   "source": [
    "Explained variance, rsme, r-squared are all increasing implying that it is imporving as a fit for the model and relative errors are also decreasing."
   ]
  },
  {
   "cell_type": "markdown",
   "metadata": {},
   "source": [
    "### Model Persistence\n",
    "\n",
    "Model development is a time consuming process. When you have developed a good model, you should save the model and load it for prediction."
   ]
  },
  {
   "cell_type": "code",
   "execution_count": 54,
   "metadata": {},
   "outputs": [
    {
     "data": {
      "text/plain": [
       "RandomForestRegressor(n_estimators=200)"
      ]
     },
     "execution_count": 54,
     "metadata": {},
     "output_type": "execute_result"
    }
   ],
   "source": [
    "# Create a model \n",
    "from sklearn.ensemble import RandomForestRegressor\n",
    "\n",
    "features = df_train.columns[:-1]\n",
    "X = df_train[features]\n",
    "y = df_train[df_train.columns[-1]]\n",
    "\n",
    "model_rf200 = RandomForestRegressor(n_estimators=200)\n",
    "model_rf200.fit(X, y)"
   ]
  },
  {
   "cell_type": "code",
   "execution_count": 57,
   "metadata": {},
   "outputs": [
    {
     "data": {
      "text/plain": [
       "['models/model_rs200.joblib']"
      ]
     },
     "execution_count": 57,
     "metadata": {},
     "output_type": "execute_result"
    }
   ],
   "source": [
    "# Save the model using joblib.dump(); to load the saved model, use joblib.load()\n",
    "import joblib\n",
    "joblib.dump(model_rf200, \"models/model_rs200.joblib\")"
   ]
  },
  {
   "cell_type": "code",
   "execution_count": 58,
   "metadata": {},
   "outputs": [
    {
     "data": {
      "text/html": [
       "<div>\n",
       "<style scoped>\n",
       "    .dataframe tbody tr th:only-of-type {\n",
       "        vertical-align: middle;\n",
       "    }\n",
       "\n",
       "    .dataframe tbody tr th {\n",
       "        vertical-align: top;\n",
       "    }\n",
       "\n",
       "    .dataframe thead th {\n",
       "        text-align: right;\n",
       "    }\n",
       "</style>\n",
       "<table border=\"1\" class=\"dataframe\">\n",
       "  <thead>\n",
       "    <tr style=\"text-align: right;\">\n",
       "      <th></th>\n",
       "      <th>longitude</th>\n",
       "      <th>latitude</th>\n",
       "      <th>housing_median_age</th>\n",
       "      <th>total_rooms</th>\n",
       "      <th>total_bedrooms</th>\n",
       "      <th>population</th>\n",
       "      <th>households</th>\n",
       "      <th>median_income</th>\n",
       "      <th>rooms_per_household</th>\n",
       "      <th>population_per_household</th>\n",
       "      <th>bedrooms_per_room</th>\n",
       "      <th>ocean_proximity_&lt;1H OCEAN</th>\n",
       "      <th>ocean_proximity_INLAND</th>\n",
       "      <th>ocean_proximity_ISLAND</th>\n",
       "      <th>ocean_proximity_NEAR BAY</th>\n",
       "      <th>ocean_proximity_NEAR OCEAN</th>\n",
       "    </tr>\n",
       "  </thead>\n",
       "  <tbody>\n",
       "    <tr>\n",
       "      <th>0</th>\n",
       "      <td>0.915691</td>\n",
       "      <td>-0.674107</td>\n",
       "      <td>-0.700419</td>\n",
       "      <td>0.602277</td>\n",
       "      <td>0.016307</td>\n",
       "      <td>0.042643</td>\n",
       "      <td>0.001980</td>\n",
       "      <td>1.521327</td>\n",
       "      <td>1.002861</td>\n",
       "      <td>-0.013167</td>\n",
       "      <td>-1.207005</td>\n",
       "      <td>0</td>\n",
       "      <td>1</td>\n",
       "      <td>0</td>\n",
       "      <td>0</td>\n",
       "      <td>0</td>\n",
       "    </tr>\n",
       "    <tr>\n",
       "      <th>1</th>\n",
       "      <td>0.768668</td>\n",
       "      <td>-0.669447</td>\n",
       "      <td>-1.224248</td>\n",
       "      <td>0.540694</td>\n",
       "      <td>0.385095</td>\n",
       "      <td>0.690767</td>\n",
       "      <td>0.650020</td>\n",
       "      <td>0.553560</td>\n",
       "      <td>-0.124839</td>\n",
       "      <td>-0.011903</td>\n",
       "      <td>-0.490694</td>\n",
       "      <td>0</td>\n",
       "      <td>1</td>\n",
       "      <td>0</td>\n",
       "      <td>0</td>\n",
       "      <td>0</td>\n",
       "    </tr>\n",
       "    <tr>\n",
       "      <th>2</th>\n",
       "      <td>0.221132</td>\n",
       "      <td>-0.128817</td>\n",
       "      <td>-1.486162</td>\n",
       "      <td>-0.831327</td>\n",
       "      <td>-0.948216</td>\n",
       "      <td>-0.874963</td>\n",
       "      <td>-0.868985</td>\n",
       "      <td>0.291121</td>\n",
       "      <td>-0.244126</td>\n",
       "      <td>-0.045908</td>\n",
       "      <td>-0.615101</td>\n",
       "      <td>0</td>\n",
       "      <td>1</td>\n",
       "      <td>0</td>\n",
       "      <td>0</td>\n",
       "      <td>0</td>\n",
       "    </tr>\n",
       "    <tr>\n",
       "      <th>3</th>\n",
       "      <td>0.565877</td>\n",
       "      <td>-0.734695</td>\n",
       "      <td>0.085324</td>\n",
       "      <td>0.190218</td>\n",
       "      <td>0.174697</td>\n",
       "      <td>-0.265215</td>\n",
       "      <td>0.128996</td>\n",
       "      <td>-0.282541</td>\n",
       "      <td>0.056428</td>\n",
       "      <td>-0.086110</td>\n",
       "      <td>-0.217034</td>\n",
       "      <td>1</td>\n",
       "      <td>0</td>\n",
       "      <td>0</td>\n",
       "      <td>0</td>\n",
       "      <td>0</td>\n",
       "    </tr>\n",
       "    <tr>\n",
       "      <th>4</th>\n",
       "      <td>0.545597</td>\n",
       "      <td>-0.711392</td>\n",
       "      <td>0.696458</td>\n",
       "      <td>-0.093696</td>\n",
       "      <td>0.068316</td>\n",
       "      <td>-0.363287</td>\n",
       "      <td>0.118627</td>\n",
       "      <td>0.214433</td>\n",
       "      <td>-0.388978</td>\n",
       "      <td>-0.101549</td>\n",
       "      <td>0.305279</td>\n",
       "      <td>1</td>\n",
       "      <td>0</td>\n",
       "      <td>0</td>\n",
       "      <td>0</td>\n",
       "      <td>0</td>\n",
       "    </tr>\n",
       "  </tbody>\n",
       "</table>\n",
       "</div>"
      ],
      "text/plain": [
       "   longitude  latitude  housing_median_age  total_rooms  total_bedrooms  \\\n",
       "0   0.915691 -0.674107           -0.700419     0.602277        0.016307   \n",
       "1   0.768668 -0.669447           -1.224248     0.540694        0.385095   \n",
       "2   0.221132 -0.128817           -1.486162    -0.831327       -0.948216   \n",
       "3   0.565877 -0.734695            0.085324     0.190218        0.174697   \n",
       "4   0.545597 -0.711392            0.696458    -0.093696        0.068316   \n",
       "\n",
       "   population  households  median_income  rooms_per_household  \\\n",
       "0    0.042643    0.001980       1.521327             1.002861   \n",
       "1    0.690767    0.650020       0.553560            -0.124839   \n",
       "2   -0.874963   -0.868985       0.291121            -0.244126   \n",
       "3   -0.265215    0.128996      -0.282541             0.056428   \n",
       "4   -0.363287    0.118627       0.214433            -0.388978   \n",
       "\n",
       "   population_per_household  bedrooms_per_room  ocean_proximity_<1H OCEAN  \\\n",
       "0                 -0.013167          -1.207005                          0   \n",
       "1                 -0.011903          -0.490694                          0   \n",
       "2                 -0.045908          -0.615101                          0   \n",
       "3                 -0.086110          -0.217034                          1   \n",
       "4                 -0.101549           0.305279                          1   \n",
       "\n",
       "   ocean_proximity_INLAND  ocean_proximity_ISLAND  ocean_proximity_NEAR BAY  \\\n",
       "0                       1                       0                         0   \n",
       "1                       1                       0                         0   \n",
       "2                       1                       0                         0   \n",
       "3                       0                       0                         0   \n",
       "4                       0                       0                         0   \n",
       "\n",
       "   ocean_proximity_NEAR OCEAN  \n",
       "0                           0  \n",
       "1                           0  \n",
       "2                           0  \n",
       "3                           0  \n",
       "4                           0  "
      ]
     },
     "execution_count": 58,
     "metadata": {},
     "output_type": "execute_result"
    }
   ],
   "source": [
    "# Load the predict data\n",
    "df_to_predict = pd.read_csv(\"input/housing_prediction_scaled.csv\")\n",
    "df_to_predict"
   ]
  },
  {
   "cell_type": "markdown",
   "metadata": {},
   "source": [
    "__Question 8(c)__. Load the saved model `models/model_rs200.joblib` and apply the model to predict the median housing price of some unknown blocks stored in `../input/housing_prediction_scaled.csv`. Save your results to y_predict. (5 points)"
   ]
  },
  {
   "cell_type": "code",
   "execution_count": 71,
   "metadata": {
    "deletable": false,
    "nbgrader": {
     "cell_type": "code",
     "checksum": "7589f10d27ad2f931a9c5df8350efead",
     "grade": true,
     "grade_id": "cell-1d11f074f89ff1cc",
     "locked": false,
     "points": 5,
     "schema_version": 3,
     "solution": true,
     "task": false
    }
   },
   "outputs": [],
   "source": [
    "import joblib \n",
    "\n",
    "loaded_model = joblib.load(\"models/model_rs200.joblib\")\n",
    "\n",
    "y_predict = loaded_model.predict(df_to_predict)\n",
    "\n",
    "\n",
    "# raise NotImplementedError()"
   ]
  },
  {
   "cell_type": "markdown",
   "metadata": {},
   "source": [
    "If you are interest in seeing the performance of your model, you can peek the actual value as follows."
   ]
  },
  {
   "cell_type": "code",
   "execution_count": 72,
   "metadata": {},
   "outputs": [
    {
     "data": {
      "text/html": [
       "<div>\n",
       "<style scoped>\n",
       "    .dataframe tbody tr th:only-of-type {\n",
       "        vertical-align: middle;\n",
       "    }\n",
       "\n",
       "    .dataframe tbody tr th {\n",
       "        vertical-align: top;\n",
       "    }\n",
       "\n",
       "    .dataframe thead th {\n",
       "        text-align: right;\n",
       "    }\n",
       "</style>\n",
       "<table border=\"1\" class=\"dataframe\">\n",
       "  <thead>\n",
       "    <tr style=\"text-align: right;\">\n",
       "      <th></th>\n",
       "      <th>Actual</th>\n",
       "      <th>Predict</th>\n",
       "      <th>Absolute_Error</th>\n",
       "      <th>Relative_Error</th>\n",
       "    </tr>\n",
       "  </thead>\n",
       "  <tbody>\n",
       "    <tr>\n",
       "      <th>0</th>\n",
       "      <td>254100.0</td>\n",
       "      <td>242440.0</td>\n",
       "      <td>-11660.0</td>\n",
       "      <td>-0.045887</td>\n",
       "    </tr>\n",
       "    <tr>\n",
       "      <th>1</th>\n",
       "      <td>184500.0</td>\n",
       "      <td>186757.0</td>\n",
       "      <td>2257.0</td>\n",
       "      <td>0.012233</td>\n",
       "    </tr>\n",
       "    <tr>\n",
       "      <th>2</th>\n",
       "      <td>102900.0</td>\n",
       "      <td>102814.5</td>\n",
       "      <td>-85.5</td>\n",
       "      <td>-0.000831</td>\n",
       "    </tr>\n",
       "    <tr>\n",
       "      <th>3</th>\n",
       "      <td>301000.0</td>\n",
       "      <td>306609.5</td>\n",
       "      <td>5609.5</td>\n",
       "      <td>0.018636</td>\n",
       "    </tr>\n",
       "    <tr>\n",
       "      <th>4</th>\n",
       "      <td>412500.0</td>\n",
       "      <td>385962.0</td>\n",
       "      <td>-26538.0</td>\n",
       "      <td>-0.064335</td>\n",
       "    </tr>\n",
       "  </tbody>\n",
       "</table>\n",
       "</div>"
      ],
      "text/plain": [
       "     Actual   Predict  Absolute_Error  Relative_Error\n",
       "0  254100.0  242440.0        -11660.0       -0.045887\n",
       "1  184500.0  186757.0          2257.0        0.012233\n",
       "2  102900.0  102814.5           -85.5       -0.000831\n",
       "3  301000.0  306609.5          5609.5        0.018636\n",
       "4  412500.0  385962.0        -26538.0       -0.064335"
      ]
     },
     "execution_count": 72,
     "metadata": {},
     "output_type": "execute_result"
    }
   ],
   "source": [
    "y_actual = pd.read_csv(\"input/housing_prediction_scaled_y.csv\")['median_house_value']\n",
    "df_predict = pd.DataFrame({'Actual': y_actual, 'Predict': y_predict})\n",
    "df_predict['Absolute_Error'] = df_predict['Predict'] - df_predict['Actual']\n",
    "df_predict['Relative_Error'] = df_predict['Absolute_Error'] / df_predict['Actual']\n",
    "\n",
    "df_predict"
   ]
  },
  {
   "cell_type": "code",
   "execution_count": 73,
   "metadata": {},
   "outputs": [],
   "source": [
    "# Remove the model file\n",
    "import os\n",
    "os.remove(\"models/model_rs200.joblib\")\n",
    "assert not os.path.exists(\"models/model_rs200.joblib\")"
   ]
  },
  {
   "cell_type": "markdown",
   "metadata": {},
   "source": [
    "__Congratulations! You have done such a wonderful job that your model actually beats the experts. That should make your boss happy and consider offering you a raise.__"
   ]
  }
 ],
 "metadata": {
  "kernelspec": {
   "display_name": "Python 3",
   "language": "python",
   "name": "python3"
  },
  "language_info": {
   "codemirror_mode": {
    "name": "ipython",
    "version": 3
   },
   "file_extension": ".py",
   "mimetype": "text/x-python",
   "name": "python",
   "nbconvert_exporter": "python",
   "pygments_lexer": "ipython3",
   "version": "3.8.5"
  }
 },
 "nbformat": 4,
 "nbformat_minor": 4
}
